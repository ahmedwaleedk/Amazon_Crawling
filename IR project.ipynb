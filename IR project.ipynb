{
  "nbformat": 4,
  "nbformat_minor": 0,
  "metadata": {
    "colab": {
      "provenance": []
    },
    "kernelspec": {
      "name": "python3",
      "display_name": "Python 3"
    },
    "language_info": {
      "name": "python"
    }
  },
  "cells": [
    {
      "cell_type": "code",
      "execution_count": null,
      "metadata": {
        "colab": {
          "base_uri": "https://localhost:8080/"
        },
        "id": "E9kZKQIkfMS-",
        "outputId": "ac144b98-6478-4850-b1c6-63d3cb5891a6"
      },
      "outputs": [
        {
          "output_type": "stream",
          "name": "stdout",
          "text": [
            "User-agent: *\n",
            "Disallow: /exec/obidos/account-access-login\n",
            "Disallow: /exec/obidos/change-style\n",
            "Disallow: /exec/obidos/flex-sign-in\n",
            "Disallow: /exec/obidos/handle-buy-box\n",
            "Disallow: /exec/obidos/tg/cm/member/\n",
            "Disallow: /gp/aw/help/id=sss\n",
            "Disallow: /gp/cart\n",
            "Disallow: /gp/flex\n",
            "Disallow: /gp/product/e-mail-friend\n",
            "Disallow: /gp/product/product-availability\n",
            "Disallow: /gp/product/rate-this-item\n",
            "Disallow: /gp/sign-in\n",
            "Disallow: /gp/reader\n",
            "Disallow: /gp/sitbv3/reader\n",
            "Disallow: /gp/richpub/syltguides/create\n",
            "Disallow: /gp/gfix\n",
            "Disallow: /gp/associations/wizard.html\n",
            "Disallow: /gp/dmusic/order\n",
            "Disallow: /gp/legacy-handle-buy-box.html\n",
            "Disallow: /gp/aws/ssop\n",
            "Disallow: /gp/yourstore\n",
            "Disallow: /gp/gift-central/organizer/add-wishlist\n",
            "Disallow: /gp/vote\n",
            "Disallow: /gp/voting/\n",
            "Disallow: /gp/music/wma-pop-up\n",
            "Disallow: /gp/customer-images\n",
            "Disallow: /gp/richpub/listmania/createpipeline\n",
            "Disallow: /gp/content-form\n",
            "Disallow: /gp/pdp/invitation/invite\n",
            "Disallow: /gp/customer-reviews/common/du\n",
            "Disallow: /gp/customer-reviews/write-a-review.html\n",
            "Disallow: /gp/associations/wizard.html\n",
            "Disallow: /gp/music/clipserve\n",
            "Disallow: /gp/customer-media/upload\n",
            "Disallow: /gp/history\n",
            "Disallow: /gp/item-dispatch\n",
            "Disallow: /gp/dmusic/order/handle-buy-box.html\n",
            "Disallow: /gp/recsradio\n",
            "Disallow: /gp/slredirect\n",
            "Disallow: /dp/shipping/\n",
            "Disallow: /dp/twister-update/\n",
            "Disallow: /dp/manual-submit/\n",
            "Disallow: /dp/e-mail-friend/\n",
            "Disallow: /dp/product-availability/\n",
            "Disallow: /dp/rate-this-item/\n",
            "Disallow: /gp/registry/wishlist/*/reserve\n",
            "Disallow: /gp/structured-ratings/actions/get-experience.html\n",
            "Disallow: /gp/twitter/\n",
            "Disallow: /ap/signin\n",
            "Disallow: /gp/registry/wishlist/\n",
            "Disallow: /wishlist/\n",
            "Allow: /wishlist/universal*\n",
            "Allow: /wishlist/vendor-button*\n",
            "Allow: /wishlist/get-button*\n",
            "Disallow: /gp/wishlist/\n",
            "Allow: /gp/wishlist/universal*\n",
            "Allow: /gp/wishlist/vendor-button*\n",
            "Allow: /gp/wishlist/ipad-install*\n",
            "Disallow: /registry/wishlist/\n",
            "Disallow: /review/common/du\n",
            "Disallow: /gp/registry/search.html\n",
            "Disallow: /product-reviews/B0069IY63Y\n",
            "Disallow: /gp/orc/rml/\n",
            "Disallow: */gcrnsts\n",
            "Disallow: /gp/gc/widget\n",
            "Disallow: /gp/dmusic/mp3/player\n",
            "Disallow: /gp/entity-alert/external\n",
            "Disallow: /gp/customer-reviews/dynamic/sims-box\n",
            "Disallow: /review/dynamic/sims-box\n",
            "Disallow: /gp/redirect.html\n",
            "Disallow: /gp/twister/ajaxv2\n",
            "Disallow: /ss/twister/ajax\n",
            "Disallow: /b?*node=7454917011\n",
            "Disallow: /b?*node=7454927011\n",
            "Disallow: /b?*node=7454939011\n",
            "Disallow: /b?*node=7454898011\n",
            "Disallow: /gp/customer-media/actions/delete/\n",
            "Disallow: /gp/customer-media/actions/edit-caption/\n",
            "Disallow: /gp/dmusic/\n",
            "Allow: /gp/dmusic/promotions/PrimeMusic\n",
            "Allow: /gp/dmusic/promotions/AmazonMusicUnlimited\n",
            "Disallow: /gp/offer-listing/\n",
            "Disallow: /b?*node=9052533011\n",
            "Disallow: /lm/R1XIHQVKXSKBNJ\n",
            "Disallow: /lm/R3HQ5WJSZK6QSO\n",
            "Disallow: /surprise/\n",
            "Disallow: /local/ajax/\n",
            "Disallow: /gp/socialmedia/giveaways\n",
            "Disallow: /gp/b2b-rd\n",
            "Disallow: /gp/aw/so.html\n",
            "Disallow: /reviews/iframe\n",
            "Disallow: /gp/switch-language\n",
            "Disallow: /ga/p/\n",
            "Disallow: /gp/profile/\n",
            "Disallow: /giveaway/host/setup/\n",
            "Disallow: /ss/customer-reviews/lighthouse/\n",
            "Disallow: /ospublishing/story/*\n",
            "Disallow: /gp/aw/ol/\n",
            "Disallow: /gp/promotion/\n",
            "Disallow: /hz/leaderboard/top-reviewers/\n",
            "Disallow: /creatorhub\n",
            "Disallow: /creatorhub/*\n",
            "Disallow: /slp/s$\n",
            "Disallow: /-/\n",
            "Allow: /-/es/\n",
            "Allow: /-/en$\n",
            "Allow: /-/zh_TW/\n",
            "Allow: /-/zh_TW$\n",
            "Allow: /-/he/\n",
            "Allow: /-/he$\n",
            "Disallow: /hz/help/contact/*/message/$\n",
            "Disallow: /gp/aw/shoppingAids/\n",
            "Disallow: /rss/people/*/reviews\n",
            "Disallow: /gp/pdp/rss/*/reviews\n",
            "Disallow: /gp/cdp/member-reviews/\n",
            "Disallow: /gp/aw/cr/\n",
            "Allow: /gp/offer-listing/B000\n",
            "Allow: /gp/offer-listing/9000\n",
            "Disallow: /gp/aag\n",
            "Allow: /gp/aag/main?*seller=ABVFEJU8LS620\n",
            "Disallow: /gp/pdp/profile/\n",
            "Disallow: /gp/help/customer/express/c2c/\n",
            "Disallow: /slp/*/b$\n",
            "Disallow: /hz/contact-us/ajax/initiate-trusted-contact/\n",
            "Disallow: /hp/video/\n",
            "Disallow: /gp/video/api\n",
            "Disallow: /gp/video/settings\n",
            "Disallow: /gp/video/library\n",
            "Disallow: /gp/video/watchlist\n",
            "Disallow: /gp/video/mystuff\n",
            "Disallow: /gp/video/profiles\n",
            "Disallow: /gp/video/search\n",
            "Disallow: /gp/video/auth\n",
            "Disallow: /gp/video/salp/i\n",
            "\n",
            "User-agent: EtaoSpider\n",
            "Disallow: /\n",
            "\n",
            "User-agent: GPTBot\n",
            "Disallow: /\n",
            "\n",
            "\n",
            "User-agent: CCBot\n",
            "Disallow: /\n",
            "\n",
            "User-Agent: PerplexityBot\n",
            "Disallow: /\n"
          ]
        }
      ],
      "source": [
        "#Member 1\n",
        "import requests\n",
        "\n",
        "robots_url = \"https://www.amazon.com/robots.txt\"\n",
        "response = requests.get(robots_url)\n",
        "print(response.text)"
      ]
    },
    {
      "cell_type": "code",
      "source": [
        "#Member 1\n",
        "import urllib.robotparser\n",
        "\n",
        "# Load robots.txt from Amazon\n",
        "rp = urllib.robotparser.RobotFileParser()\n",
        "rp.set_url(\"https://www.amazon.com/robots.txt\")\n",
        "rp.read()\n",
        "\n",
        "# Example URL tests\n",
        "test_urls = [\n",
        "    \"https://www.amazon.com/gp/product/B09G3HRMVB\",       # Product page\n",
        "    \"https://www.amazon.com/gp/cart\",                     # Cart (blocked)\n",
        "    \"https://www.amazon.com/s?k=laptops\",                 # Search results\n",
        "    \"https://www.amazon.com/gp/help/customer/contact-us\", # Help page\n",
        "]\n",
        "\n",
        "user_agent = \"*\"\n",
        "\n",
        "for url in test_urls:\n",
        "    allowed = rp.can_fetch(user_agent, url)\n",
        "    print(f\"{'✅ ALLOWED' if allowed else '❌ DISALLOWED'}: {url}\")\n"
      ],
      "metadata": {
        "colab": {
          "base_uri": "https://localhost:8080/"
        },
        "id": "Kf1rljgvfUPV",
        "outputId": "80eca4c7-7df5-4e59-cae0-e35d2bd4c2ec"
      },
      "execution_count": null,
      "outputs": [
        {
          "output_type": "stream",
          "name": "stdout",
          "text": [
            "✅ ALLOWED: https://www.amazon.com/gp/product/B09G3HRMVB\n",
            "❌ DISALLOWED: https://www.amazon.com/gp/cart\n",
            "✅ ALLOWED: https://www.amazon.com/s?k=laptops\n",
            "✅ ALLOWED: https://www.amazon.com/gp/help/customer/contact-us\n"
          ]
        }
      ]
    },
    {
      "cell_type": "code",
      "source": [
        "# Step 1: Install dependencies\n",
        "!apt-get update\n",
        "!apt-get install -y chromium-browser # Install chromium-browser\n",
        "!pip install selenium pandas webdriver-manager # Install selenium, pandas, and webdriver-manager"
      ],
      "metadata": {
        "colab": {
          "base_uri": "https://localhost:8080/"
        },
        "id": "U3i4hbbd0xDo",
        "outputId": "bdba1217-cb1d-43a9-8272-b7a06c7d49bb"
      },
      "execution_count": null,
      "outputs": [
        {
          "output_type": "stream",
          "name": "stdout",
          "text": [
            "\r0% [Working]\r            \rHit:1 https://dl.google.com/linux/chrome/deb stable InRelease\n",
            "\r0% [Connecting to archive.ubuntu.com] [Connecting to security.ubuntu.com] [Conn\r                                                                               \rHit:2 https://cloud.r-project.org/bin/linux/ubuntu jammy-cran40/ InRelease\n",
            "Hit:3 https://developer.download.nvidia.com/compute/cuda/repos/ubuntu2204/x86_64  InRelease\n",
            "Hit:4 https://r2u.stat.illinois.edu/ubuntu jammy InRelease\n",
            "Hit:5 http://security.ubuntu.com/ubuntu jammy-security InRelease\n",
            "Hit:6 http://archive.ubuntu.com/ubuntu jammy InRelease\n",
            "Hit:7 http://archive.ubuntu.com/ubuntu jammy-updates InRelease\n",
            "Hit:8 http://archive.ubuntu.com/ubuntu jammy-backports InRelease\n",
            "Hit:9 https://ppa.launchpadcontent.net/deadsnakes/ppa/ubuntu jammy InRelease\n",
            "Hit:10 https://ppa.launchpadcontent.net/graphics-drivers/ppa/ubuntu jammy InRelease\n",
            "Hit:11 https://ppa.launchpadcontent.net/ubuntugis/ppa/ubuntu jammy InRelease\n",
            "Reading package lists... Done\n",
            "W: Skipping acquire of configured file 'main/source/Sources' as repository 'https://r2u.stat.illinois.edu/ubuntu jammy InRelease' does not seem to provide it (sources.list entry misspelt?)\n",
            "Reading package lists... Done\n",
            "Building dependency tree... Done\n",
            "Reading state information... Done\n",
            "chromium-browser is already the newest version (1:85.0.4183.83-0ubuntu2.22.04.1).\n",
            "0 upgraded, 0 newly installed, 0 to remove and 88 not upgraded.\n",
            "Requirement already satisfied: selenium in /usr/local/lib/python3.11/dist-packages (4.32.0)\n",
            "Requirement already satisfied: pandas in /usr/local/lib/python3.11/dist-packages (2.2.2)\n",
            "Requirement already satisfied: webdriver-manager in /usr/local/lib/python3.11/dist-packages (4.0.2)\n",
            "Requirement already satisfied: urllib3<3,>=1.26 in /usr/local/lib/python3.11/dist-packages (from urllib3[socks]<3,>=1.26->selenium) (2.4.0)\n",
            "Requirement already satisfied: trio~=0.17 in /usr/local/lib/python3.11/dist-packages (from selenium) (0.30.0)\n",
            "Requirement already satisfied: trio-websocket~=0.9 in /usr/local/lib/python3.11/dist-packages (from selenium) (0.12.2)\n",
            "Requirement already satisfied: certifi>=2021.10.8 in /usr/local/lib/python3.11/dist-packages (from selenium) (2025.4.26)\n",
            "Requirement already satisfied: typing_extensions~=4.9 in /usr/local/lib/python3.11/dist-packages (from selenium) (4.13.2)\n",
            "Requirement already satisfied: websocket-client~=1.8 in /usr/local/lib/python3.11/dist-packages (from selenium) (1.8.0)\n",
            "Requirement already satisfied: numpy>=1.23.2 in /usr/local/lib/python3.11/dist-packages (from pandas) (2.0.2)\n",
            "Requirement already satisfied: python-dateutil>=2.8.2 in /usr/local/lib/python3.11/dist-packages (from pandas) (2.9.0.post0)\n",
            "Requirement already satisfied: pytz>=2020.1 in /usr/local/lib/python3.11/dist-packages (from pandas) (2025.2)\n",
            "Requirement already satisfied: tzdata>=2022.7 in /usr/local/lib/python3.11/dist-packages (from pandas) (2025.2)\n",
            "Requirement already satisfied: requests in /usr/local/lib/python3.11/dist-packages (from webdriver-manager) (2.32.3)\n",
            "Requirement already satisfied: python-dotenv in /usr/local/lib/python3.11/dist-packages (from webdriver-manager) (1.1.0)\n",
            "Requirement already satisfied: packaging in /usr/local/lib/python3.11/dist-packages (from webdriver-manager) (24.2)\n",
            "Requirement already satisfied: six>=1.5 in /usr/local/lib/python3.11/dist-packages (from python-dateutil>=2.8.2->pandas) (1.17.0)\n",
            "Requirement already satisfied: attrs>=23.2.0 in /usr/local/lib/python3.11/dist-packages (from trio~=0.17->selenium) (25.3.0)\n",
            "Requirement already satisfied: sortedcontainers in /usr/local/lib/python3.11/dist-packages (from trio~=0.17->selenium) (2.4.0)\n",
            "Requirement already satisfied: idna in /usr/local/lib/python3.11/dist-packages (from trio~=0.17->selenium) (3.10)\n",
            "Requirement already satisfied: outcome in /usr/local/lib/python3.11/dist-packages (from trio~=0.17->selenium) (1.3.0.post0)\n",
            "Requirement already satisfied: sniffio>=1.3.0 in /usr/local/lib/python3.11/dist-packages (from trio~=0.17->selenium) (1.3.1)\n",
            "Requirement already satisfied: wsproto>=0.14 in /usr/local/lib/python3.11/dist-packages (from trio-websocket~=0.9->selenium) (1.2.0)\n",
            "Requirement already satisfied: pysocks!=1.5.7,<2.0,>=1.5.6 in /usr/local/lib/python3.11/dist-packages (from urllib3[socks]<3,>=1.26->selenium) (1.7.1)\n",
            "Requirement already satisfied: charset-normalizer<4,>=2 in /usr/local/lib/python3.11/dist-packages (from requests->webdriver-manager) (3.4.2)\n",
            "Requirement already satisfied: h11<1,>=0.9.0 in /usr/local/lib/python3.11/dist-packages (from wsproto>=0.14->trio-websocket~=0.9->selenium) (0.16.0)\n"
          ]
        }
      ]
    },
    {
      "cell_type": "code",
      "source": [
        "!pip install selenium fake-useragent webdriver-manager > /dev/null\n",
        "!apt-get update > /dev/null\n",
        "!apt install chromium-chromedriver > /dev/null"
      ],
      "metadata": {
        "colab": {
          "base_uri": "https://localhost:8080/"
        },
        "id": "wdZq7u7lDh50",
        "outputId": "585939ea-192a-45ef-afb5-766da0b1b1bd"
      },
      "execution_count": null,
      "outputs": [
        {
          "output_type": "stream",
          "name": "stdout",
          "text": [
            "W: Skipping acquire of configured file 'main/source/Sources' as repository 'https://r2u.stat.illinois.edu/ubuntu jammy InRelease' does not seem to provide it (sources.list entry misspelt?)\n",
            "\n",
            "WARNING: apt does not have a stable CLI interface. Use with caution in scripts.\n",
            "\n",
            "Requirement already satisfied: selenium in /usr/local/lib/python3.11/dist-packages (4.32.0)\n",
            "Requirement already satisfied: pandas in /usr/local/lib/python3.11/dist-packages (2.2.2)\n",
            "Requirement already satisfied: webdriver-manager in /usr/local/lib/python3.11/dist-packages (4.0.2)\n",
            "Requirement already satisfied: urllib3<3,>=1.26 in /usr/local/lib/python3.11/dist-packages (from urllib3[socks]<3,>=1.26->selenium) (2.4.0)\n",
            "Requirement already satisfied: trio~=0.17 in /usr/local/lib/python3.11/dist-packages (from selenium) (0.30.0)\n",
            "Requirement already satisfied: trio-websocket~=0.9 in /usr/local/lib/python3.11/dist-packages (from selenium) (0.12.2)\n",
            "Requirement already satisfied: certifi>=2021.10.8 in /usr/local/lib/python3.11/dist-packages (from selenium) (2025.4.26)\n",
            "Requirement already satisfied: typing_extensions~=4.9 in /usr/local/lib/python3.11/dist-packages (from selenium) (4.13.2)\n",
            "Requirement already satisfied: websocket-client~=1.8 in /usr/local/lib/python3.11/dist-packages (from selenium) (1.8.0)\n",
            "Requirement already satisfied: numpy>=1.23.2 in /usr/local/lib/python3.11/dist-packages (from pandas) (2.0.2)\n",
            "Requirement already satisfied: python-dateutil>=2.8.2 in /usr/local/lib/python3.11/dist-packages (from pandas) (2.9.0.post0)\n",
            "Requirement already satisfied: pytz>=2020.1 in /usr/local/lib/python3.11/dist-packages (from pandas) (2025.2)\n",
            "Requirement already satisfied: tzdata>=2022.7 in /usr/local/lib/python3.11/dist-packages (from pandas) (2025.2)\n",
            "Requirement already satisfied: requests in /usr/local/lib/python3.11/dist-packages (from webdriver-manager) (2.32.3)\n",
            "Requirement already satisfied: python-dotenv in /usr/local/lib/python3.11/dist-packages (from webdriver-manager) (1.1.0)\n",
            "Requirement already satisfied: packaging in /usr/local/lib/python3.11/dist-packages (from webdriver-manager) (24.2)\n",
            "Requirement already satisfied: six>=1.5 in /usr/local/lib/python3.11/dist-packages (from python-dateutil>=2.8.2->pandas) (1.17.0)\n",
            "Requirement already satisfied: attrs>=23.2.0 in /usr/local/lib/python3.11/dist-packages (from trio~=0.17->selenium) (25.3.0)\n",
            "Requirement already satisfied: sortedcontainers in /usr/local/lib/python3.11/dist-packages (from trio~=0.17->selenium) (2.4.0)\n",
            "Requirement already satisfied: idna in /usr/local/lib/python3.11/dist-packages (from trio~=0.17->selenium) (3.10)\n",
            "Requirement already satisfied: outcome in /usr/local/lib/python3.11/dist-packages (from trio~=0.17->selenium) (1.3.0.post0)\n",
            "Requirement already satisfied: sniffio>=1.3.0 in /usr/local/lib/python3.11/dist-packages (from trio~=0.17->selenium) (1.3.1)\n",
            "Requirement already satisfied: wsproto>=0.14 in /usr/local/lib/python3.11/dist-packages (from trio-websocket~=0.9->selenium) (1.2.0)\n",
            "Requirement already satisfied: pysocks!=1.5.7,<2.0,>=1.5.6 in /usr/local/lib/python3.11/dist-packages (from urllib3[socks]<3,>=1.26->selenium) (1.7.1)\n",
            "Requirement already satisfied: charset-normalizer<4,>=2 in /usr/local/lib/python3.11/dist-packages (from requests->webdriver-manager) (3.4.2)\n",
            "Requirement already satisfied: h11<1,>=0.9.0 in /usr/local/lib/python3.11/dist-packages (from wsproto>=0.14->trio-websocket~=0.9->selenium) (0.16.0)\n"
          ]
        }
      ]
    },
    {
      "cell_type": "code",
      "source": [
        "# ---------- IMPORT LIBRARIES ----------\n",
        "import os\n",
        "import time\n",
        "import csv\n",
        "import requests\n",
        "import pandas as pd\n",
        "from bs4 import BeautifulSoup\n",
        "\n",
        "from selenium import webdriver\n",
        "from selenium.webdriver.chrome.options import Options\n",
        "from selenium.webdriver.chrome.service import Service\n",
        "from selenium.webdriver.common.by import By\n",
        "from fake_useragent import UserAgent\n",
        "from webdriver_manager.chrome import ChromeDriverManager\n",
        "from google.colab import files\n",
        "\n",
        "# ---------- CONFIGURATION ----------\n",
        "SCRAPER_API_KEY = \"0ea79f2cc5a33a5fa5c555f9cb82e331\"\n",
        "keyword = \"laptops\"\n",
        "MAX_PAGES = 5\n",
        "HEADLESS = True\n",
        "\n",
        "headers = {\n",
        "    \"User-Agent\": (\n",
        "        \"Mozilla/5.0 (Windows NT 10.0; Win64; x64) \"\n",
        "        \"AppleWebKit/537.36 (KHTML, like Gecko) \"\n",
        "        \"Chrome/114.0.0.0 Safari/537.36\"\n",
        "    ),\n",
        "    \"Accept-Language\": \"en-US,en;q=0.9\"\n",
        "}\n",
        "\n",
        "# ---------- FUNCTION: Chrome Options ----------\n",
        "def get_user_agent():\n",
        "    try:\n",
        "        return UserAgent().random\n",
        "    except:\n",
        "        return headers[\"User-Agent\"]\n",
        "\n",
        "def get_chrome_options():\n",
        "    options = Options()\n",
        "    if HEADLESS:\n",
        "        options.add_argument('--headless')\n",
        "    options.add_argument('--no-sandbox')\n",
        "    options.add_argument('--disable-dev-shm-usage')\n",
        "    options.add_argument(f'user-agent={get_user_agent()}')\n",
        "    return options\n",
        "\n",
        "# ---------- FUNCTION: Scrape Product Details ----------\n",
        "def scrape_amazon_product(url):\n",
        "    options = get_chrome_options()\n",
        "    driver = webdriver.Chrome(service=Service(ChromeDriverManager().install()), options=options)\n",
        "    driver.get(url)\n",
        "    time.sleep(3)\n",
        "    soup = BeautifulSoup(driver.page_source, 'html.parser')\n",
        "    driver.quit()\n",
        "\n",
        "    name = soup.find(id='productTitle')\n",
        "    name = name.get_text(strip=True) if name else 'N/A'\n",
        "\n",
        "    price = soup.find('span', class_='a-offscreen')\n",
        "    price = price.get_text(strip=True) if price else 'N/A'\n",
        "\n",
        "    desc = soup.find('div', id='feature-bullets')\n",
        "    if desc:\n",
        "        description = ' '.join(b.get_text(strip=True) for b in desc.find_all('span') if b.get_text(strip=True))\n",
        "    else:\n",
        "        description = 'N/A'\n",
        "\n",
        "    return {\n",
        "        \"name\": name,\n",
        "        \"price\": price,\n",
        "        \"description\": description,\n",
        "        \"url\": url\n",
        "    }\n",
        "\n",
        "# ---------- FUNCTION: Scrape Search Pages ----------\n",
        "def get_search_result_links(keyword, max_pages=3):\n",
        "    links = []\n",
        "    for page in range(1, max_pages + 1):\n",
        "        amazon_url = f\"https://www.amazon.com/s?k={keyword}&page={page}\"\n",
        "        api_url = (\n",
        "            f\"http://api.scraperapi.com?api_key={SCRAPER_API_KEY}&url={amazon_url}&render=true\"\n",
        "        )\n",
        "\n",
        "        print(f\"\\n🌐 Visiting: {amazon_url}\")\n",
        "        try:\n",
        "            response = requests.get(api_url, headers=headers)\n",
        "            response.raise_for_status()\n",
        "        except requests.exceptions.RequestException as e:\n",
        "            print(f\"❌ Error fetching page {page}: {e}\")\n",
        "            continue\n",
        "\n",
        "        soup = BeautifulSoup(response.content, \"html.parser\")\n",
        "        results = soup.select(\"div.s-result-item[data-component-type='s-search-result']\")\n",
        "        print(f\"📦 Page {page}: {len(results)} results found\")\n",
        "\n",
        "        for product in results:\n",
        "            link_elem = product.select_one(\"a.a-link-normal.s-no-outline\")\n",
        "            if link_elem:\n",
        "                href = link_elem[\"href\"]\n",
        "                link = \"https://www.amazon.com\" + href if href.startswith(\"/\") else href\n",
        "                links.append(link)\n",
        "\n",
        "        time.sleep(2)  # polite scraping\n",
        "    return links\n",
        "\n",
        "# ---------- MAIN ----------\n",
        "def main():\n",
        "    print(f\"🔎 Searching for '{keyword}'...\")\n",
        "    product_links = get_search_result_links(keyword, MAX_PAGES)\n",
        "    print(f\"\\n🔗 Total links found: {len(product_links)}\")\n",
        "\n",
        "    all_data = []\n",
        "    for url in product_links:\n",
        "        print(f\"➡️ Scraping product: {url}\")\n",
        "        try:\n",
        "            data = scrape_amazon_product(url)\n",
        "            all_data.append(data)\n",
        "        except Exception as e:\n",
        "            print(f\"❌ Error scraping {url}: {e}\")\n",
        "\n",
        "    # Save to CSV\n",
        "    df = pd.DataFrame(all_data)\n",
        "    filename = f\"amazon_{keyword}_products_full.csv\"\n",
        "    df.to_csv(filename, index=False)\n",
        "    print(f\"\\n✅ Scraping complete! Saved {len(df)} products to '{filename}'\")\n",
        "    #print(df.head())\n",
        "\n",
        "    files.download(filename)\n",
        "\n",
        "# ---------- RUN ----------\n",
        "main()"
      ],
      "metadata": {
        "colab": {
          "base_uri": "https://localhost:8080/",
          "height": 1000
        },
        "id": "IbzU2D68DkKz",
        "outputId": "11971bb8-09f8-4474-d0cc-dd67efdbe38f"
      },
      "execution_count": null,
      "outputs": [
        {
          "output_type": "stream",
          "name": "stdout",
          "text": [
            "🔎 Searching for 'laptops'...\n",
            "\n",
            "🌐 Visiting: https://www.amazon.com/s?k=laptops&page=1\n",
            "📦 Page 1: 16 results found\n",
            "\n",
            "🌐 Visiting: https://www.amazon.com/s?k=laptops&page=2\n",
            "📦 Page 2: 16 results found\n",
            "\n",
            "🌐 Visiting: https://www.amazon.com/s?k=laptops&page=3\n",
            "📦 Page 3: 16 results found\n",
            "\n",
            "🌐 Visiting: https://www.amazon.com/s?k=laptops&page=4\n",
            "📦 Page 4: 16 results found\n",
            "\n",
            "🌐 Visiting: https://www.amazon.com/s?k=laptops&page=5\n",
            "📦 Page 5: 16 results found\n",
            "\n",
            "🔗 Total links found: 80\n",
            "➡️ Scraping product: https://www.amazon.com/Lenovo-Computer-Dual-Core-Processor-Bluetooth/dp/B0F7HJJN7Z/ref=sr_1_1?dib=eyJ2IjoiMSJ9.5q_H7wBxJs793UANJQGtOD5pAPsviXkSccLOLQ8OC4IySXs10xmhN7cLP5JFAdx7FUovM0Jv0b6Z2_F-zf98O1K4KSwIi_EtugI-RpvGQotVfPqeBh0uR-5gJbV3Lu46lIfK6qEvzFJUiev1DUTaMyxjHlKnQxUr6G98bNK3rsv-G_oZMSFPVEvqz6KJEm70IQF9gBys3b-99frnJalb0X3jcq3hKWRHgtVH6-ezlTg.M_rdgYO5YkaUS_2rkAj3CCVgrhSsOVW4aSdAVW2SHf0&dib_tag=se&keywords=laptops&qid=1747757864&sr=8-1\n",
            "➡️ Scraping product: https://www.amazon.com/A315-24P-R7VH-Display-Quad-Core-Processor-Graphics/dp/B0BS4BP8FB/ref=sr_1_2?dib=eyJ2IjoiMSJ9.5q_H7wBxJs793UANJQGtOD5pAPsviXkSccLOLQ8OC4IySXs10xmhN7cLP5JFAdx7FUovM0Jv0b6Z2_F-zf98O1K4KSwIi_EtugI-RpvGQotVfPqeBh0uR-5gJbV3Lu46lIfK6qEvzFJUiev1DUTaMyxjHlKnQxUr6G98bNK3rsv-G_oZMSFPVEvqz6KJEm70IQF9gBys3b-99frnJalb0X3jcq3hKWRHgtVH6-ezlTg.M_rdgYO5YkaUS_2rkAj3CCVgrhSsOVW4aSdAVW2SHf0&dib_tag=se&keywords=laptops&qid=1747757864&sr=8-2\n",
            "➡️ Scraping product: https://www.amazon.com/HP-Business-Laptop-14-Inch/dp/B0F6WBK6W5/ref=sr_1_3?dib=eyJ2IjoiMSJ9.5q_H7wBxJs793UANJQGtOD5pAPsviXkSccLOLQ8OC4IySXs10xmhN7cLP5JFAdx7FUovM0Jv0b6Z2_F-zf98O1K4KSwIi_EtugI-RpvGQotVfPqeBh0uR-5gJbV3Lu46lIfK6qEvzFJUiev1DUTaMyxjHlKnQxUr6G98bNK3rsv-G_oZMSFPVEvqz6KJEm70IQF9gBys3b-99frnJalb0X3jcq3hKWRHgtVH6-ezlTg.M_rdgYO5YkaUS_2rkAj3CCVgrhSsOVW4aSdAVW2SHf0&dib_tag=se&keywords=laptops&qid=1747757864&sr=8-3\n",
            "➡️ Scraping product: https://www.amazon.com/SGIN-Windows-Computer-60800mWh-Business/dp/B0F24RWCHF/ref=sr_1_4?dib=eyJ2IjoiMSJ9.5q_H7wBxJs793UANJQGtOD5pAPsviXkSccLOLQ8OC4IySXs10xmhN7cLP5JFAdx7FUovM0Jv0b6Z2_F-zf98O1K4KSwIi_EtugI-RpvGQotVfPqeBh0uR-5gJbV3Lu46lIfK6qEvzFJUiev1DUTaMyxjHlKnQxUr6G98bNK3rsv-G_oZMSFPVEvqz6KJEm70IQF9gBys3b-99frnJalb0X3jcq3hKWRHgtVH6-ezlTg.M_rdgYO5YkaUS_2rkAj3CCVgrhSsOVW4aSdAVW2SHf0&dib_tag=se&keywords=laptops&qid=1747757864&sr=8-4\n",
            "➡️ Scraping product: https://www.amazon.com/HP-Micro-edge-Microsoft-14-dq0040nr-Snowflake/dp/B0947BJ67M/ref=sr_1_5?dib=eyJ2IjoiMSJ9.5q_H7wBxJs793UANJQGtOD5pAPsviXkSccLOLQ8OC4IySXs10xmhN7cLP5JFAdx7FUovM0Jv0b6Z2_F-zf98O1K4KSwIi_EtugI-RpvGQotVfPqeBh0uR-5gJbV3Lu46lIfK6qEvzFJUiev1DUTaMyxjHlKnQxUr6G98bNK3rsv-G_oZMSFPVEvqz6KJEm70IQF9gBys3b-99frnJalb0X3jcq3hKWRHgtVH6-ezlTg.M_rdgYO5YkaUS_2rkAj3CCVgrhSsOVW4aSdAVW2SHf0&dib_tag=se&keywords=laptops&qid=1747757864&sr=8-5\n",
            "➡️ Scraping product: https://www.amazon.com/HP-255-i5-1135G7-Windows-Business/dp/B0DCSYTVDD/ref=sr_1_6?dib=eyJ2IjoiMSJ9.5q_H7wBxJs793UANJQGtOD5pAPsviXkSccLOLQ8OC4IySXs10xmhN7cLP5JFAdx7FUovM0Jv0b6Z2_F-zf98O1K4KSwIi_EtugI-RpvGQotVfPqeBh0uR-5gJbV3Lu46lIfK6qEvzFJUiev1DUTaMyxjHlKnQxUr6G98bNK3rsv-G_oZMSFPVEvqz6KJEm70IQF9gBys3b-99frnJalb0X3jcq3hKWRHgtVH6-ezlTg.M_rdgYO5YkaUS_2rkAj3CCVgrhSsOVW4aSdAVW2SHf0&dib_tag=se&keywords=laptops&qid=1747757864&sr=8-6\n",
            "➡️ Scraping product: https://www.amazon.com/HP-Touchscreen-i3-1215U-Graphics-Business/dp/B0F381YMML/ref=sr_1_7?dib=eyJ2IjoiMSJ9.5q_H7wBxJs793UANJQGtOD5pAPsviXkSccLOLQ8OC4IySXs10xmhN7cLP5JFAdx7FUovM0Jv0b6Z2_F-zf98O1K4KSwIi_EtugI-RpvGQotVfPqeBh0uR-5gJbV3Lu46lIfK6qEvzFJUiev1DUTaMyxjHlKnQxUr6G98bNK3rsv-G_oZMSFPVEvqz6KJEm70IQF9gBys3b-99frnJalb0X3jcq3hKWRHgtVH6-ezlTg.M_rdgYO5YkaUS_2rkAj3CCVgrhSsOVW4aSdAVW2SHf0&dib_tag=se&keywords=laptops&qid=1747757864&sr=8-7\n",
            "➡️ Scraping product: https://www.amazon.com/HP-Students-Business-Quad-Core-Storage/dp/B0B2D77YB8/ref=sr_1_8?dib=eyJ2IjoiMSJ9.5q_H7wBxJs793UANJQGtOD5pAPsviXkSccLOLQ8OC4IySXs10xmhN7cLP5JFAdx7FUovM0Jv0b6Z2_F-zf98O1K4KSwIi_EtugI-RpvGQotVfPqeBh0uR-5gJbV3Lu46lIfK6qEvzFJUiev1DUTaMyxjHlKnQxUr6G98bNK3rsv-G_oZMSFPVEvqz6KJEm70IQF9gBys3b-99frnJalb0X3jcq3hKWRHgtVH6-ezlTg.M_rdgYO5YkaUS_2rkAj3CCVgrhSsOVW4aSdAVW2SHf0&dib_tag=se&keywords=laptops&qid=1747757864&sr=8-8\n",
            "➡️ Scraping product: https://www.amazon.com/Lenovo-IdeaPad-Display-Processor-Additional/dp/B0D74GBJ1L/ref=sr_1_9?dib=eyJ2IjoiMSJ9.5q_H7wBxJs793UANJQGtOD5pAPsviXkSccLOLQ8OC4IySXs10xmhN7cLP5JFAdx7FUovM0Jv0b6Z2_F-zf98O1K4KSwIi_EtugI-RpvGQotVfPqeBh0uR-5gJbV3Lu46lIfK6qEvzFJUiev1DUTaMyxjHlKnQxUr6G98bNK3rsv-G_oZMSFPVEvqz6KJEm70IQF9gBys3b-99frnJalb0X3jcq3hKWRHgtVH6-ezlTg.M_rdgYO5YkaUS_2rkAj3CCVgrhSsOVW4aSdAVW2SHf0&dib_tag=se&keywords=laptops&qid=1747757864&sr=8-9\n",
            "➡️ Scraping product: https://www.amazon.com/HP-Business-Microsoft-Lifetime-Touchscreen/dp/B0CWN27G3V/ref=sr_1_10?dib=eyJ2IjoiMSJ9.5q_H7wBxJs793UANJQGtOD5pAPsviXkSccLOLQ8OC4IySXs10xmhN7cLP5JFAdx7FUovM0Jv0b6Z2_F-zf98O1K4KSwIi_EtugI-RpvGQotVfPqeBh0uR-5gJbV3Lu46lIfK6qEvzFJUiev1DUTaMyxjHlKnQxUr6G98bNK3rsv-G_oZMSFPVEvqz6KJEm70IQF9gBys3b-99frnJalb0X3jcq3hKWRHgtVH6-ezlTg.M_rdgYO5YkaUS_2rkAj3CCVgrhSsOVW4aSdAVW2SHf0&dib_tag=se&keywords=laptops&qid=1747757864&sr=8-10\n",
            "➡️ Scraping product: https://www.amazon.com/Dell-Inspiron-Touchscreen-i5-1155G7-Processor/dp/B0CTPCTW66/ref=sr_1_11?dib=eyJ2IjoiMSJ9.5q_H7wBxJs793UANJQGtOD5pAPsviXkSccLOLQ8OC4IySXs10xmhN7cLP5JFAdx7FUovM0Jv0b6Z2_F-zf98O1K4KSwIi_EtugI-RpvGQotVfPqeBh0uR-5gJbV3Lu46lIfK6qEvzFJUiev1DUTaMyxjHlKnQxUr6G98bNK3rsv-G_oZMSFPVEvqz6KJEm70IQF9gBys3b-99frnJalb0X3jcq3hKWRHgtVH6-ezlTg.M_rdgYO5YkaUS_2rkAj3CCVgrhSsOVW4aSdAVW2SHf0&dib_tag=se&keywords=laptops&qid=1747757864&sr=8-11\n",
            "➡️ Scraping product: https://www.amazon.com/LENOVO-IdeaPad-Display-Celeron-Processor/dp/B0CQN3FDH5/ref=sr_1_12?dib=eyJ2IjoiMSJ9.5q_H7wBxJs793UANJQGtOD5pAPsviXkSccLOLQ8OC4IySXs10xmhN7cLP5JFAdx7FUovM0Jv0b6Z2_F-zf98O1K4KSwIi_EtugI-RpvGQotVfPqeBh0uR-5gJbV3Lu46lIfK6qEvzFJUiev1DUTaMyxjHlKnQxUr6G98bNK3rsv-G_oZMSFPVEvqz6KJEm70IQF9gBys3b-99frnJalb0X3jcq3hKWRHgtVH6-ezlTg.M_rdgYO5YkaUS_2rkAj3CCVgrhSsOVW4aSdAVW2SHf0&dib_tag=se&keywords=laptops&qid=1747757864&sr=8-12\n",
            "➡️ Scraping product: https://www.amazon.com/Intel-Celeron-N4020-14-Inch-Laptop/dp/B09YRY6QCX/ref=sr_1_13?dib=eyJ2IjoiMSJ9.5q_H7wBxJs793UANJQGtOD5pAPsviXkSccLOLQ8OC4IySXs10xmhN7cLP5JFAdx7FUovM0Jv0b6Z2_F-zf98O1K4KSwIi_EtugI-RpvGQotVfPqeBh0uR-5gJbV3Lu46lIfK6qEvzFJUiev1DUTaMyxjHlKnQxUr6G98bNK3rsv-G_oZMSFPVEvqz6KJEm70IQF9gBys3b-99frnJalb0X3jcq3hKWRHgtVH6-ezlTg.M_rdgYO5YkaUS_2rkAj3CCVgrhSsOVW4aSdAVW2SHf0&dib_tag=se&keywords=laptops&qid=1747757864&sr=8-13\n",
            "➡️ Scraping product: https://www.amazon.com/HP-Portable-Microsoft-Quad-Core-Business/dp/B0CHHMH36M/ref=sr_1_14?dib=eyJ2IjoiMSJ9.5q_H7wBxJs793UANJQGtOD5pAPsviXkSccLOLQ8OC4IySXs10xmhN7cLP5JFAdx7FUovM0Jv0b6Z2_F-zf98O1K4KSwIi_EtugI-RpvGQotVfPqeBh0uR-5gJbV3Lu46lIfK6qEvzFJUiev1DUTaMyxjHlKnQxUr6G98bNK3rsv-G_oZMSFPVEvqz6KJEm70IQF9gBys3b-99frnJalb0X3jcq3hKWRHgtVH6-ezlTg.M_rdgYO5YkaUS_2rkAj3CCVgrhSsOVW4aSdAVW2SHf0&dib_tag=se&keywords=laptops&qid=1747757864&sr=8-14\n",
            "➡️ Scraping product: https://www.amazon.com/Apple-2025-MacBook-13-inch-Laptop/dp/B0DZDCPMGK/ref=sr_1_15?dib=eyJ2IjoiMSJ9.5q_H7wBxJs793UANJQGtOD5pAPsviXkSccLOLQ8OC4IySXs10xmhN7cLP5JFAdx7FUovM0Jv0b6Z2_F-zf98O1K4KSwIi_EtugI-RpvGQotVfPqeBh0uR-5gJbV3Lu46lIfK6qEvzFJUiev1DUTaMyxjHlKnQxUr6G98bNK3rsv-G_oZMSFPVEvqz6KJEm70IQF9gBys3b-99frnJalb0X3jcq3hKWRHgtVH6-ezlTg.M_rdgYO5YkaUS_2rkAj3CCVgrhSsOVW4aSdAVW2SHf0&dib_tag=se&keywords=laptops&qid=1747757864&sr=8-15\n",
            "➡️ Scraping product: https://www.amazon.com/Dell-Inspiron-15-Touchscreen-Laptop-Computer/dp/B0F5WS5HYW/ref=sr_1_16?dib=eyJ2IjoiMSJ9.5q_H7wBxJs793UANJQGtOD5pAPsviXkSccLOLQ8OC4IySXs10xmhN7cLP5JFAdx7FUovM0Jv0b6Z2_F-zf98O1K4KSwIi_EtugI-RpvGQotVfPqeBh0uR-5gJbV3Lu46lIfK6qEvzFJUiev1DUTaMyxjHlKnQxUr6G98bNK3rsv-G_oZMSFPVEvqz6KJEm70IQF9gBys3b-99frnJalb0X3jcq3hKWRHgtVH6-ezlTg.M_rdgYO5YkaUS_2rkAj3CCVgrhSsOVW4aSdAVW2SHf0&dib_tag=se&keywords=laptops&qid=1747757864&sr=8-16\n",
            "➡️ Scraping product: https://www.amazon.com/Dell-Inspiron-Touchscreen-i5-1155G7-Processor/dp/B0CTPCTW66/ref=sr_1_17?dib=eyJ2IjoiMSJ9.avTGZeNmrACMNygN7wCvshctPWfcg0WGbptKtp2I596kqQ8YOJk8elS85yePzSY_5hf9peqB9VDLe5Q_MNvCY2HEBdG184vLU2ODe5U0BszIvr7t4M2oA94ihOelXR39ehIj-fmYx6s-0NWKdTp2r1rZZgf0iQ99Ii5osmi6BN5Zh26TtBj4E6S9Mo1FMKSER6Rt_uSL3mFCjWwMuDmbPfGOA9WYVRxp6vtkHbUGlrU.cqQjcnR-l7LFWqcRpMO0Qc3FMf0gt9clmZ_iwImZKtg&dib_tag=se&keywords=laptops&qid=1747757870&sr=8-17\n",
            "➡️ Scraping product: https://www.amazon.com/HP-Lightweight-Chromebook-14-Super-Fast/dp/B0F2QZGDLL/ref=sr_1_18?dib=eyJ2IjoiMSJ9.avTGZeNmrACMNygN7wCvshctPWfcg0WGbptKtp2I596kqQ8YOJk8elS85yePzSY_5hf9peqB9VDLe5Q_MNvCY2HEBdG184vLU2ODe5U0BszIvr7t4M2oA94ihOelXR39ehIj-fmYx6s-0NWKdTp2r1rZZgf0iQ99Ii5osmi6BN5Zh26TtBj4E6S9Mo1FMKSER6Rt_uSL3mFCjWwMuDmbPfGOA9WYVRxp6vtkHbUGlrU.cqQjcnR-l7LFWqcRpMO0Qc3FMf0gt9clmZ_iwImZKtg&dib_tag=se&keywords=laptops&qid=1747757870&sr=8-18\n",
            "➡️ Scraping product: https://www.amazon.com/ASUS-Lightweight-15-5-Laptop-Processor/dp/B0D6PHQVSV/ref=sr_1_19?dib=eyJ2IjoiMSJ9.avTGZeNmrACMNygN7wCvshctPWfcg0WGbptKtp2I596kqQ8YOJk8elS85yePzSY_5hf9peqB9VDLe5Q_MNvCY2HEBdG184vLU2ODe5U0BszIvr7t4M2oA94ihOelXR39ehIj-fmYx6s-0NWKdTp2r1rZZgf0iQ99Ii5osmi6BN5Zh26TtBj4E6S9Mo1FMKSER6Rt_uSL3mFCjWwMuDmbPfGOA9WYVRxp6vtkHbUGlrU.cqQjcnR-l7LFWqcRpMO0Qc3FMf0gt9clmZ_iwImZKtg&dib_tag=se&keywords=laptops&qid=1747757870&sr=8-19\n",
            "➡️ Scraping product: https://www.amazon.com/KAIGERR-Computer-Windows-Traditional-Laptops/dp/B0F5425VL3/ref=sr_1_20?dib=eyJ2IjoiMSJ9.avTGZeNmrACMNygN7wCvshctPWfcg0WGbptKtp2I596kqQ8YOJk8elS85yePzSY_5hf9peqB9VDLe5Q_MNvCY2HEBdG184vLU2ODe5U0BszIvr7t4M2oA94ihOelXR39ehIj-fmYx6s-0NWKdTp2r1rZZgf0iQ99Ii5osmi6BN5Zh26TtBj4E6S9Mo1FMKSER6Rt_uSL3mFCjWwMuDmbPfGOA9WYVRxp6vtkHbUGlrU.cqQjcnR-l7LFWqcRpMO0Qc3FMf0gt9clmZ_iwImZKtg&dib_tag=se&keywords=laptops&qid=1747757870&sr=8-20\n",
            "➡️ Scraping product: https://www.amazon.com/HP-Pavilion-Touchscreen-Anti-Glare-Processor/dp/B0C4G4L53W/ref=sr_1_21?dib=eyJ2IjoiMSJ9.avTGZeNmrACMNygN7wCvshctPWfcg0WGbptKtp2I596kqQ8YOJk8elS85yePzSY_5hf9peqB9VDLe5Q_MNvCY2HEBdG184vLU2ODe5U0BszIvr7t4M2oA94ihOelXR39ehIj-fmYx6s-0NWKdTp2r1rZZgf0iQ99Ii5osmi6BN5Zh26TtBj4E6S9Mo1FMKSER6Rt_uSL3mFCjWwMuDmbPfGOA9WYVRxp6vtkHbUGlrU.cqQjcnR-l7LFWqcRpMO0Qc3FMf0gt9clmZ_iwImZKtg&dib_tag=se&keywords=laptops&qid=1747757870&sr=8-21\n",
            "➡️ Scraping product: https://www.amazon.com/Dell-Inspiron-15-Touchscreen-Laptop-Computer/dp/B0F5WS5HYW/ref=sr_1_22?dib=eyJ2IjoiMSJ9.avTGZeNmrACMNygN7wCvshctPWfcg0WGbptKtp2I596kqQ8YOJk8elS85yePzSY_5hf9peqB9VDLe5Q_MNvCY2HEBdG184vLU2ODe5U0BszIvr7t4M2oA94ihOelXR39ehIj-fmYx6s-0NWKdTp2r1rZZgf0iQ99Ii5osmi6BN5Zh26TtBj4E6S9Mo1FMKSER6Rt_uSL3mFCjWwMuDmbPfGOA9WYVRxp6vtkHbUGlrU.cqQjcnR-l7LFWqcRpMO0Qc3FMf0gt9clmZ_iwImZKtg&dib_tag=se&keywords=laptops&qid=1747757870&sr=8-22\n",
            "➡️ Scraping product: https://www.amazon.com/HP-Laptop-Quad-core-Processor-Recovery/dp/B0DVVRSX3B/ref=sr_1_23?dib=eyJ2IjoiMSJ9.avTGZeNmrACMNygN7wCvshctPWfcg0WGbptKtp2I596kqQ8YOJk8elS85yePzSY_5hf9peqB9VDLe5Q_MNvCY2HEBdG184vLU2ODe5U0BszIvr7t4M2oA94ihOelXR39ehIj-fmYx6s-0NWKdTp2r1rZZgf0iQ99Ii5osmi6BN5Zh26TtBj4E6S9Mo1FMKSER6Rt_uSL3mFCjWwMuDmbPfGOA9WYVRxp6vtkHbUGlrU.cqQjcnR-l7LFWqcRpMO0Qc3FMf0gt9clmZ_iwImZKtg&dib_tag=se&keywords=laptops&qid=1747757870&sr=8-23\n",
            "➡️ Scraping product: https://www.amazon.com/Apple-11-6-Inch-Integrated-Graphics-Refurbished/dp/B07CCM5X58/ref=sr_1_24?dib=eyJ2IjoiMSJ9.avTGZeNmrACMNygN7wCvshctPWfcg0WGbptKtp2I596kqQ8YOJk8elS85yePzSY_5hf9peqB9VDLe5Q_MNvCY2HEBdG184vLU2ODe5U0BszIvr7t4M2oA94ihOelXR39ehIj-fmYx6s-0NWKdTp2r1rZZgf0iQ99Ii5osmi6BN5Zh26TtBj4E6S9Mo1FMKSER6Rt_uSL3mFCjWwMuDmbPfGOA9WYVRxp6vtkHbUGlrU.cqQjcnR-l7LFWqcRpMO0Qc3FMf0gt9clmZ_iwImZKtg&dib_tag=se&keywords=laptops&qid=1747757870&sr=8-24\n",
            "➡️ Scraping product: https://www.amazon.com/Lenovo-V15-Processor-Durability-Anti-Glare/dp/B0DX3T2CXS/ref=sr_1_25?dib=eyJ2IjoiMSJ9.avTGZeNmrACMNygN7wCvshctPWfcg0WGbptKtp2I596kqQ8YOJk8elS85yePzSY_5hf9peqB9VDLe5Q_MNvCY2HEBdG184vLU2ODe5U0BszIvr7t4M2oA94ihOelXR39ehIj-fmYx6s-0NWKdTp2r1rZZgf0iQ99Ii5osmi6BN5Zh26TtBj4E6S9Mo1FMKSER6Rt_uSL3mFCjWwMuDmbPfGOA9WYVRxp6vtkHbUGlrU.cqQjcnR-l7LFWqcRpMO0Qc3FMf0gt9clmZ_iwImZKtg&dib_tag=se&keywords=laptops&qid=1747757870&sr=8-25\n",
            "➡️ Scraping product: https://www.amazon.com/ASUS-Display-NVIDIA%C2%AE-i7-13650HX-G614JV-AS74/dp/B0CRDCXRK2/ref=sr_1_26?dib=eyJ2IjoiMSJ9.avTGZeNmrACMNygN7wCvshctPWfcg0WGbptKtp2I596kqQ8YOJk8elS85yePzSY_5hf9peqB9VDLe5Q_MNvCY2HEBdG184vLU2ODe5U0BszIvr7t4M2oA94ihOelXR39ehIj-fmYx6s-0NWKdTp2r1rZZgf0iQ99Ii5osmi6BN5Zh26TtBj4E6S9Mo1FMKSER6Rt_uSL3mFCjWwMuDmbPfGOA9WYVRxp6vtkHbUGlrU.cqQjcnR-l7LFWqcRpMO0Qc3FMf0gt9clmZ_iwImZKtg&dib_tag=se&keywords=laptops&qid=1747757870&sr=8-26\n",
            "➡️ Scraping product: https://www.amazon.com/15-6-FHD-Laptop-Student-Laptop-Quad-Core-Fingerprint-Business-Laptop/dp/B0DRVV3H89/ref=sr_1_27?dib=eyJ2IjoiMSJ9.avTGZeNmrACMNygN7wCvshctPWfcg0WGbptKtp2I596kqQ8YOJk8elS85yePzSY_5hf9peqB9VDLe5Q_MNvCY2HEBdG184vLU2ODe5U0BszIvr7t4M2oA94ihOelXR39ehIj-fmYx6s-0NWKdTp2r1rZZgf0iQ99Ii5osmi6BN5Zh26TtBj4E6S9Mo1FMKSER6Rt_uSL3mFCjWwMuDmbPfGOA9WYVRxp6vtkHbUGlrU.cqQjcnR-l7LFWqcRpMO0Qc3FMf0gt9clmZ_iwImZKtg&dib_tag=se&keywords=laptops&qid=1747757870&sr=8-27\n",
            "➡️ Scraping product: https://www.amazon.com/UOWAMOU-15-6-inch-Computer-Fingerprint-Lightweight/dp/B0DBZ5SL9T/ref=sr_1_28?dib=eyJ2IjoiMSJ9.avTGZeNmrACMNygN7wCvshctPWfcg0WGbptKtp2I596kqQ8YOJk8elS85yePzSY_5hf9peqB9VDLe5Q_MNvCY2HEBdG184vLU2ODe5U0BszIvr7t4M2oA94ihOelXR39ehIj-fmYx6s-0NWKdTp2r1rZZgf0iQ99Ii5osmi6BN5Zh26TtBj4E6S9Mo1FMKSER6Rt_uSL3mFCjWwMuDmbPfGOA9WYVRxp6vtkHbUGlrU.cqQjcnR-l7LFWqcRpMO0Qc3FMf0gt9clmZ_iwImZKtg&dib_tag=se&keywords=laptops&qid=1747757870&sr=8-28\n",
            "➡️ Scraping product: https://www.amazon.com/KAIGERR-Computer-Quad-Core-Processor-Windows/dp/B0F3CVDRCG/ref=sr_1_29?dib=eyJ2IjoiMSJ9.avTGZeNmrACMNygN7wCvshctPWfcg0WGbptKtp2I596kqQ8YOJk8elS85yePzSY_5hf9peqB9VDLe5Q_MNvCY2HEBdG184vLU2ODe5U0BszIvr7t4M2oA94ihOelXR39ehIj-fmYx6s-0NWKdTp2r1rZZgf0iQ99Ii5osmi6BN5Zh26TtBj4E6S9Mo1FMKSER6Rt_uSL3mFCjWwMuDmbPfGOA9WYVRxp6vtkHbUGlrU.cqQjcnR-l7LFWqcRpMO0Qc3FMf0gt9clmZ_iwImZKtg&dib_tag=se&keywords=laptops&qid=1747757870&sr=8-29\n",
            "➡️ Scraping product: https://www.amazon.com/Lenovo-V15-Business-Display-Numeric/dp/B0D3JLHQ8K/ref=sr_1_30?dib=eyJ2IjoiMSJ9.avTGZeNmrACMNygN7wCvshctPWfcg0WGbptKtp2I596kqQ8YOJk8elS85yePzSY_5hf9peqB9VDLe5Q_MNvCY2HEBdG184vLU2ODe5U0BszIvr7t4M2oA94ihOelXR39ehIj-fmYx6s-0NWKdTp2r1rZZgf0iQ99Ii5osmi6BN5Zh26TtBj4E6S9Mo1FMKSER6Rt_uSL3mFCjWwMuDmbPfGOA9WYVRxp6vtkHbUGlrU.cqQjcnR-l7LFWqcRpMO0Qc3FMf0gt9clmZ_iwImZKtg&dib_tag=se&keywords=laptops&qid=1747757870&sr=8-30\n",
            "➡️ Scraping product: https://www.amazon.com/HP-Chromebook-Graphics-Keyboard-14a-na0226nr/dp/B09SVSBVP1/ref=sr_1_31?dib=eyJ2IjoiMSJ9.avTGZeNmrACMNygN7wCvshctPWfcg0WGbptKtp2I596kqQ8YOJk8elS85yePzSY_5hf9peqB9VDLe5Q_MNvCY2HEBdG184vLU2ODe5U0BszIvr7t4M2oA94ihOelXR39ehIj-fmYx6s-0NWKdTp2r1rZZgf0iQ99Ii5osmi6BN5Zh26TtBj4E6S9Mo1FMKSER6Rt_uSL3mFCjWwMuDmbPfGOA9WYVRxp6vtkHbUGlrU.cqQjcnR-l7LFWqcRpMO0Qc3FMf0gt9clmZ_iwImZKtg&dib_tag=se&keywords=laptops&qid=1747757870&sr=8-31\n",
            "➡️ Scraping product: https://www.amazon.com/HP-Computer-Business-Storage-Lifetime/dp/B0DT9533VR/ref=sr_1_32?dib=eyJ2IjoiMSJ9.avTGZeNmrACMNygN7wCvshctPWfcg0WGbptKtp2I596kqQ8YOJk8elS85yePzSY_5hf9peqB9VDLe5Q_MNvCY2HEBdG184vLU2ODe5U0BszIvr7t4M2oA94ihOelXR39ehIj-fmYx6s-0NWKdTp2r1rZZgf0iQ99Ii5osmi6BN5Zh26TtBj4E6S9Mo1FMKSER6Rt_uSL3mFCjWwMuDmbPfGOA9WYVRxp6vtkHbUGlrU.cqQjcnR-l7LFWqcRpMO0Qc3FMf0gt9clmZ_iwImZKtg&dib_tag=se&keywords=laptops&qid=1747757870&sr=8-32\n",
            "➡️ Scraping product: https://www.amazon.com/HP-Processor-Bluetooth-Alpacatec-Accessories/dp/B0DZ232N3V/ref=sr_1_33?dib=eyJ2IjoiMSJ9.8QKJIjAfTLUk__2ci2VuIGIEJ516vvns-3PbaPAPJq4jnXUszwXia4Td7mWeAoukJIEfl2eT8zR6x08BU7uo19hRFEf47ovp9yuU-Axwotej_kolHTPDfgnLzIaz-GzzA1jYQJvbd9LGCM416UNh2AFt6XDDPCrJUOrktm9-RQdyrh1DdqmBkoxuuodkCEbWwXkkLEBp87fj8gf4tgJlYoV2XFKLtV1G7_ENAR3X3kI.E9Dlxo4wUnksu4VhD-MUJhjxYg3GqqqMCrq4J47ccaE&dib_tag=se&keywords=laptops&qid=1747757874&sr=8-33\n",
            "➡️ Scraping product: https://www.amazon.com/Dell-Inspiron-Computer-Processor-Microsoft/dp/B0DNRKT2NV/ref=sr_1_34?dib=eyJ2IjoiMSJ9.8QKJIjAfTLUk__2ci2VuIGIEJ516vvns-3PbaPAPJq4jnXUszwXia4Td7mWeAoukJIEfl2eT8zR6x08BU7uo19hRFEf47ovp9yuU-Axwotej_kolHTPDfgnLzIaz-GzzA1jYQJvbd9LGCM416UNh2AFt6XDDPCrJUOrktm9-RQdyrh1DdqmBkoxuuodkCEbWwXkkLEBp87fj8gf4tgJlYoV2XFKLtV1G7_ENAR3X3kI.E9Dlxo4wUnksu4VhD-MUJhjxYg3GqqqMCrq4J47ccaE&dib_tag=se&keywords=laptops&qid=1747757874&sr=8-34\n",
            "➡️ Scraping product: https://www.amazon.com/UOWAMOU-15-6-inch-Computer-Fingerprint-Lightweight/dp/B0DBZ5SL9T/ref=sr_1_35?dib=eyJ2IjoiMSJ9.8QKJIjAfTLUk__2ci2VuIGIEJ516vvns-3PbaPAPJq4jnXUszwXia4Td7mWeAoukJIEfl2eT8zR6x08BU7uo19hRFEf47ovp9yuU-Axwotej_kolHTPDfgnLzIaz-GzzA1jYQJvbd9LGCM416UNh2AFt6XDDPCrJUOrktm9-RQdyrh1DdqmBkoxuuodkCEbWwXkkLEBp87fj8gf4tgJlYoV2XFKLtV1G7_ENAR3X3kI.E9Dlxo4wUnksu4VhD-MUJhjxYg3GqqqMCrq4J47ccaE&dib_tag=se&keywords=laptops&qid=1747757874&sr=8-35\n",
            "➡️ Scraping product: https://www.amazon.com/Lenovo-V15-Business-Display-Numeric/dp/B0D3JLHQ8K/ref=sr_1_36?dib=eyJ2IjoiMSJ9.8QKJIjAfTLUk__2ci2VuIGIEJ516vvns-3PbaPAPJq4jnXUszwXia4Td7mWeAoukJIEfl2eT8zR6x08BU7uo19hRFEf47ovp9yuU-Axwotej_kolHTPDfgnLzIaz-GzzA1jYQJvbd9LGCM416UNh2AFt6XDDPCrJUOrktm9-RQdyrh1DdqmBkoxuuodkCEbWwXkkLEBp87fj8gf4tgJlYoV2XFKLtV1G7_ENAR3X3kI.E9Dlxo4wUnksu4VhD-MUJhjxYg3GqqqMCrq4J47ccaE&dib_tag=se&keywords=laptops&qid=1747757874&sr=8-36\n",
            "➡️ Scraping product: https://www.amazon.com/Lenovo-Computer-Business-Processor-Bluetooth/dp/B0F1N3ZDB6/ref=sr_1_37?dib=eyJ2IjoiMSJ9.8QKJIjAfTLUk__2ci2VuIGIEJ516vvns-3PbaPAPJq4jnXUszwXia4Td7mWeAoukJIEfl2eT8zR6x08BU7uo19hRFEf47ovp9yuU-Axwotej_kolHTPDfgnLzIaz-GzzA1jYQJvbd9LGCM416UNh2AFt6XDDPCrJUOrktm9-RQdyrh1DdqmBkoxuuodkCEbWwXkkLEBp87fj8gf4tgJlYoV2XFKLtV1G7_ENAR3X3kI.E9Dlxo4wUnksu4VhD-MUJhjxYg3GqqqMCrq4J47ccaE&dib_tag=se&keywords=laptops&qid=1747757874&sr=8-37\n",
            "➡️ Scraping product: https://www.amazon.com/Dell-Inspiron-15-6-Touchscreen-Laptop/dp/B0F2T1MRGK/ref=sr_1_38?dib=eyJ2IjoiMSJ9.8QKJIjAfTLUk__2ci2VuIGIEJ516vvns-3PbaPAPJq4jnXUszwXia4Td7mWeAoukJIEfl2eT8zR6x08BU7uo19hRFEf47ovp9yuU-Axwotej_kolHTPDfgnLzIaz-GzzA1jYQJvbd9LGCM416UNh2AFt6XDDPCrJUOrktm9-RQdyrh1DdqmBkoxuuodkCEbWwXkkLEBp87fj8gf4tgJlYoV2XFKLtV1G7_ENAR3X3kI.E9Dlxo4wUnksu4VhD-MUJhjxYg3GqqqMCrq4J47ccaE&dib_tag=se&keywords=laptops&qid=1747757874&sr=8-38\n",
            "➡️ Scraping product: https://www.amazon.com/HP-Newest-Business-Numeric-Windows/dp/B0D4RH881B/ref=sr_1_39?dib=eyJ2IjoiMSJ9.8QKJIjAfTLUk__2ci2VuIGIEJ516vvns-3PbaPAPJq4jnXUszwXia4Td7mWeAoukJIEfl2eT8zR6x08BU7uo19hRFEf47ovp9yuU-Axwotej_kolHTPDfgnLzIaz-GzzA1jYQJvbd9LGCM416UNh2AFt6XDDPCrJUOrktm9-RQdyrh1DdqmBkoxuuodkCEbWwXkkLEBp87fj8gf4tgJlYoV2XFKLtV1G7_ENAR3X3kI.E9Dlxo4wUnksu4VhD-MUJhjxYg3GqqqMCrq4J47ccaE&dib_tag=se&keywords=laptops&qid=1747757874&sr=8-39\n",
            "➡️ Scraping product: https://www.amazon.com/MARGOLAI-Computer-Processor-Portable-Notebook/dp/B0D7Q5SRSR/ref=sr_1_40?dib=eyJ2IjoiMSJ9.8QKJIjAfTLUk__2ci2VuIGIEJ516vvns-3PbaPAPJq4jnXUszwXia4Td7mWeAoukJIEfl2eT8zR6x08BU7uo19hRFEf47ovp9yuU-Axwotej_kolHTPDfgnLzIaz-GzzA1jYQJvbd9LGCM416UNh2AFt6XDDPCrJUOrktm9-RQdyrh1DdqmBkoxuuodkCEbWwXkkLEBp87fj8gf4tgJlYoV2XFKLtV1G7_ENAR3X3kI.E9Dlxo4wUnksu4VhD-MUJhjxYg3GqqqMCrq4J47ccaE&dib_tag=se&keywords=laptops&qid=1747757874&sr=8-40\n",
            "➡️ Scraping product: https://www.amazon.com/Dell-Inspiron-Touch-Screen-i7-1355U-Graphics/dp/B0DZ32D1YL/ref=sr_1_41?dib=eyJ2IjoiMSJ9.8QKJIjAfTLUk__2ci2VuIGIEJ516vvns-3PbaPAPJq4jnXUszwXia4Td7mWeAoukJIEfl2eT8zR6x08BU7uo19hRFEf47ovp9yuU-Axwotej_kolHTPDfgnLzIaz-GzzA1jYQJvbd9LGCM416UNh2AFt6XDDPCrJUOrktm9-RQdyrh1DdqmBkoxuuodkCEbWwXkkLEBp87fj8gf4tgJlYoV2XFKLtV1G7_ENAR3X3kI.E9Dlxo4wUnksu4VhD-MUJhjxYg3GqqqMCrq4J47ccaE&dib_tag=se&keywords=laptops&qid=1747757874&sr=8-41\n",
            "➡️ Scraping product: https://www.amazon.com/HP-Touchscreen-Processor-Bluetooth-Accessories/dp/B0CNY3NCWN/ref=sr_1_42?dib=eyJ2IjoiMSJ9.8QKJIjAfTLUk__2ci2VuIGIEJ516vvns-3PbaPAPJq4jnXUszwXia4Td7mWeAoukJIEfl2eT8zR6x08BU7uo19hRFEf47ovp9yuU-Axwotej_kolHTPDfgnLzIaz-GzzA1jYQJvbd9LGCM416UNh2AFt6XDDPCrJUOrktm9-RQdyrh1DdqmBkoxuuodkCEbWwXkkLEBp87fj8gf4tgJlYoV2XFKLtV1G7_ENAR3X3kI.E9Dlxo4wUnksu4VhD-MUJhjxYg3GqqqMCrq4J47ccaE&dib_tag=se&keywords=laptops&qid=1747757874&sr=8-42\n",
            "➡️ Scraping product: https://www.amazon.com/Apple-Macbook-13-inch-Storage-English/dp/B0751N2Y78/ref=sr_1_43?dib=eyJ2IjoiMSJ9.8QKJIjAfTLUk__2ci2VuIGIEJ516vvns-3PbaPAPJq4jnXUszwXia4Td7mWeAoukJIEfl2eT8zR6x08BU7uo19hRFEf47ovp9yuU-Axwotej_kolHTPDfgnLzIaz-GzzA1jYQJvbd9LGCM416UNh2AFt6XDDPCrJUOrktm9-RQdyrh1DdqmBkoxuuodkCEbWwXkkLEBp87fj8gf4tgJlYoV2XFKLtV1G7_ENAR3X3kI.E9Dlxo4wUnksu4VhD-MUJhjxYg3GqqqMCrq4J47ccaE&dib_tag=se&keywords=laptops&qid=1747757874&sr=8-43\n",
            "➡️ Scraping product: https://www.amazon.com/Lenovo-Touchscreen-6-Cores-Recovery-Microsoft/dp/B0F7M4CWZZ/ref=sr_1_44?dib=eyJ2IjoiMSJ9.8QKJIjAfTLUk__2ci2VuIGIEJ516vvns-3PbaPAPJq4jnXUszwXia4Td7mWeAoukJIEfl2eT8zR6x08BU7uo19hRFEf47ovp9yuU-Axwotej_kolHTPDfgnLzIaz-GzzA1jYQJvbd9LGCM416UNh2AFt6XDDPCrJUOrktm9-RQdyrh1DdqmBkoxuuodkCEbWwXkkLEBp87fj8gf4tgJlYoV2XFKLtV1G7_ENAR3X3kI.E9Dlxo4wUnksu4VhD-MUJhjxYg3GqqqMCrq4J47ccaE&dib_tag=se&keywords=laptops&qid=1747757874&sr=8-44\n",
            "➡️ Scraping product: https://www.amazon.com/HP-Stream-BrightView-N4120-Graphics/dp/B0CZKPF2QH/ref=sr_1_45?dib=eyJ2IjoiMSJ9.8QKJIjAfTLUk__2ci2VuIGIEJ516vvns-3PbaPAPJq4jnXUszwXia4Td7mWeAoukJIEfl2eT8zR6x08BU7uo19hRFEf47ovp9yuU-Axwotej_kolHTPDfgnLzIaz-GzzA1jYQJvbd9LGCM416UNh2AFt6XDDPCrJUOrktm9-RQdyrh1DdqmBkoxuuodkCEbWwXkkLEBp87fj8gf4tgJlYoV2XFKLtV1G7_ENAR3X3kI.E9Dlxo4wUnksu4VhD-MUJhjxYg3GqqqMCrq4J47ccaE&dib_tag=se&keywords=laptops&qid=1747757874&sr=8-45\n",
            "➡️ Scraping product: https://www.amazon.com/HP-Touchscreen-Laptop-Computer-Accessories/dp/B0F3JFX98D/ref=sr_1_46?dib=eyJ2IjoiMSJ9.8QKJIjAfTLUk__2ci2VuIGIEJ516vvns-3PbaPAPJq4jnXUszwXia4Td7mWeAoukJIEfl2eT8zR6x08BU7uo19hRFEf47ovp9yuU-Axwotej_kolHTPDfgnLzIaz-GzzA1jYQJvbd9LGCM416UNh2AFt6XDDPCrJUOrktm9-RQdyrh1DdqmBkoxuuodkCEbWwXkkLEBp87fj8gf4tgJlYoV2XFKLtV1G7_ENAR3X3kI.E9Dlxo4wUnksu4VhD-MUJhjxYg3GqqqMCrq4J47ccaE&dib_tag=se&keywords=laptops&qid=1747757874&sr=8-46\n",
            "➡️ Scraping product: https://www.amazon.com/SAMSUNG-Galaxy-Book4-Business-Microsoft/dp/B0DHXPZRY7/ref=sr_1_47?dib=eyJ2IjoiMSJ9.8QKJIjAfTLUk__2ci2VuIGIEJ516vvns-3PbaPAPJq4jnXUszwXia4Td7mWeAoukJIEfl2eT8zR6x08BU7uo19hRFEf47ovp9yuU-Axwotej_kolHTPDfgnLzIaz-GzzA1jYQJvbd9LGCM416UNh2AFt6XDDPCrJUOrktm9-RQdyrh1DdqmBkoxuuodkCEbWwXkkLEBp87fj8gf4tgJlYoV2XFKLtV1G7_ENAR3X3kI.E9Dlxo4wUnksu4VhD-MUJhjxYg3GqqqMCrq4J47ccaE&dib_tag=se&keywords=laptops&qid=1747757874&sr=8-47\n",
            "➡️ Scraping product: https://www.amazon.com/HP-Envy-Business-Processor-Touchscreen/dp/B0DW63VQNX/ref=sr_1_48?dib=eyJ2IjoiMSJ9.8QKJIjAfTLUk__2ci2VuIGIEJ516vvns-3PbaPAPJq4jnXUszwXia4Td7mWeAoukJIEfl2eT8zR6x08BU7uo19hRFEf47ovp9yuU-Axwotej_kolHTPDfgnLzIaz-GzzA1jYQJvbd9LGCM416UNh2AFt6XDDPCrJUOrktm9-RQdyrh1DdqmBkoxuuodkCEbWwXkkLEBp87fj8gf4tgJlYoV2XFKLtV1G7_ENAR3X3kI.E9Dlxo4wUnksu4VhD-MUJhjxYg3GqqqMCrq4J47ccaE&dib_tag=se&keywords=laptops&qid=1747757874&sr=8-48\n",
            "➡️ Scraping product: https://www.amazon.com/HP-14-Laptop-Dual-Core-Processor/dp/B09VRX9YVW/ref=sr_1_49?dib=eyJ2IjoiMSJ9.346iguub0zi3qoevAbYEpwb0IGMn185PSJECdROsrWK17FJqBYPezGhrwqoWglmJRXXECBr6UyvsrrYuKrxE6UB6HqoAmnbz8_Iz_k7ocyAFpw_H-rE3sdS9YAAft86AnnU71yvs5sCCiGREVb2sSMUB33fi6dyJbRiHlDCtA1cP9C9L4TJf9-gW_ZYhar7ckRqSpLvBkaQKXWdXuQ3La3B1E3ZQiLFT3VAoV1imUd0.mj4HUmBtyQ8ypJ543_0bswJfk5VVOziimy5Q5bzhKRM&dib_tag=se&keywords=laptops&qid=1747757879&sr=8-49\n",
            "➡️ Scraping product: https://www.amazon.com/ASUS-Pentium-Processor-Graphics-Bluetooth/dp/B0DQJ9Y4JL/ref=sr_1_50?dib=eyJ2IjoiMSJ9.346iguub0zi3qoevAbYEpwb0IGMn185PSJECdROsrWK17FJqBYPezGhrwqoWglmJRXXECBr6UyvsrrYuKrxE6UB6HqoAmnbz8_Iz_k7ocyAFpw_H-rE3sdS9YAAft86AnnU71yvs5sCCiGREVb2sSMUB33fi6dyJbRiHlDCtA1cP9C9L4TJf9-gW_ZYhar7ckRqSpLvBkaQKXWdXuQ3La3B1E3ZQiLFT3VAoV1imUd0.mj4HUmBtyQ8ypJ543_0bswJfk5VVOziimy5Q5bzhKRM&dib_tag=se&keywords=laptops&qid=1747757879&sr=8-50\n",
            "➡️ Scraping product: https://www.amazon.com/SAMSUNG-Galaxy-Book4-Business-Microsoft/dp/B0DHXPZRY7/ref=sr_1_51?dib=eyJ2IjoiMSJ9.346iguub0zi3qoevAbYEpwb0IGMn185PSJECdROsrWK17FJqBYPezGhrwqoWglmJRXXECBr6UyvsrrYuKrxE6UB6HqoAmnbz8_Iz_k7ocyAFpw_H-rE3sdS9YAAft86AnnU71yvs5sCCiGREVb2sSMUB33fi6dyJbRiHlDCtA1cP9C9L4TJf9-gW_ZYhar7ckRqSpLvBkaQKXWdXuQ3La3B1E3ZQiLFT3VAoV1imUd0.mj4HUmBtyQ8ypJ543_0bswJfk5VVOziimy5Q5bzhKRM&dib_tag=se&keywords=laptops&qid=1747757879&sr=8-51\n",
            "➡️ Scraping product: https://www.amazon.com/HP-Touchscreen-Display-i7-1255U-SuperSpeed/dp/B0CKTZVB17/ref=sr_1_52?dib=eyJ2IjoiMSJ9.346iguub0zi3qoevAbYEpwb0IGMn185PSJECdROsrWK17FJqBYPezGhrwqoWglmJRXXECBr6UyvsrrYuKrxE6UB6HqoAmnbz8_Iz_k7ocyAFpw_H-rE3sdS9YAAft86AnnU71yvs5sCCiGREVb2sSMUB33fi6dyJbRiHlDCtA1cP9C9L4TJf9-gW_ZYhar7ckRqSpLvBkaQKXWdXuQ3La3B1E3ZQiLFT3VAoV1imUd0.mj4HUmBtyQ8ypJ543_0bswJfk5VVOziimy5Q5bzhKRM&dib_tag=se&keywords=laptops&qid=1747757879&sr=8-52\n",
            "➡️ Scraping product: https://www.amazon.com/HP-Portable-Microsoft-Quad-Core-Processor/dp/B0CPGKT77T/ref=sr_1_53?dib=eyJ2IjoiMSJ9.346iguub0zi3qoevAbYEpwb0IGMn185PSJECdROsrWK17FJqBYPezGhrwqoWglmJRXXECBr6UyvsrrYuKrxE6UB6HqoAmnbz8_Iz_k7ocyAFpw_H-rE3sdS9YAAft86AnnU71yvs5sCCiGREVb2sSMUB33fi6dyJbRiHlDCtA1cP9C9L4TJf9-gW_ZYhar7ckRqSpLvBkaQKXWdXuQ3La3B1E3ZQiLFT3VAoV1imUd0.mj4HUmBtyQ8ypJ543_0bswJfk5VVOziimy5Q5bzhKRM&dib_tag=se&keywords=laptops&qid=1747757879&sr=8-53\n",
            "➡️ Scraping product: https://www.amazon.com/HP-15-Laptop-Processor-Super-Fast/dp/B0BQ9W4DV3/ref=sr_1_54?dib=eyJ2IjoiMSJ9.346iguub0zi3qoevAbYEpwb0IGMn185PSJECdROsrWK17FJqBYPezGhrwqoWglmJRXXECBr6UyvsrrYuKrxE6UB6HqoAmnbz8_Iz_k7ocyAFpw_H-rE3sdS9YAAft86AnnU71yvs5sCCiGREVb2sSMUB33fi6dyJbRiHlDCtA1cP9C9L4TJf9-gW_ZYhar7ckRqSpLvBkaQKXWdXuQ3La3B1E3ZQiLFT3VAoV1imUd0.mj4HUmBtyQ8ypJ543_0bswJfk5VVOziimy5Q5bzhKRM&dib_tag=se&keywords=laptops&qid=1747757879&sr=8-54\n",
            "➡️ Scraping product: https://www.amazon.com/HP-15-6-inch-Touch-Screen-Generation-i7-1165G7/dp/B0B81D5D3Z/ref=sr_1_55?dib=eyJ2IjoiMSJ9.346iguub0zi3qoevAbYEpwb0IGMn185PSJECdROsrWK17FJqBYPezGhrwqoWglmJRXXECBr6UyvsrrYuKrxE6UB6HqoAmnbz8_Iz_k7ocyAFpw_H-rE3sdS9YAAft86AnnU71yvs5sCCiGREVb2sSMUB33fi6dyJbRiHlDCtA1cP9C9L4TJf9-gW_ZYhar7ckRqSpLvBkaQKXWdXuQ3La3B1E3ZQiLFT3VAoV1imUd0.mj4HUmBtyQ8ypJ543_0bswJfk5VVOziimy5Q5bzhKRM&dib_tag=se&keywords=laptops&qid=1747757879&sr=8-55\n",
            "➡️ Scraping product: https://www.amazon.com/HP-Flagship-Storage-Docking-Processor/dp/B0DSF8R1P6/ref=sr_1_56?dib=eyJ2IjoiMSJ9.346iguub0zi3qoevAbYEpwb0IGMn185PSJECdROsrWK17FJqBYPezGhrwqoWglmJRXXECBr6UyvsrrYuKrxE6UB6HqoAmnbz8_Iz_k7ocyAFpw_H-rE3sdS9YAAft86AnnU71yvs5sCCiGREVb2sSMUB33fi6dyJbRiHlDCtA1cP9C9L4TJf9-gW_ZYhar7ckRqSpLvBkaQKXWdXuQ3La3B1E3ZQiLFT3VAoV1imUd0.mj4HUmBtyQ8ypJ543_0bswJfk5VVOziimy5Q5bzhKRM&dib_tag=se&keywords=laptops&qid=1747757879&sr=8-56\n",
            "➡️ Scraping product: https://www.amazon.com/HP-Pentium-Processor-Scarlet-15-fd0083wm/dp/B0CP4DV16W/ref=sr_1_57?dib=eyJ2IjoiMSJ9.346iguub0zi3qoevAbYEpwb0IGMn185PSJECdROsrWK17FJqBYPezGhrwqoWglmJRXXECBr6UyvsrrYuKrxE6UB6HqoAmnbz8_Iz_k7ocyAFpw_H-rE3sdS9YAAft86AnnU71yvs5sCCiGREVb2sSMUB33fi6dyJbRiHlDCtA1cP9C9L4TJf9-gW_ZYhar7ckRqSpLvBkaQKXWdXuQ3La3B1E3ZQiLFT3VAoV1imUd0.mj4HUmBtyQ8ypJ543_0bswJfk5VVOziimy5Q5bzhKRM&dib_tag=se&keywords=laptops&qid=1747757879&sr=8-57\n",
            "➡️ Scraping product: https://www.amazon.com/Microsoft-Surface-Laptop-13-5-Touch-Screen/dp/B09VLJS222/ref=sr_1_58?dib=eyJ2IjoiMSJ9.346iguub0zi3qoevAbYEpwb0IGMn185PSJECdROsrWK17FJqBYPezGhrwqoWglmJRXXECBr6UyvsrrYuKrxE6UB6HqoAmnbz8_Iz_k7ocyAFpw_H-rE3sdS9YAAft86AnnU71yvs5sCCiGREVb2sSMUB33fi6dyJbRiHlDCtA1cP9C9L4TJf9-gW_ZYhar7ckRqSpLvBkaQKXWdXuQ3La3B1E3ZQiLFT3VAoV1imUd0.mj4HUmBtyQ8ypJ543_0bswJfk5VVOziimy5Q5bzhKRM&dib_tag=se&keywords=laptops&qid=1747757879&sr=8-58\n",
            "➡️ Scraping product: https://www.amazon.com/Lenovo-V15-Anti-Glare-i5-13420H-i7-1255U/dp/B0DNYVRZKN/ref=sr_1_59?dib=eyJ2IjoiMSJ9.346iguub0zi3qoevAbYEpwb0IGMn185PSJECdROsrWK17FJqBYPezGhrwqoWglmJRXXECBr6UyvsrrYuKrxE6UB6HqoAmnbz8_Iz_k7ocyAFpw_H-rE3sdS9YAAft86AnnU71yvs5sCCiGREVb2sSMUB33fi6dyJbRiHlDCtA1cP9C9L4TJf9-gW_ZYhar7ckRqSpLvBkaQKXWdXuQ3La3B1E3ZQiLFT3VAoV1imUd0.mj4HUmBtyQ8ypJ543_0bswJfk5VVOziimy5Q5bzhKRM&dib_tag=se&keywords=laptops&qid=1747757879&sr=8-59\n",
            "➡️ Scraping product: https://www.amazon.com/HP-15-Micro-Edge-Laptop-Ultra-Fast/dp/B0CTWGKR2C/ref=sr_1_60?dib=eyJ2IjoiMSJ9.346iguub0zi3qoevAbYEpwb0IGMn185PSJECdROsrWK17FJqBYPezGhrwqoWglmJRXXECBr6UyvsrrYuKrxE6UB6HqoAmnbz8_Iz_k7ocyAFpw_H-rE3sdS9YAAft86AnnU71yvs5sCCiGREVb2sSMUB33fi6dyJbRiHlDCtA1cP9C9L4TJf9-gW_ZYhar7ckRqSpLvBkaQKXWdXuQ3La3B1E3ZQiLFT3VAoV1imUd0.mj4HUmBtyQ8ypJ543_0bswJfk5VVOziimy5Q5bzhKRM&dib_tag=se&keywords=laptops&qid=1747757879&sr=8-60\n",
            "➡️ Scraping product: https://www.amazon.com/HP-Pavilion-Touchscreen-Computer-Microsoft/dp/B0DYF98C59/ref=sr_1_61?dib=eyJ2IjoiMSJ9.346iguub0zi3qoevAbYEpwb0IGMn185PSJECdROsrWK17FJqBYPezGhrwqoWglmJRXXECBr6UyvsrrYuKrxE6UB6HqoAmnbz8_Iz_k7ocyAFpw_H-rE3sdS9YAAft86AnnU71yvs5sCCiGREVb2sSMUB33fi6dyJbRiHlDCtA1cP9C9L4TJf9-gW_ZYhar7ckRqSpLvBkaQKXWdXuQ3La3B1E3ZQiLFT3VAoV1imUd0.mj4HUmBtyQ8ypJ543_0bswJfk5VVOziimy5Q5bzhKRM&dib_tag=se&keywords=laptops&qid=1747757879&sr=8-61\n",
            "➡️ Scraping product: https://www.amazon.com/Lenovo-IdeaPad-Student-Processor-Bluetooth/dp/B0CF62H34N/ref=sr_1_62?dib=eyJ2IjoiMSJ9.346iguub0zi3qoevAbYEpwb0IGMn185PSJECdROsrWK17FJqBYPezGhrwqoWglmJRXXECBr6UyvsrrYuKrxE6UB6HqoAmnbz8_Iz_k7ocyAFpw_H-rE3sdS9YAAft86AnnU71yvs5sCCiGREVb2sSMUB33fi6dyJbRiHlDCtA1cP9C9L4TJf9-gW_ZYhar7ckRqSpLvBkaQKXWdXuQ3La3B1E3ZQiLFT3VAoV1imUd0.mj4HUmBtyQ8ypJ543_0bswJfk5VVOziimy5Q5bzhKRM&dib_tag=se&keywords=laptops&qid=1747757879&sr=8-62\n",
            "➡️ Scraping product: https://www.amazon.com/Lenovo-IdeaPad-Touchscreen-i3-1215U-Windows/dp/B0DCW8S2LY/ref=sr_1_63?dib=eyJ2IjoiMSJ9.346iguub0zi3qoevAbYEpwb0IGMn185PSJECdROsrWK17FJqBYPezGhrwqoWglmJRXXECBr6UyvsrrYuKrxE6UB6HqoAmnbz8_Iz_k7ocyAFpw_H-rE3sdS9YAAft86AnnU71yvs5sCCiGREVb2sSMUB33fi6dyJbRiHlDCtA1cP9C9L4TJf9-gW_ZYhar7ckRqSpLvBkaQKXWdXuQ3La3B1E3ZQiLFT3VAoV1imUd0.mj4HUmBtyQ8ypJ543_0bswJfk5VVOziimy5Q5bzhKRM&dib_tag=se&keywords=laptops&qid=1747757879&sr=8-63\n",
            "➡️ Scraping product: https://www.amazon.com/HP-14-Student-Quad-Core-Battery/dp/B0DQXHKYJ4/ref=sr_1_64?dib=eyJ2IjoiMSJ9.346iguub0zi3qoevAbYEpwb0IGMn185PSJECdROsrWK17FJqBYPezGhrwqoWglmJRXXECBr6UyvsrrYuKrxE6UB6HqoAmnbz8_Iz_k7ocyAFpw_H-rE3sdS9YAAft86AnnU71yvs5sCCiGREVb2sSMUB33fi6dyJbRiHlDCtA1cP9C9L4TJf9-gW_ZYhar7ckRqSpLvBkaQKXWdXuQ3La3B1E3ZQiLFT3VAoV1imUd0.mj4HUmBtyQ8ypJ543_0bswJfk5VVOziimy5Q5bzhKRM&dib_tag=se&keywords=laptops&qid=1747757879&sr=8-64\n",
            "➡️ Scraping product: https://www.amazon.com/HP-Business-Touchscreen-8-Cores-i3-N305/dp/B0DW9JFQH9/ref=sr_1_65?dib=eyJ2IjoiMSJ9.08laNSW4Nhz1_WgqFP_TmERlkUPDMtGMQe2IyI8DjgG5W24VUqJh45DP0LTDYEJMGulWT7TQrzorFXedlJb2lVPrNW9TBhQTDCYtZB5vKNd3e7I5pvtH-U8jljUd4SGdul9L8RYHqe_ttFomiwA70WCqdPOzZcso5_TJRN78xtzU-sxctqirHaVndBL-Rj1zaOooU-Gm-056pQuWbxnLQgxASWilWNBJ11FN8qmlRKQ.bDtcdQ7QasaMUdWtZ3k_9sieb1RoU5IGUrWFHD888e4&dib_tag=se&keywords=laptops&qid=1747757886&sr=8-65\n",
            "➡️ Scraping product: https://www.amazon.com/ASUS-Vivobook-i3-1215U-Processor-i7-1165G7/dp/B0DV1J8GXL/ref=sr_1_66?dib=eyJ2IjoiMSJ9.08laNSW4Nhz1_WgqFP_TmERlkUPDMtGMQe2IyI8DjgG5W24VUqJh45DP0LTDYEJMGulWT7TQrzorFXedlJb2lVPrNW9TBhQTDCYtZB5vKNd3e7I5pvtH-U8jljUd4SGdul9L8RYHqe_ttFomiwA70WCqdPOzZcso5_TJRN78xtzU-sxctqirHaVndBL-Rj1zaOooU-Gm-056pQuWbxnLQgxASWilWNBJ11FN8qmlRKQ.bDtcdQ7QasaMUdWtZ3k_9sieb1RoU5IGUrWFHD888e4&dib_tag=se&keywords=laptops&qid=1747757886&sr=8-66\n",
            "➡️ Scraping product: https://www.amazon.com/HP-Premium-Stream-Graphics-Bluetooth/dp/B0CJP7SFX6/ref=sr_1_67?dib=eyJ2IjoiMSJ9.08laNSW4Nhz1_WgqFP_TmERlkUPDMtGMQe2IyI8DjgG5W24VUqJh45DP0LTDYEJMGulWT7TQrzorFXedlJb2lVPrNW9TBhQTDCYtZB5vKNd3e7I5pvtH-U8jljUd4SGdul9L8RYHqe_ttFomiwA70WCqdPOzZcso5_TJRN78xtzU-sxctqirHaVndBL-Rj1zaOooU-Gm-056pQuWbxnLQgxASWilWNBJ11FN8qmlRKQ.bDtcdQ7QasaMUdWtZ3k_9sieb1RoU5IGUrWFHD888e4&dib_tag=se&keywords=laptops&qid=1747757886&sr=8-67\n",
            "➡️ Scraping product: https://www.amazon.com/Dell-Latitude-7000-7420-Touch/dp/B09ZLQK217/ref=sr_1_68?dib=eyJ2IjoiMSJ9.08laNSW4Nhz1_WgqFP_TmERlkUPDMtGMQe2IyI8DjgG5W24VUqJh45DP0LTDYEJMGulWT7TQrzorFXedlJb2lVPrNW9TBhQTDCYtZB5vKNd3e7I5pvtH-U8jljUd4SGdul9L8RYHqe_ttFomiwA70WCqdPOzZcso5_TJRN78xtzU-sxctqirHaVndBL-Rj1zaOooU-Gm-056pQuWbxnLQgxASWilWNBJ11FN8qmlRKQ.bDtcdQ7QasaMUdWtZ3k_9sieb1RoU5IGUrWFHD888e4&dib_tag=se&keywords=laptops&qid=1747757886&sr=8-68\n",
            "➡️ Scraping product: https://www.amazon.com/ASUS-TUF-Gaming-Copilot-Laptop/dp/B0D71LJ17N/ref=sr_1_69?dib=eyJ2IjoiMSJ9.08laNSW4Nhz1_WgqFP_TmERlkUPDMtGMQe2IyI8DjgG5W24VUqJh45DP0LTDYEJMGulWT7TQrzorFXedlJb2lVPrNW9TBhQTDCYtZB5vKNd3e7I5pvtH-U8jljUd4SGdul9L8RYHqe_ttFomiwA70WCqdPOzZcso5_TJRN78xtzU-sxctqirHaVndBL-Rj1zaOooU-Gm-056pQuWbxnLQgxASWilWNBJ11FN8qmlRKQ.bDtcdQ7QasaMUdWtZ3k_9sieb1RoU5IGUrWFHD888e4&dib_tag=se&keywords=laptops&qid=1747757886&sr=8-69\n",
            "➡️ Scraping product: https://www.amazon.com/Lenovo-IdeaPad-Student-Processor-Bluetooth/dp/B0CF62H34N/ref=sr_1_70?dib=eyJ2IjoiMSJ9.08laNSW4Nhz1_WgqFP_TmERlkUPDMtGMQe2IyI8DjgG5W24VUqJh45DP0LTDYEJMGulWT7TQrzorFXedlJb2lVPrNW9TBhQTDCYtZB5vKNd3e7I5pvtH-U8jljUd4SGdul9L8RYHqe_ttFomiwA70WCqdPOzZcso5_TJRN78xtzU-sxctqirHaVndBL-Rj1zaOooU-Gm-056pQuWbxnLQgxASWilWNBJ11FN8qmlRKQ.bDtcdQ7QasaMUdWtZ3k_9sieb1RoU5IGUrWFHD888e4&dib_tag=se&keywords=laptops&qid=1747757886&sr=8-70\n",
            "➡️ Scraping product: https://www.amazon.com/Dell-Inspiron-5441-Laptop-Snapdragon/dp/B0DGXXXN4R/ref=sr_1_71?dib=eyJ2IjoiMSJ9.08laNSW4Nhz1_WgqFP_TmERlkUPDMtGMQe2IyI8DjgG5W24VUqJh45DP0LTDYEJMGulWT7TQrzorFXedlJb2lVPrNW9TBhQTDCYtZB5vKNd3e7I5pvtH-U8jljUd4SGdul9L8RYHqe_ttFomiwA70WCqdPOzZcso5_TJRN78xtzU-sxctqirHaVndBL-Rj1zaOooU-Gm-056pQuWbxnLQgxASWilWNBJ11FN8qmlRKQ.bDtcdQ7QasaMUdWtZ3k_9sieb1RoU5IGUrWFHD888e4&dib_tag=se&keywords=laptops&qid=1747757886&sr=8-71\n",
            "➡️ Scraping product: https://www.amazon.com/HP-Touchscreen-Display-i7-1255U-SuperSpeed/dp/B0CKTZVB17/ref=sr_1_72?dib=eyJ2IjoiMSJ9.08laNSW4Nhz1_WgqFP_TmERlkUPDMtGMQe2IyI8DjgG5W24VUqJh45DP0LTDYEJMGulWT7TQrzorFXedlJb2lVPrNW9TBhQTDCYtZB5vKNd3e7I5pvtH-U8jljUd4SGdul9L8RYHqe_ttFomiwA70WCqdPOzZcso5_TJRN78xtzU-sxctqirHaVndBL-Rj1zaOooU-Gm-056pQuWbxnLQgxASWilWNBJ11FN8qmlRKQ.bDtcdQ7QasaMUdWtZ3k_9sieb1RoU5IGUrWFHD888e4&dib_tag=se&keywords=laptops&qid=1747757886&sr=8-72\n",
            "➡️ Scraping product: https://www.amazon.com/ASUS-Vivobook-Celeron-Graphics-L210KA-ES04/dp/B0CRDDWTX3/ref=sr_1_73?dib=eyJ2IjoiMSJ9.08laNSW4Nhz1_WgqFP_TmERlkUPDMtGMQe2IyI8DjgG5W24VUqJh45DP0LTDYEJMGulWT7TQrzorFXedlJb2lVPrNW9TBhQTDCYtZB5vKNd3e7I5pvtH-U8jljUd4SGdul9L8RYHqe_ttFomiwA70WCqdPOzZcso5_TJRN78xtzU-sxctqirHaVndBL-Rj1zaOooU-Gm-056pQuWbxnLQgxASWilWNBJ11FN8qmlRKQ.bDtcdQ7QasaMUdWtZ3k_9sieb1RoU5IGUrWFHD888e4&dib_tag=se&keywords=laptops&qid=1747757886&sr=8-73\n",
            "➡️ Scraping product: https://www.amazon.com/Lenovo-Computer-Business-Processor-Bluetooth/dp/B0F1N3ZDB6/ref=sr_1_74?dib=eyJ2IjoiMSJ9.08laNSW4Nhz1_WgqFP_TmERlkUPDMtGMQe2IyI8DjgG5W24VUqJh45DP0LTDYEJMGulWT7TQrzorFXedlJb2lVPrNW9TBhQTDCYtZB5vKNd3e7I5pvtH-U8jljUd4SGdul9L8RYHqe_ttFomiwA70WCqdPOzZcso5_TJRN78xtzU-sxctqirHaVndBL-Rj1zaOooU-Gm-056pQuWbxnLQgxASWilWNBJ11FN8qmlRKQ.bDtcdQ7QasaMUdWtZ3k_9sieb1RoU5IGUrWFHD888e4&dib_tag=se&keywords=laptops&qid=1747757886&sr=8-74\n",
            "➡️ Scraping product: https://www.amazon.com/HP-Display-i5-12450H-Dedicated-15-fa1029nr/dp/B0CVNJ7LLN/ref=sr_1_75?dib=eyJ2IjoiMSJ9.08laNSW4Nhz1_WgqFP_TmERlkUPDMtGMQe2IyI8DjgG5W24VUqJh45DP0LTDYEJMGulWT7TQrzorFXedlJb2lVPrNW9TBhQTDCYtZB5vKNd3e7I5pvtH-U8jljUd4SGdul9L8RYHqe_ttFomiwA70WCqdPOzZcso5_TJRN78xtzU-sxctqirHaVndBL-Rj1zaOooU-Gm-056pQuWbxnLQgxASWilWNBJ11FN8qmlRKQ.bDtcdQ7QasaMUdWtZ3k_9sieb1RoU5IGUrWFHD888e4&dib_tag=se&keywords=laptops&qid=1747757886&sr=8-75\n",
            "➡️ Scraping product: https://www.amazon.com/Dell-Latitude-3540-i7-1195G7-Bluetooth/dp/B0CTKKHKR3/ref=sr_1_76?dib=eyJ2IjoiMSJ9.08laNSW4Nhz1_WgqFP_TmERlkUPDMtGMQe2IyI8DjgG5W24VUqJh45DP0LTDYEJMGulWT7TQrzorFXedlJb2lVPrNW9TBhQTDCYtZB5vKNd3e7I5pvtH-U8jljUd4SGdul9L8RYHqe_ttFomiwA70WCqdPOzZcso5_TJRN78xtzU-sxctqirHaVndBL-Rj1zaOooU-Gm-056pQuWbxnLQgxASWilWNBJ11FN8qmlRKQ.bDtcdQ7QasaMUdWtZ3k_9sieb1RoU5IGUrWFHD888e4&dib_tag=se&keywords=laptops&qid=1747757886&sr=8-76\n",
            "➡️ Scraping product: https://www.amazon.com/Lenovo-ThinkPad-P16s-Workstation-i5-1240P/dp/B0BYBKZ7XD/ref=sr_1_77?dib=eyJ2IjoiMSJ9.08laNSW4Nhz1_WgqFP_TmERlkUPDMtGMQe2IyI8DjgG5W24VUqJh45DP0LTDYEJMGulWT7TQrzorFXedlJb2lVPrNW9TBhQTDCYtZB5vKNd3e7I5pvtH-U8jljUd4SGdul9L8RYHqe_ttFomiwA70WCqdPOzZcso5_TJRN78xtzU-sxctqirHaVndBL-Rj1zaOooU-Gm-056pQuWbxnLQgxASWilWNBJ11FN8qmlRKQ.bDtcdQ7QasaMUdWtZ3k_9sieb1RoU5IGUrWFHD888e4&dib_tag=se&keywords=laptops&qid=1747757886&sr=8-77\n",
            "➡️ Scraping product: https://www.amazon.com/Dell-Inspiron-Computer-Processor-Microsoft/dp/B0DNRKT2NV/ref=sr_1_78?dib=eyJ2IjoiMSJ9.08laNSW4Nhz1_WgqFP_TmERlkUPDMtGMQe2IyI8DjgG5W24VUqJh45DP0LTDYEJMGulWT7TQrzorFXedlJb2lVPrNW9TBhQTDCYtZB5vKNd3e7I5pvtH-U8jljUd4SGdul9L8RYHqe_ttFomiwA70WCqdPOzZcso5_TJRN78xtzU-sxctqirHaVndBL-Rj1zaOooU-Gm-056pQuWbxnLQgxASWilWNBJ11FN8qmlRKQ.bDtcdQ7QasaMUdWtZ3k_9sieb1RoU5IGUrWFHD888e4&dib_tag=se&keywords=laptops&qid=1747757886&sr=8-78\n",
            "➡️ Scraping product: https://www.amazon.com/NIAKUN-Computer-Processor-Keyboard-Fingerprint/dp/B0DLGY1YB3/ref=sr_1_79?dib=eyJ2IjoiMSJ9.08laNSW4Nhz1_WgqFP_TmERlkUPDMtGMQe2IyI8DjgG5W24VUqJh45DP0LTDYEJMGulWT7TQrzorFXedlJb2lVPrNW9TBhQTDCYtZB5vKNd3e7I5pvtH-U8jljUd4SGdul9L8RYHqe_ttFomiwA70WCqdPOzZcso5_TJRN78xtzU-sxctqirHaVndBL-Rj1zaOooU-Gm-056pQuWbxnLQgxASWilWNBJ11FN8qmlRKQ.bDtcdQ7QasaMUdWtZ3k_9sieb1RoU5IGUrWFHD888e4&dib_tag=se&keywords=laptops&qid=1747757886&sr=8-79\n",
            "➡️ Scraping product: https://www.amazon.com/Dell-Inspiron-Touch-Screen-i7-1355U-Graphics/dp/B0DZ32D1YL/ref=sr_1_80?dib=eyJ2IjoiMSJ9.08laNSW4Nhz1_WgqFP_TmERlkUPDMtGMQe2IyI8DjgG5W24VUqJh45DP0LTDYEJMGulWT7TQrzorFXedlJb2lVPrNW9TBhQTDCYtZB5vKNd3e7I5pvtH-U8jljUd4SGdul9L8RYHqe_ttFomiwA70WCqdPOzZcso5_TJRN78xtzU-sxctqirHaVndBL-Rj1zaOooU-Gm-056pQuWbxnLQgxASWilWNBJ11FN8qmlRKQ.bDtcdQ7QasaMUdWtZ3k_9sieb1RoU5IGUrWFHD888e4&dib_tag=se&keywords=laptops&qid=1747757886&sr=8-80\n",
            "\n",
            "✅ Scraping complete! Saved 80 products to 'amazon_laptops_products_full.csv'\n"
          ]
        },
        {
          "output_type": "display_data",
          "data": {
            "text/plain": [
              "<IPython.core.display.Javascript object>"
            ],
            "application/javascript": [
              "\n",
              "    async function download(id, filename, size) {\n",
              "      if (!google.colab.kernel.accessAllowed) {\n",
              "        return;\n",
              "      }\n",
              "      const div = document.createElement('div');\n",
              "      const label = document.createElement('label');\n",
              "      label.textContent = `Downloading \"${filename}\": `;\n",
              "      div.appendChild(label);\n",
              "      const progress = document.createElement('progress');\n",
              "      progress.max = size;\n",
              "      div.appendChild(progress);\n",
              "      document.body.appendChild(div);\n",
              "\n",
              "      const buffers = [];\n",
              "      let downloaded = 0;\n",
              "\n",
              "      const channel = await google.colab.kernel.comms.open(id);\n",
              "      // Send a message to notify the kernel that we're ready.\n",
              "      channel.send({})\n",
              "\n",
              "      for await (const message of channel.messages) {\n",
              "        // Send a message to notify the kernel that we're ready.\n",
              "        channel.send({})\n",
              "        if (message.buffers) {\n",
              "          for (const buffer of message.buffers) {\n",
              "            buffers.push(buffer);\n",
              "            downloaded += buffer.byteLength;\n",
              "            progress.value = downloaded;\n",
              "          }\n",
              "        }\n",
              "      }\n",
              "      const blob = new Blob(buffers, {type: 'application/binary'});\n",
              "      const a = document.createElement('a');\n",
              "      a.href = window.URL.createObjectURL(blob);\n",
              "      a.download = filename;\n",
              "      div.appendChild(a);\n",
              "      a.click();\n",
              "      div.remove();\n",
              "    }\n",
              "  "
            ]
          },
          "metadata": {}
        },
        {
          "output_type": "display_data",
          "data": {
            "text/plain": [
              "<IPython.core.display.Javascript object>"
            ],
            "application/javascript": [
              "download(\"download_4bc56a84-e9f6-4f9c-b766-a81923f4ec9c\", \"amazon_laptops_products_full.csv\", 52554)"
            ]
          },
          "metadata": {}
        }
      ]
    },
    {
      "cell_type": "code",
      "source": [
        "pip install selenium"
      ],
      "metadata": {
        "colab": {
          "base_uri": "https://localhost:8080/"
        },
        "id": "bdLdFEdUJxej",
        "outputId": "ca60ecf0-554b-4765-c995-4e69bbaf56a5"
      },
      "execution_count": null,
      "outputs": [
        {
          "output_type": "stream",
          "name": "stdout",
          "text": [
            "Collecting selenium\n",
            "  Downloading selenium-4.32.0-py3-none-any.whl.metadata (7.5 kB)\n",
            "Requirement already satisfied: urllib3<3,>=1.26 in /usr/local/lib/python3.11/dist-packages (from urllib3[socks]<3,>=1.26->selenium) (2.4.0)\n",
            "Collecting trio~=0.17 (from selenium)\n",
            "  Downloading trio-0.30.0-py3-none-any.whl.metadata (8.5 kB)\n",
            "Collecting trio-websocket~=0.9 (from selenium)\n",
            "  Downloading trio_websocket-0.12.2-py3-none-any.whl.metadata (5.1 kB)\n",
            "Requirement already satisfied: certifi>=2021.10.8 in /usr/local/lib/python3.11/dist-packages (from selenium) (2025.4.26)\n",
            "Requirement already satisfied: typing_extensions~=4.9 in /usr/local/lib/python3.11/dist-packages (from selenium) (4.13.2)\n",
            "Requirement already satisfied: websocket-client~=1.8 in /usr/local/lib/python3.11/dist-packages (from selenium) (1.8.0)\n",
            "Requirement already satisfied: attrs>=23.2.0 in /usr/local/lib/python3.11/dist-packages (from trio~=0.17->selenium) (25.3.0)\n",
            "Requirement already satisfied: sortedcontainers in /usr/local/lib/python3.11/dist-packages (from trio~=0.17->selenium) (2.4.0)\n",
            "Requirement already satisfied: idna in /usr/local/lib/python3.11/dist-packages (from trio~=0.17->selenium) (3.10)\n",
            "Collecting outcome (from trio~=0.17->selenium)\n",
            "  Downloading outcome-1.3.0.post0-py2.py3-none-any.whl.metadata (2.6 kB)\n",
            "Requirement already satisfied: sniffio>=1.3.0 in /usr/local/lib/python3.11/dist-packages (from trio~=0.17->selenium) (1.3.1)\n",
            "Collecting wsproto>=0.14 (from trio-websocket~=0.9->selenium)\n",
            "  Downloading wsproto-1.2.0-py3-none-any.whl.metadata (5.6 kB)\n",
            "Requirement already satisfied: pysocks!=1.5.7,<2.0,>=1.5.6 in /usr/local/lib/python3.11/dist-packages (from urllib3[socks]<3,>=1.26->selenium) (1.7.1)\n",
            "Requirement already satisfied: h11<1,>=0.9.0 in /usr/local/lib/python3.11/dist-packages (from wsproto>=0.14->trio-websocket~=0.9->selenium) (0.16.0)\n",
            "Downloading selenium-4.32.0-py3-none-any.whl (9.4 MB)\n",
            "\u001b[2K   \u001b[90m━━━━━━━━━━━━━━━━━━━━━━━━━━━━━━━━━━━━━━━━\u001b[0m \u001b[32m9.4/9.4 MB\u001b[0m \u001b[31m62.3 MB/s\u001b[0m eta \u001b[36m0:00:00\u001b[0m\n",
            "\u001b[?25hDownloading trio-0.30.0-py3-none-any.whl (499 kB)\n",
            "\u001b[2K   \u001b[90m━━━━━━━━━━━━━━━━━━━━━━━━━━━━━━━━━━━━━━━━\u001b[0m \u001b[32m499.2/499.2 kB\u001b[0m \u001b[31m30.9 MB/s\u001b[0m eta \u001b[36m0:00:00\u001b[0m\n",
            "\u001b[?25hDownloading trio_websocket-0.12.2-py3-none-any.whl (21 kB)\n",
            "Downloading outcome-1.3.0.post0-py2.py3-none-any.whl (10 kB)\n",
            "Downloading wsproto-1.2.0-py3-none-any.whl (24 kB)\n",
            "Installing collected packages: wsproto, outcome, trio, trio-websocket, selenium\n",
            "Successfully installed outcome-1.3.0.post0 selenium-4.32.0 trio-0.30.0 trio-websocket-0.12.2 wsproto-1.2.0\n"
          ]
        }
      ]
    },
    {
      "cell_type": "code",
      "source": [
        "from bs4 import BeautifulSoup\n",
        "import requests\n",
        "\n",
        "url = \"https://www.amazon.com\"\n",
        "\n",
        "def is_js_heavy_site(url):\n",
        "    try:\n",
        "        response = requests.get(url, timeout=10)\n",
        "        soup = BeautifulSoup(response.text, \"html.parser\")\n",
        "        scripts = soup.find_all(\"script\")\n",
        "        if len(scripts) > 10 or any(\"application/ld+json\" in str(script) for script in scripts):\n",
        "            return True\n",
        "        return False\n",
        "    except Exception as e:\n",
        "        print(\"Error checking site:\", e)\n",
        "        return None\n",
        "\n",
        "print(\"JS-heavy site?\" , is_js_heavy_site(url))\n"
      ],
      "metadata": {
        "colab": {
          "base_uri": "https://localhost:8080/"
        },
        "id": "ciDNPD3SJjn4",
        "outputId": "8959373d-d174-4af1-ff12-e5b1e7c5cad2"
      },
      "execution_count": null,
      "outputs": [
        {
          "output_type": "stream",
          "name": "stdout",
          "text": [
            "JS-heavy site? False\n"
          ]
        }
      ]
    },
    {
      "cell_type": "code",
      "source": [
        "from selenium import webdriver\n",
        "from selenium.webdriver.chrome.options import Options\n",
        "from bs4 import BeautifulSoup\n",
        "from urllib.parse import urljoin\n",
        "import re\n",
        "import tempfile\n",
        "import time\n",
        "import requests\n",
        "\n",
        "url = \"https://www.amazon.com\"\n",
        "\n",
        "def find_rss_feeds(html, base_url):\n",
        "    soup = BeautifulSoup(html, \"html.parser\")\n",
        "    feeds = []\n",
        "    for link in soup.find_all(\"link\", type=[\"application/rss+xml\", \"application/atom+xml\"]):\n",
        "        href = link.get(\"href\")\n",
        "        if href:\n",
        "            feeds.append(urljoin(base_url, href))\n",
        "    return feeds\n",
        "\n",
        "def find_possible_api_urls(html, base_url):\n",
        "    soup = BeautifulSoup(html, \"html.parser\")\n",
        "    api_urls = set()\n",
        "\n",
        "    # Search for API-related href/src attributes\n",
        "    for tag in soup.find_all([\"a\", \"script\", \"link\", \"iframe\", \"source\", \"img\"], href=True):\n",
        "        href = tag.get(\"href\")\n",
        "        if href and (\"/api/\" in href.lower() or href.lower().endswith(\".json\")):\n",
        "            api_urls.add(urljoin(base_url, href))\n",
        "\n",
        "    for tag in soup.find_all([\"a\", \"script\", \"link\", \"iframe\", \"source\", \"img\"], src=True):\n",
        "        src = tag.get(\"src\")\n",
        "        if src and (\"/api/\" in src.lower() or src.lower().endswith(\".json\")):\n",
        "            api_urls.add(urljoin(base_url, src))\n",
        "\n",
        "    # Search raw HTML for API-like patterns\n",
        "    raw_api_urls = re.findall(r'https?://[^\\s\"\\'>]+(?:/api/|\\.json)[^\\s\"\\'>]*', html, re.IGNORECASE)\n",
        "    api_urls.update(raw_api_urls)\n",
        "\n",
        "    return list(api_urls)\n",
        "\n",
        "def run_selenium_and_extract(url):\n",
        "    options = Options()\n",
        "    options.add_argument(\"--headless\")\n",
        "    options.add_argument(\"--no-sandbox\")\n",
        "    options.add_argument(\"--disable-dev-shm-usage\")\n",
        "\n",
        "    # Create temporary user data directory\n",
        "    user_data_dir = tempfile.mkdtemp()\n",
        "    options.add_argument(f\"--user-data-dir={user_data_dir}\")\n",
        "\n",
        "    try:\n",
        "        driver = webdriver.Chrome(options=options)\n",
        "        driver.get(url)\n",
        "        time.sleep(5)  # Wait for JS to load\n",
        "\n",
        "        html = driver.page_source\n",
        "        print(\"✅ Page loaded successfully using Selenium\")\n",
        "\n",
        "        rss = find_rss_feeds(html, url)\n",
        "        apis = find_possible_api_urls(html, url)\n",
        "\n",
        "        print(\"\\n📡 RSS Feeds found (if any):\")\n",
        "        print(rss if rss else \"No obvious RSS feeds found.\")\n",
        "\n",
        "        print(\"\\n🔗 Potential API Endpoints:\")\n",
        "        print(apis if apis else \"No visible API endpoints found.\")\n",
        "\n",
        "        driver.quit()\n",
        "    except Exception as e:\n",
        "        print(\"❌ Selenium error:\", e)\n",
        "\n",
        "# Execute the task\n",
        "run_selenium_and_extract(url)\n"
      ],
      "metadata": {
        "colab": {
          "base_uri": "https://localhost:8080/"
        },
        "id": "kSUf2T7tJpo5",
        "outputId": "8c0c3cf6-89f8-4222-c22c-b8acfdabd1c9"
      },
      "execution_count": null,
      "outputs": [
        {
          "output_type": "stream",
          "name": "stdout",
          "text": [
            "✅ Page loaded successfully using Selenium\n",
            "\n",
            "📡 RSS Feeds found (if any):\n",
            "No obvious RSS feeds found.\n",
            "\n",
            "🔗 Potential API Endpoints:\n",
            "['https://affiliate-program.amazon.com/gp/advertising/api/detail/main.html/ref=rm_c_ac']\n"
          ]
        }
      ]
    },
    {
      "cell_type": "code",
      "source": [
        "from urllib.parse import urljoin\n",
        "\n",
        "def check_robots_txt_for_feeds(url):\n",
        "    try:\n",
        "        robots_url = urljoin(url, \"/robots.txt\")\n",
        "        resp = requests.get(robots_url)\n",
        "        if resp.ok:\n",
        "            lines = resp.text.splitlines()\n",
        "            for line in lines:\n",
        "                if \"rss\" in line.lower() or \"api\" in line.lower():\n",
        "                    print(\"Mention in robots.txt:\", line)\n",
        "        else:\n",
        "            print(\"robots.txt not accessible.\")\n",
        "    except Exception as e:\n",
        "        print(\"Error reading robots.txt:\", e)\n",
        "\n",
        "check_robots_txt_for_feeds(\"https://www.amazon.com\")\n"
      ],
      "metadata": {
        "colab": {
          "base_uri": "https://localhost:8080/"
        },
        "id": "4GQHVTj8JrPN",
        "outputId": "41732fda-86a9-4daf-9e42-e58d523fe54b"
      },
      "execution_count": null,
      "outputs": [
        {
          "output_type": "stream",
          "name": "stdout",
          "text": [
            "Mention in robots.txt: Disallow: /rss/people/*/reviews\n",
            "Mention in robots.txt: Disallow: /gp/pdp/rss/*/reviews\n",
            "Mention in robots.txt: Disallow: /gp/video/api\n"
          ]
        }
      ]
    },
    {
      "cell_type": "code",
      "source": [
        "from selenium import webdriver\n",
        "from selenium.webdriver.chrome.options import Options\n",
        "import tempfile\n",
        "\n",
        "options = Options()\n",
        "options.add_argument(\"--headless\")\n",
        "options.add_argument(\"--no-sandbox\")\n",
        "options.add_argument(\"--disable-dev-shm-usage\")\n",
        "\n",
        "user_data_dir = tempfile.mkdtemp()\n",
        "options.add_argument(f\"--user-data-dir={user_data_dir}\")\n",
        "\n",
        "try:\n",
        "    driver = webdriver.Chrome(options=options)\n",
        "    driver.get(url)\n",
        "    print(\"Page title via Selenium:\", driver.title)\n",
        "    driver.quit()\n",
        "except Exception as e:\n",
        "    print(\"Selenium error:\", e)\n"
      ],
      "metadata": {
        "colab": {
          "base_uri": "https://localhost:8080/"
        },
        "id": "oD8glhWoJtoc",
        "outputId": "67770de6-f31c-4a57-ca2a-1a366d418529"
      },
      "execution_count": null,
      "outputs": [
        {
          "output_type": "stream",
          "name": "stdout",
          "text": [
            "Page title via Selenium: Amazon.com\n"
          ]
        }
      ]
    },
    {
      "cell_type": "code",
      "source": [
        "!pip install streamlit pyngrok --quiet\n"
      ],
      "metadata": {
        "colab": {
          "base_uri": "https://localhost:8080/"
        },
        "id": "fRNA6p9KTbeG",
        "outputId": "8ce8e276-7017-44da-e2ec-be25a93637cb"
      },
      "execution_count": null,
      "outputs": [
        {
          "output_type": "stream",
          "name": "stdout",
          "text": [
            "\u001b[2K     \u001b[90m━━━━━━━━━━━━━━━━━━━━━━━━━━━━━━━━━━━━━━━━\u001b[0m \u001b[32m44.3/44.3 kB\u001b[0m \u001b[31m1.2 MB/s\u001b[0m eta \u001b[36m0:00:00\u001b[0m\n",
            "\u001b[2K   \u001b[90m━━━━━━━━━━━━━━━━━━━━━━━━━━━━━━━━━━━━━━━━\u001b[0m \u001b[32m9.9/9.9 MB\u001b[0m \u001b[31m18.3 MB/s\u001b[0m eta \u001b[36m0:00:00\u001b[0m\n",
            "\u001b[2K   \u001b[90m━━━━━━━━━━━━━━━━━━━━━━━━━━━━━━━━━━━━━━━━\u001b[0m \u001b[32m6.9/6.9 MB\u001b[0m \u001b[31m35.8 MB/s\u001b[0m eta \u001b[36m0:00:00\u001b[0m\n",
            "\u001b[2K   \u001b[90m━━━━━━━━━━━━━━━━━━━━━━━━━━━━━━━━━━━━━━━━\u001b[0m \u001b[32m79.1/79.1 kB\u001b[0m \u001b[31m3.5 MB/s\u001b[0m eta \u001b[36m0:00:00\u001b[0m\n",
            "\u001b[?25h"
          ]
        }
      ]
    },
    {
      "cell_type": "code",
      "source": [
        "from google.colab import files\n",
        "uploaded = files.upload()\n"
      ],
      "metadata": {
        "colab": {
          "base_uri": "https://localhost:8080/",
          "height": 73
        },
        "id": "H-MnGTIVTo5q",
        "outputId": "27bac13a-5018-405a-926b-47e181e51521"
      },
      "execution_count": null,
      "outputs": [
        {
          "output_type": "display_data",
          "data": {
            "text/plain": [
              "<IPython.core.display.HTML object>"
            ],
            "text/html": [
              "\n",
              "     <input type=\"file\" id=\"files-c97cec68-711b-46a9-8bc9-b53e19722fc5\" name=\"files[]\" multiple disabled\n",
              "        style=\"border:none\" />\n",
              "     <output id=\"result-c97cec68-711b-46a9-8bc9-b53e19722fc5\">\n",
              "      Upload widget is only available when the cell has been executed in the\n",
              "      current browser session. Please rerun this cell to enable.\n",
              "      </output>\n",
              "      <script>// Copyright 2017 Google LLC\n",
              "//\n",
              "// Licensed under the Apache License, Version 2.0 (the \"License\");\n",
              "// you may not use this file except in compliance with the License.\n",
              "// You may obtain a copy of the License at\n",
              "//\n",
              "//      http://www.apache.org/licenses/LICENSE-2.0\n",
              "//\n",
              "// Unless required by applicable law or agreed to in writing, software\n",
              "// distributed under the License is distributed on an \"AS IS\" BASIS,\n",
              "// WITHOUT WARRANTIES OR CONDITIONS OF ANY KIND, either express or implied.\n",
              "// See the License for the specific language governing permissions and\n",
              "// limitations under the License.\n",
              "\n",
              "/**\n",
              " * @fileoverview Helpers for google.colab Python module.\n",
              " */\n",
              "(function(scope) {\n",
              "function span(text, styleAttributes = {}) {\n",
              "  const element = document.createElement('span');\n",
              "  element.textContent = text;\n",
              "  for (const key of Object.keys(styleAttributes)) {\n",
              "    element.style[key] = styleAttributes[key];\n",
              "  }\n",
              "  return element;\n",
              "}\n",
              "\n",
              "// Max number of bytes which will be uploaded at a time.\n",
              "const MAX_PAYLOAD_SIZE = 100 * 1024;\n",
              "\n",
              "function _uploadFiles(inputId, outputId) {\n",
              "  const steps = uploadFilesStep(inputId, outputId);\n",
              "  const outputElement = document.getElementById(outputId);\n",
              "  // Cache steps on the outputElement to make it available for the next call\n",
              "  // to uploadFilesContinue from Python.\n",
              "  outputElement.steps = steps;\n",
              "\n",
              "  return _uploadFilesContinue(outputId);\n",
              "}\n",
              "\n",
              "// This is roughly an async generator (not supported in the browser yet),\n",
              "// where there are multiple asynchronous steps and the Python side is going\n",
              "// to poll for completion of each step.\n",
              "// This uses a Promise to block the python side on completion of each step,\n",
              "// then passes the result of the previous step as the input to the next step.\n",
              "function _uploadFilesContinue(outputId) {\n",
              "  const outputElement = document.getElementById(outputId);\n",
              "  const steps = outputElement.steps;\n",
              "\n",
              "  const next = steps.next(outputElement.lastPromiseValue);\n",
              "  return Promise.resolve(next.value.promise).then((value) => {\n",
              "    // Cache the last promise value to make it available to the next\n",
              "    // step of the generator.\n",
              "    outputElement.lastPromiseValue = value;\n",
              "    return next.value.response;\n",
              "  });\n",
              "}\n",
              "\n",
              "/**\n",
              " * Generator function which is called between each async step of the upload\n",
              " * process.\n",
              " * @param {string} inputId Element ID of the input file picker element.\n",
              " * @param {string} outputId Element ID of the output display.\n",
              " * @return {!Iterable<!Object>} Iterable of next steps.\n",
              " */\n",
              "function* uploadFilesStep(inputId, outputId) {\n",
              "  const inputElement = document.getElementById(inputId);\n",
              "  inputElement.disabled = false;\n",
              "\n",
              "  const outputElement = document.getElementById(outputId);\n",
              "  outputElement.innerHTML = '';\n",
              "\n",
              "  const pickedPromise = new Promise((resolve) => {\n",
              "    inputElement.addEventListener('change', (e) => {\n",
              "      resolve(e.target.files);\n",
              "    });\n",
              "  });\n",
              "\n",
              "  const cancel = document.createElement('button');\n",
              "  inputElement.parentElement.appendChild(cancel);\n",
              "  cancel.textContent = 'Cancel upload';\n",
              "  const cancelPromise = new Promise((resolve) => {\n",
              "    cancel.onclick = () => {\n",
              "      resolve(null);\n",
              "    };\n",
              "  });\n",
              "\n",
              "  // Wait for the user to pick the files.\n",
              "  const files = yield {\n",
              "    promise: Promise.race([pickedPromise, cancelPromise]),\n",
              "    response: {\n",
              "      action: 'starting',\n",
              "    }\n",
              "  };\n",
              "\n",
              "  cancel.remove();\n",
              "\n",
              "  // Disable the input element since further picks are not allowed.\n",
              "  inputElement.disabled = true;\n",
              "\n",
              "  if (!files) {\n",
              "    return {\n",
              "      response: {\n",
              "        action: 'complete',\n",
              "      }\n",
              "    };\n",
              "  }\n",
              "\n",
              "  for (const file of files) {\n",
              "    const li = document.createElement('li');\n",
              "    li.append(span(file.name, {fontWeight: 'bold'}));\n",
              "    li.append(span(\n",
              "        `(${file.type || 'n/a'}) - ${file.size} bytes, ` +\n",
              "        `last modified: ${\n",
              "            file.lastModifiedDate ? file.lastModifiedDate.toLocaleDateString() :\n",
              "                                    'n/a'} - `));\n",
              "    const percent = span('0% done');\n",
              "    li.appendChild(percent);\n",
              "\n",
              "    outputElement.appendChild(li);\n",
              "\n",
              "    const fileDataPromise = new Promise((resolve) => {\n",
              "      const reader = new FileReader();\n",
              "      reader.onload = (e) => {\n",
              "        resolve(e.target.result);\n",
              "      };\n",
              "      reader.readAsArrayBuffer(file);\n",
              "    });\n",
              "    // Wait for the data to be ready.\n",
              "    let fileData = yield {\n",
              "      promise: fileDataPromise,\n",
              "      response: {\n",
              "        action: 'continue',\n",
              "      }\n",
              "    };\n",
              "\n",
              "    // Use a chunked sending to avoid message size limits. See b/62115660.\n",
              "    let position = 0;\n",
              "    do {\n",
              "      const length = Math.min(fileData.byteLength - position, MAX_PAYLOAD_SIZE);\n",
              "      const chunk = new Uint8Array(fileData, position, length);\n",
              "      position += length;\n",
              "\n",
              "      const base64 = btoa(String.fromCharCode.apply(null, chunk));\n",
              "      yield {\n",
              "        response: {\n",
              "          action: 'append',\n",
              "          file: file.name,\n",
              "          data: base64,\n",
              "        },\n",
              "      };\n",
              "\n",
              "      let percentDone = fileData.byteLength === 0 ?\n",
              "          100 :\n",
              "          Math.round((position / fileData.byteLength) * 100);\n",
              "      percent.textContent = `${percentDone}% done`;\n",
              "\n",
              "    } while (position < fileData.byteLength);\n",
              "  }\n",
              "\n",
              "  // All done.\n",
              "  yield {\n",
              "    response: {\n",
              "      action: 'complete',\n",
              "    }\n",
              "  };\n",
              "}\n",
              "\n",
              "scope.google = scope.google || {};\n",
              "scope.google.colab = scope.google.colab || {};\n",
              "scope.google.colab._files = {\n",
              "  _uploadFiles,\n",
              "  _uploadFilesContinue,\n",
              "};\n",
              "})(self);\n",
              "</script> "
            ]
          },
          "metadata": {}
        },
        {
          "output_type": "stream",
          "name": "stdout",
          "text": [
            "Saving amazon_laptops_products_full.csv to amazon_laptops_products_full.csv\n"
          ]
        }
      ]
    },
    {
      "cell_type": "code",
      "source": [
        "%%writefile app.py\n",
        "import streamlit as st\n",
        "import pandas as pd\n",
        "import graphviz\n",
        "\n",
        "# Load data from CSV\n",
        "@st.cache_data\n",
        "def load_data():\n",
        "    return pd.read_csv(\"amazon_laptops_products_full.csv\")\n",
        "\n",
        "data = load_data()\n",
        "\n",
        "# Title\n",
        "st.title(\"🧠 Intelligent Web Crawler & Analyzer\")\n",
        "st.markdown(\"**Target Website:** Amazon (Search: Laptops)\")\n",
        "\n",
        "# Section 1 - Crawlability\n",
        "st.header(\"🔍 Crawlability Overview\")\n",
        "st.metric(\"Crawlability Score\", \"70 / 100\")\n",
        "st.markdown(\"\"\"\n",
        "- ✅ Product/search pages allowed\n",
        "- ❌ Cart & account pages disallowed\n",
        "- ❌ Sitemap not found\n",
        "- ✅ No crawl-delay detected\n",
        "\"\"\")\n",
        "\n",
        "# Section 2 - Extracted Data Table\n",
        "st.header(\"📦 Top Extracted Product Data\")\n",
        "st.dataframe(data.head(10))\n",
        "\n",
        "# Section 3 - JS/API/RSS Detection\n",
        "st.header(\"⚙️ Technology & Access Check\")\n",
        "st.subheader(\"JavaScript-Heavy Site?\")\n",
        "st.success(\"✅ Yes – JavaScript detected via multiple <script> tags\")\n",
        "\n",
        "st.subheader(\"RSS Feeds?\")\n",
        "st.error(\"❌ No RSS feeds found\")\n",
        "\n",
        "st.subheader(\"API Endpoints?\")\n",
        "st.info(\"🔗 Few API-like links found in HTML (e.g., `/api/` or `.json`)\")\n",
        "\n",
        "# Section 4 - Crawling Recommendations\n",
        "st.header(\"📌 Crawling Recommendations\")\n",
        "st.markdown(\"\"\"\n",
        "- Use **Selenium** or **Playwright** for dynamic pages\n",
        "- No public API or RSS — use **ScraperAPI** for rendering\n",
        "- Add retry delays & respect robots.txt\n",
        "\"\"\")\n",
        "\n",
        "# Section 5 - Visual Sitemap\n",
        "st.header(\"🗺️ Visual Sitemap\")\n",
        "dot = graphviz.Digraph()\n",
        "dot.node(\"Home\")\n",
        "dot.node(\"Search Results\")\n",
        "dot.node(\"Product Page\")\n",
        "dot.node(\"Cart (Blocked)\")\n",
        "dot.edges([(\"Home\", \"Search Results\"), (\"Search Results\", \"Product Page\")])\n",
        "st.graphviz_chart(dot)\n"
      ],
      "metadata": {
        "colab": {
          "base_uri": "https://localhost:8080/"
        },
        "id": "2u5h6DR_Txfu",
        "outputId": "1d171d26-6129-4ed0-8504-ef66567fb35a"
      },
      "execution_count": null,
      "outputs": [
        {
          "output_type": "stream",
          "name": "stdout",
          "text": [
            "Writing app.py\n"
          ]
        }
      ]
    },
    {
      "cell_type": "code",
      "source": [
        "from pyngrok import ngrok\n",
        "\n",
        "# Set authtoken (only once per session)\n",
        "ngrok.set_auth_token(\"2xNC5z81FSW84NRDlVNtJyChVbk_3UxQ63bTqPtZwamdYe8em\")\n"
      ],
      "metadata": {
        "id": "v803bds8UFL-"
      },
      "execution_count": null,
      "outputs": []
    },
    {
      "cell_type": "code",
      "source": [
        "from pyngrok import ngrok\n",
        "\n",
        "# Launch ngrok tunnel to localhost:8501\n",
        "public_url = ngrok.connect(\"http://localhost:8501\")\n",
        "print(\"🌐 Streamlit URL:\", public_url)\n"
      ],
      "metadata": {
        "colab": {
          "base_uri": "https://localhost:8080/"
        },
        "id": "k9nkC-9oUXwy",
        "outputId": "4d2b2634-bb4a-455b-cd6c-b2aef4b05b69"
      },
      "execution_count": null,
      "outputs": [
        {
          "output_type": "stream",
          "name": "stdout",
          "text": [
            "🌐 Streamlit URL: NgrokTunnel: \"https://94ae-34-139-111-78.ngrok-free.app\" -> \"http://localhost:8501\"\n"
          ]
        }
      ]
    },
    {
      "cell_type": "code",
      "source": [
        "import streamlit as st\n",
        "import pandas as pd\n",
        "\n",
        "st.set_page_config(page_title=\"Amazon Crawler Dashboard\", layout=\"wide\")\n",
        "\n",
        "st.title(\"🧠 Intelligent Web Crawler & Analyzer\")\n",
        "st.markdown(\"### Website: [Amazon](https://www.amazon.com)\")\n",
        "\n",
        "# Section 1: Crawlability Summary\n",
        "st.header(\"📋 Crawlability Summary\")\n",
        "\n",
        "crawlability = {\n",
        "    \"Allowed\": [\n",
        "        \"/gp/product/B09G3HRMVB\",\n",
        "        \"/s?k=laptops\"\n",
        "    ],\n",
        "    \"Disallowed\": [\n",
        "        \"/gp/cart\",\n",
        "        \"/gp/help/customer/contact-us\"\n",
        "    ]\n",
        "}\n",
        "\n",
        "col1, col2 = st.columns(2)\n",
        "col1.metric(\"✅ Allowed Paths\", len(crawlability[\"Allowed\"]))\n",
        "col2.metric(\"❌ Disallowed Paths\", len(crawlability[\"Disallowed\"]))\n",
        "\n",
        "with st.expander(\"See Crawlability Rules\"):\n",
        "    st.json(crawlability)\n",
        "\n",
        "# Section 2: Extracted Data\n",
        "st.header(\"📦 Top Extracted Products\")\n",
        "\n",
        "try:\n",
        "    df = pd.read_csv(\"amazon_laptops_products_full.csv\")\n",
        "    st.dataframe(df.head(10), use_container_width=True)\n",
        "except:\n",
        "    st.warning(\"Product CSV not found. Please run the scraper first.\")\n",
        "\n",
        "# Section 3: JS, RSS, and API Info\n",
        "st.header(\"🕸️ Site Behavior Analysis\")\n",
        "\n",
        "js_heavy = True\n",
        "rss_found = []\n",
        "api_found = [\"https://www.amazon.com/api/example.json\"]\n",
        "\n",
        "st.markdown(f\"**JavaScript-heavy site:** {'✅ Yes' if js_heavy else '❌ No'}\")\n",
        "st.markdown(\"**RSS Feeds Found:** \" + (', '.join(rss_found) if rss_found else \"None\"))\n",
        "st.markdown(\"**API Endpoints Found:**\")\n",
        "st.code(\"\\n\".join(api_found) if api_found else \"No public APIs detected.\")\n",
        "\n",
        "# Section 4: Tool Recommendations\n",
        "st.header(\"🛠 Recommended Tools\")\n",
        "\n",
        "st.markdown(\"\"\"\n",
        "- `requests` + `BeautifulSoup` (basic HTML pages)\n",
        "- `Selenium` or `Playwright` (JavaScript-rendered content)\n",
        "- `ScraperAPI` or `Rotating Proxies` for large-scale scraping\n",
        "- `pandas` for data storage & cleaning\n",
        "\"\"\")\n"
      ],
      "metadata": {
        "colab": {
          "base_uri": "https://localhost:8080/"
        },
        "id": "JQffdeSaUmiT",
        "outputId": "89026f7d-fd84-4a80-c699-a08b26f06033"
      },
      "execution_count": null,
      "outputs": [
        {
          "output_type": "stream",
          "name": "stderr",
          "text": [
            "2025-05-20 20:11:29.432 WARNING streamlit.runtime.scriptrunner_utils.script_run_context: Thread 'MainThread': missing ScriptRunContext! This warning can be ignored when running in bare mode.\n",
            "2025-05-20 20:11:29.434 WARNING streamlit.runtime.scriptrunner_utils.script_run_context: Thread 'MainThread': missing ScriptRunContext! This warning can be ignored when running in bare mode.\n",
            "2025-05-20 20:11:29.562 \n",
            "  \u001b[33m\u001b[1mWarning:\u001b[0m to view this Streamlit app on a browser, run it with the following\n",
            "  command:\n",
            "\n",
            "    streamlit run /usr/local/lib/python3.11/dist-packages/colab_kernel_launcher.py [ARGUMENTS]\n",
            "2025-05-20 20:11:29.564 Thread 'MainThread': missing ScriptRunContext! This warning can be ignored when running in bare mode.\n",
            "2025-05-20 20:11:29.568 Thread 'MainThread': missing ScriptRunContext! This warning can be ignored when running in bare mode.\n",
            "2025-05-20 20:11:29.570 Thread 'MainThread': missing ScriptRunContext! This warning can be ignored when running in bare mode.\n",
            "2025-05-20 20:11:29.571 Thread 'MainThread': missing ScriptRunContext! This warning can be ignored when running in bare mode.\n",
            "2025-05-20 20:11:29.573 Thread 'MainThread': missing ScriptRunContext! This warning can be ignored when running in bare mode.\n",
            "2025-05-20 20:11:29.575 Thread 'MainThread': missing ScriptRunContext! This warning can be ignored when running in bare mode.\n",
            "2025-05-20 20:11:29.577 Thread 'MainThread': missing ScriptRunContext! This warning can be ignored when running in bare mode.\n",
            "2025-05-20 20:11:29.578 Thread 'MainThread': missing ScriptRunContext! This warning can be ignored when running in bare mode.\n",
            "2025-05-20 20:11:29.579 Thread 'MainThread': missing ScriptRunContext! This warning can be ignored when running in bare mode.\n",
            "2025-05-20 20:11:29.580 Thread 'MainThread': missing ScriptRunContext! This warning can be ignored when running in bare mode.\n",
            "2025-05-20 20:11:29.583 Thread 'MainThread': missing ScriptRunContext! This warning can be ignored when running in bare mode.\n",
            "2025-05-20 20:11:29.584 Thread 'MainThread': missing ScriptRunContext! This warning can be ignored when running in bare mode.\n",
            "2025-05-20 20:11:29.585 Thread 'MainThread': missing ScriptRunContext! This warning can be ignored when running in bare mode.\n",
            "2025-05-20 20:11:29.586 Thread 'MainThread': missing ScriptRunContext! This warning can be ignored when running in bare mode.\n",
            "2025-05-20 20:11:29.587 Thread 'MainThread': missing ScriptRunContext! This warning can be ignored when running in bare mode.\n",
            "2025-05-20 20:11:29.589 Thread 'MainThread': missing ScriptRunContext! This warning can be ignored when running in bare mode.\n",
            "2025-05-20 20:11:29.590 Thread 'MainThread': missing ScriptRunContext! This warning can be ignored when running in bare mode.\n",
            "2025-05-20 20:11:29.594 Thread 'MainThread': missing ScriptRunContext! This warning can be ignored when running in bare mode.\n",
            "2025-05-20 20:11:29.596 Thread 'MainThread': missing ScriptRunContext! This warning can be ignored when running in bare mode.\n",
            "2025-05-20 20:11:29.597 Thread 'MainThread': missing ScriptRunContext! This warning can be ignored when running in bare mode.\n",
            "2025-05-20 20:11:29.598 Thread 'MainThread': missing ScriptRunContext! This warning can be ignored when running in bare mode.\n",
            "2025-05-20 20:11:29.600 Thread 'MainThread': missing ScriptRunContext! This warning can be ignored when running in bare mode.\n",
            "2025-05-20 20:11:29.602 Thread 'MainThread': missing ScriptRunContext! This warning can be ignored when running in bare mode.\n",
            "2025-05-20 20:11:29.603 Thread 'MainThread': missing ScriptRunContext! This warning can be ignored when running in bare mode.\n",
            "2025-05-20 20:11:29.604 Thread 'MainThread': missing ScriptRunContext! This warning can be ignored when running in bare mode.\n",
            "2025-05-20 20:11:29.605 Thread 'MainThread': missing ScriptRunContext! This warning can be ignored when running in bare mode.\n",
            "2025-05-20 20:11:29.606 Thread 'MainThread': missing ScriptRunContext! This warning can be ignored when running in bare mode.\n",
            "2025-05-20 20:11:29.607 Thread 'MainThread': missing ScriptRunContext! This warning can be ignored when running in bare mode.\n",
            "2025-05-20 20:11:29.608 Thread 'MainThread': missing ScriptRunContext! This warning can be ignored when running in bare mode.\n",
            "2025-05-20 20:11:29.609 Thread 'MainThread': missing ScriptRunContext! This warning can be ignored when running in bare mode.\n",
            "2025-05-20 20:11:29.609 Thread 'MainThread': missing ScriptRunContext! This warning can be ignored when running in bare mode.\n",
            "2025-05-20 20:11:29.610 Thread 'MainThread': missing ScriptRunContext! This warning can be ignored when running in bare mode.\n",
            "2025-05-20 20:11:29.611 Thread 'MainThread': missing ScriptRunContext! This warning can be ignored when running in bare mode.\n"
          ]
        },
        {
          "output_type": "execute_result",
          "data": {
            "text/plain": [
              "DeltaGenerator()"
            ]
          },
          "metadata": {},
          "execution_count": 8
        }
      ]
    },
    {
      "cell_type": "code",
      "source": [
        "%%writefile app.py\n",
        "import streamlit as st\n",
        "\n",
        "st.title(\"🚀 Hello from Streamlit in Colab!\")\n",
        "st.write(\"This Streamlit app is running via ngrok.\")\n"
      ],
      "metadata": {
        "colab": {
          "base_uri": "https://localhost:8080/"
        },
        "id": "COd1XebpViD4",
        "outputId": "5f720c57-88f8-4c5a-d7da-547ee96e7773"
      },
      "execution_count": null,
      "outputs": [
        {
          "output_type": "stream",
          "name": "stdout",
          "text": [
            "Overwriting app.py\n"
          ]
        }
      ]
    },
    {
      "cell_type": "code",
      "source": [
        "!pip install streamlit pyngrok\n"
      ],
      "metadata": {
        "colab": {
          "base_uri": "https://localhost:8080/"
        },
        "id": "aR1yPMkuVjwY",
        "outputId": "c6dd3ecc-cfa0-466a-d658-6f6c1d54d867"
      },
      "execution_count": null,
      "outputs": [
        {
          "output_type": "stream",
          "name": "stdout",
          "text": [
            "Requirement already satisfied: streamlit in /usr/local/lib/python3.11/dist-packages (1.45.1)\n",
            "Requirement already satisfied: pyngrok in /usr/local/lib/python3.11/dist-packages (7.2.8)\n",
            "Requirement already satisfied: altair<6,>=4.0 in /usr/local/lib/python3.11/dist-packages (from streamlit) (5.5.0)\n",
            "Requirement already satisfied: blinker<2,>=1.5.0 in /usr/local/lib/python3.11/dist-packages (from streamlit) (1.9.0)\n",
            "Requirement already satisfied: cachetools<6,>=4.0 in /usr/local/lib/python3.11/dist-packages (from streamlit) (5.5.2)\n",
            "Requirement already satisfied: click<9,>=7.0 in /usr/local/lib/python3.11/dist-packages (from streamlit) (8.2.0)\n",
            "Requirement already satisfied: numpy<3,>=1.23 in /usr/local/lib/python3.11/dist-packages (from streamlit) (2.0.2)\n",
            "Requirement already satisfied: packaging<25,>=20 in /usr/local/lib/python3.11/dist-packages (from streamlit) (24.2)\n",
            "Requirement already satisfied: pandas<3,>=1.4.0 in /usr/local/lib/python3.11/dist-packages (from streamlit) (2.2.2)\n",
            "Requirement already satisfied: pillow<12,>=7.1.0 in /usr/local/lib/python3.11/dist-packages (from streamlit) (11.2.1)\n",
            "Requirement already satisfied: protobuf<7,>=3.20 in /usr/local/lib/python3.11/dist-packages (from streamlit) (5.29.4)\n",
            "Requirement already satisfied: pyarrow>=7.0 in /usr/local/lib/python3.11/dist-packages (from streamlit) (18.1.0)\n",
            "Requirement already satisfied: requests<3,>=2.27 in /usr/local/lib/python3.11/dist-packages (from streamlit) (2.32.3)\n",
            "Requirement already satisfied: tenacity<10,>=8.1.0 in /usr/local/lib/python3.11/dist-packages (from streamlit) (9.1.2)\n",
            "Requirement already satisfied: toml<2,>=0.10.1 in /usr/local/lib/python3.11/dist-packages (from streamlit) (0.10.2)\n",
            "Requirement already satisfied: typing-extensions<5,>=4.4.0 in /usr/local/lib/python3.11/dist-packages (from streamlit) (4.13.2)\n",
            "Requirement already satisfied: watchdog<7,>=2.1.5 in /usr/local/lib/python3.11/dist-packages (from streamlit) (6.0.0)\n",
            "Requirement already satisfied: gitpython!=3.1.19,<4,>=3.0.7 in /usr/local/lib/python3.11/dist-packages (from streamlit) (3.1.44)\n",
            "Requirement already satisfied: pydeck<1,>=0.8.0b4 in /usr/local/lib/python3.11/dist-packages (from streamlit) (0.9.1)\n",
            "Requirement already satisfied: tornado<7,>=6.0.3 in /usr/local/lib/python3.11/dist-packages (from streamlit) (6.4.2)\n",
            "Requirement already satisfied: PyYAML>=5.1 in /usr/local/lib/python3.11/dist-packages (from pyngrok) (6.0.2)\n",
            "Requirement already satisfied: jinja2 in /usr/local/lib/python3.11/dist-packages (from altair<6,>=4.0->streamlit) (3.1.6)\n",
            "Requirement already satisfied: jsonschema>=3.0 in /usr/local/lib/python3.11/dist-packages (from altair<6,>=4.0->streamlit) (4.23.0)\n",
            "Requirement already satisfied: narwhals>=1.14.2 in /usr/local/lib/python3.11/dist-packages (from altair<6,>=4.0->streamlit) (1.39.0)\n",
            "Requirement already satisfied: gitdb<5,>=4.0.1 in /usr/local/lib/python3.11/dist-packages (from gitpython!=3.1.19,<4,>=3.0.7->streamlit) (4.0.12)\n",
            "Requirement already satisfied: python-dateutil>=2.8.2 in /usr/local/lib/python3.11/dist-packages (from pandas<3,>=1.4.0->streamlit) (2.9.0.post0)\n",
            "Requirement already satisfied: pytz>=2020.1 in /usr/local/lib/python3.11/dist-packages (from pandas<3,>=1.4.0->streamlit) (2025.2)\n",
            "Requirement already satisfied: tzdata>=2022.7 in /usr/local/lib/python3.11/dist-packages (from pandas<3,>=1.4.0->streamlit) (2025.2)\n",
            "Requirement already satisfied: charset-normalizer<4,>=2 in /usr/local/lib/python3.11/dist-packages (from requests<3,>=2.27->streamlit) (3.4.2)\n",
            "Requirement already satisfied: idna<4,>=2.5 in /usr/local/lib/python3.11/dist-packages (from requests<3,>=2.27->streamlit) (3.10)\n",
            "Requirement already satisfied: urllib3<3,>=1.21.1 in /usr/local/lib/python3.11/dist-packages (from requests<3,>=2.27->streamlit) (2.4.0)\n",
            "Requirement already satisfied: certifi>=2017.4.17 in /usr/local/lib/python3.11/dist-packages (from requests<3,>=2.27->streamlit) (2025.4.26)\n",
            "Requirement already satisfied: smmap<6,>=3.0.1 in /usr/local/lib/python3.11/dist-packages (from gitdb<5,>=4.0.1->gitpython!=3.1.19,<4,>=3.0.7->streamlit) (5.0.2)\n",
            "Requirement already satisfied: MarkupSafe>=2.0 in /usr/local/lib/python3.11/dist-packages (from jinja2->altair<6,>=4.0->streamlit) (3.0.2)\n",
            "Requirement already satisfied: attrs>=22.2.0 in /usr/local/lib/python3.11/dist-packages (from jsonschema>=3.0->altair<6,>=4.0->streamlit) (25.3.0)\n",
            "Requirement already satisfied: jsonschema-specifications>=2023.03.6 in /usr/local/lib/python3.11/dist-packages (from jsonschema>=3.0->altair<6,>=4.0->streamlit) (2025.4.1)\n",
            "Requirement already satisfied: referencing>=0.28.4 in /usr/local/lib/python3.11/dist-packages (from jsonschema>=3.0->altair<6,>=4.0->streamlit) (0.36.2)\n",
            "Requirement already satisfied: rpds-py>=0.7.1 in /usr/local/lib/python3.11/dist-packages (from jsonschema>=3.0->altair<6,>=4.0->streamlit) (0.24.0)\n",
            "Requirement already satisfied: six>=1.5 in /usr/local/lib/python3.11/dist-packages (from python-dateutil>=2.8.2->pandas<3,>=1.4.0->streamlit) (1.17.0)\n"
          ]
        }
      ]
    },
    {
      "cell_type": "code",
      "source": [
        "from pyngrok import conf\n",
        "\n",
        "conf.get_default().auth_token = \"2xNC5z81FSW84NRDlVNtJyChVbk_3UxQ63bTqPtZwamdYe8em\"\n"
      ],
      "metadata": {
        "id": "kkRSb2LuVmqt"
      },
      "execution_count": null,
      "outputs": []
    },
    {
      "cell_type": "code",
      "source": [
        "!streamlit run app.py &\n"
      ],
      "metadata": {
        "colab": {
          "base_uri": "https://localhost:8080/"
        },
        "id": "iuHf0jFyVsLT",
        "outputId": "e0a1861c-69c7-412a-859e-9f9cec1fcac5"
      },
      "execution_count": null,
      "outputs": [
        {
          "output_type": "stream",
          "name": "stdout",
          "text": [
            "\n",
            "Collecting usage statistics. To deactivate, set browser.gatherUsageStats to false.\n",
            "\u001b[0m\n",
            "\u001b[0m\n",
            "\u001b[34m\u001b[1m  You can now view your Streamlit app in your browser.\u001b[0m\n",
            "\u001b[0m\n",
            "\u001b[34m  Local URL: \u001b[0m\u001b[1mhttp://localhost:8501\u001b[0m\n",
            "\u001b[34m  Network URL: \u001b[0m\u001b[1mhttp://172.28.0.12:8501\u001b[0m\n",
            "\u001b[34m  External URL: \u001b[0m\u001b[1mhttp://34.139.111.78:8501\u001b[0m\n",
            "\u001b[0m\n",
            "\u001b[34m  Stopping...\u001b[0m\n"
          ]
        }
      ]
    },
    {
      "cell_type": "code",
      "source": [
        "from pyngrok import ngrok\n",
        "\n",
        "public_url = ngrok.connect(8501)\n",
        "print(\"🌐 Public Streamlit URL:\", public_url)\n"
      ],
      "metadata": {
        "colab": {
          "base_uri": "https://localhost:8080/"
        },
        "id": "hJXK4lCpWnxI",
        "outputId": "5f062384-e8fd-42db-c76b-fc54d47d4fd3"
      },
      "execution_count": null,
      "outputs": [
        {
          "output_type": "stream",
          "name": "stdout",
          "text": [
            "🌐 Public Streamlit URL: NgrokTunnel: \"https://e3c5-34-139-111-78.ngrok-free.app\" -> \"http://localhost:8501\"\n"
          ]
        }
      ]
    },
    {
      "cell_type": "code",
      "source": [
        "!streamlit run app.py &>/content/logs.txt &\n"
      ],
      "metadata": {
        "id": "E0nCl2-XW8Po"
      },
      "execution_count": null,
      "outputs": []
    },
    {
      "cell_type": "code",
      "source": [
        "!ngrok config add-authtoken 2xNJZIxkc99D6Mis5rWHwGD9CPG_62Gf5EbNBfTaUiMHSiYgQ\n"
      ],
      "metadata": {
        "colab": {
          "base_uri": "https://localhost:8080/"
        },
        "id": "CjWd94DFX_vA",
        "outputId": "0c37a7fa-ef98-45a2-9808-6c3778f966f3"
      },
      "execution_count": null,
      "outputs": [
        {
          "output_type": "stream",
          "name": "stdout",
          "text": [
            "Authtoken saved to configuration file: /root/.config/ngrok/ngrok.yml\n"
          ]
        }
      ]
    },
    {
      "cell_type": "code",
      "source": [
        "from pyngrok import ngrok\n",
        "ngrok.kill()\n"
      ],
      "metadata": {
        "id": "oITouOmjYUER"
      },
      "execution_count": null,
      "outputs": []
    },
    {
      "cell_type": "code",
      "source": [
        "public_url = ngrok.connect(\"8501\", \"http\")\n",
        "print(\"🌐 Public URL:\", public_url)\n"
      ],
      "metadata": {
        "colab": {
          "base_uri": "https://localhost:8080/"
        },
        "id": "YDthKagFYVkL",
        "outputId": "4ef8bb75-d302-42a5-cc05-50bb360904fe"
      },
      "execution_count": null,
      "outputs": [
        {
          "output_type": "stream",
          "name": "stdout",
          "text": [
            "🌐 Public URL: NgrokTunnel: \"https://af4d-34-139-111-78.ngrok-free.app\" -> \"http://localhost:8501\"\n"
          ]
        }
      ]
    },
    {
      "cell_type": "code",
      "source": [
        "st.set_page_config(page_title=\"Web Crawler & Analyzer\", layout=\"wide\")\n",
        "st.title(\"🌐 Intelligent Web Crawler & Analyzer\")\n",
        "st.markdown(\"### Member 4: Visual & Report Designer\")\n"
      ],
      "metadata": {
        "colab": {
          "base_uri": "https://localhost:8080/"
        },
        "id": "7u5e-D8LYaQ2",
        "outputId": "4737879d-5a07-409b-f8bc-9810b0dd501e"
      },
      "execution_count": null,
      "outputs": [
        {
          "output_type": "stream",
          "name": "stderr",
          "text": [
            "2025-05-20 20:32:29.201 Thread 'MainThread': missing ScriptRunContext! This warning can be ignored when running in bare mode.\n",
            "2025-05-20 20:32:29.209 Thread 'MainThread': missing ScriptRunContext! This warning can be ignored when running in bare mode.\n",
            "2025-05-20 20:32:29.212 Thread 'MainThread': missing ScriptRunContext! This warning can be ignored when running in bare mode.\n",
            "2025-05-20 20:32:29.214 Thread 'MainThread': missing ScriptRunContext! This warning can be ignored when running in bare mode.\n",
            "2025-05-20 20:32:29.218 Thread 'MainThread': missing ScriptRunContext! This warning can be ignored when running in bare mode.\n"
          ]
        },
        {
          "output_type": "execute_result",
          "data": {
            "text/plain": [
              "DeltaGenerator()"
            ]
          },
          "metadata": {},
          "execution_count": 20
        }
      ]
    },
    {
      "cell_type": "code",
      "source": [
        "import streamlit as st\n",
        "import pandas as pd\n",
        "\n",
        "# 🧪 Temporary fake data to test your layout\n",
        "crawled_data_df = pd.DataFrame({\n",
        "    \"URL\": [\"https://example.com\", \"https://openai.com\"],\n",
        "    \"Title\": [\"Example Domain\", \"OpenAI\"],\n",
        "    \"Keywords\": [[\"example\", \"domain\"], [\"AI\", \"machine learning\"]],\n",
        "})\n",
        "\n",
        "# Display with title\n",
        "st.markdown(\"## 🔍 Analysis Results (Mock Data)\")\n",
        "st.dataframe(crawled_data_df)\n"
      ],
      "metadata": {
        "colab": {
          "base_uri": "https://localhost:8080/"
        },
        "id": "jQRTJYLIaBbo",
        "outputId": "c39cdad6-b733-425c-c517-c717418fb437"
      },
      "execution_count": null,
      "outputs": [
        {
          "output_type": "stream",
          "name": "stderr",
          "text": [
            "2025-05-20 20:35:12.449 Thread 'MainThread': missing ScriptRunContext! This warning can be ignored when running in bare mode.\n",
            "2025-05-20 20:35:12.451 Thread 'MainThread': missing ScriptRunContext! This warning can be ignored when running in bare mode.\n",
            "2025-05-20 20:35:12.532 Thread 'MainThread': missing ScriptRunContext! This warning can be ignored when running in bare mode.\n",
            "2025-05-20 20:35:12.536 Thread 'MainThread': missing ScriptRunContext! This warning can be ignored when running in bare mode.\n"
          ]
        },
        {
          "output_type": "execute_result",
          "data": {
            "text/plain": [
              "DeltaGenerator()"
            ]
          },
          "metadata": {},
          "execution_count": 22
        }
      ]
    },
    {
      "cell_type": "code",
      "source": [
        "%%writefile app.py\n",
        "import streamlit as st\n",
        "import pandas as pd\n",
        "\n",
        "# Title\n",
        "st.markdown(\"# 📊 Intelligent Web Crawler - Member 4 View\")\n",
        "\n",
        "# Tabs for layout\n",
        "tab1, tab2, tab3 = st.tabs([\"Overview\", \"Analysis Results\", \"Report\"])\n",
        "\n",
        "with tab1:\n",
        "    st.write(\"Welcome! This is the frontend designed by Member 4.\")\n",
        "    st.write(\"It displays the crawled and analyzed data below.\")\n",
        "\n",
        "with tab2:\n",
        "    # Mock data (replace this with real output later)\n",
        "    crawled_data_df = pd.DataFrame({\n",
        "        \"URL\": [\"https://example.com\", \"https://openai.com\"],\n",
        "        \"Title\": [\"Example Domain\", \"OpenAI\"],\n",
        "        \"Keywords\": [[\"example\", \"domain\"], [\"AI\", \"machine learning\"]],\n",
        "    })\n",
        "    st.markdown(\"### 🔍 Analysis Results\")\n",
        "    st.dataframe(crawled_data_df)\n",
        "\n",
        "with tab3:\n",
        "    st.markdown(\"### 📥 Download Report\")\n",
        "    st.download_button(\n",
        "        label=\"Download mock CSV\",\n",
        "        data=crawled_data_df.to_csv(index=False).encode('utf-8'),\n",
        "        file_name='crawled_data.csv',\n",
        "        mime='text/csv'\n",
        "    )\n"
      ],
      "metadata": {
        "colab": {
          "base_uri": "https://localhost:8080/"
        },
        "id": "l-WpUyIWaPqR",
        "outputId": "ed3b8091-3840-4b51-9bdc-dc6325d3c226"
      },
      "execution_count": null,
      "outputs": [
        {
          "output_type": "stream",
          "name": "stdout",
          "text": [
            "Overwriting app.py\n"
          ]
        }
      ]
    },
    {
      "cell_type": "code",
      "source": [
        "!streamlit run app.py &\n"
      ],
      "metadata": {
        "colab": {
          "base_uri": "https://localhost:8080/"
        },
        "id": "3etMACgQaRL0",
        "outputId": "4a71c0a0-220e-46aa-bd2f-c647ccc3a41b"
      },
      "execution_count": null,
      "outputs": [
        {
          "output_type": "stream",
          "name": "stdout",
          "text": [
            "\n",
            "Collecting usage statistics. To deactivate, set browser.gatherUsageStats to false.\n",
            "\u001b[0m\n",
            "\u001b[0m\n",
            "\u001b[34m\u001b[1m  You can now view your Streamlit app in your browser.\u001b[0m\n",
            "\u001b[0m\n",
            "\u001b[34m  Local URL: \u001b[0m\u001b[1mhttp://localhost:8502\u001b[0m\n",
            "\u001b[34m  Network URL: \u001b[0m\u001b[1mhttp://172.28.0.12:8502\u001b[0m\n",
            "\u001b[34m  External URL: \u001b[0m\u001b[1mhttp://34.139.111.78:8502\u001b[0m\n",
            "\u001b[0m\n",
            "\u001b[34m  Stopping...\u001b[0m\n"
          ]
        }
      ]
    },
    {
      "cell_type": "code",
      "source": [
        "from pyngrok import ngrok\n",
        "\n",
        "# If ngrok was already running, kill the previous tunnel first\n",
        "ngrok.kill()  # To avoid the \"only 1 tunnel\" error\n",
        "\n",
        "# Connect to the Streamlit app\n",
        "public_url = ngrok.connect(8501)\n",
        "print(\"🌐 Public URL:\", public_url)\n"
      ],
      "metadata": {
        "colab": {
          "base_uri": "https://localhost:8080/"
        },
        "id": "UIdvoW0SaUwD",
        "outputId": "9d920722-1296-4564-a21e-83718f127348"
      },
      "execution_count": null,
      "outputs": [
        {
          "output_type": "stream",
          "name": "stdout",
          "text": [
            "🌐 Public URL: NgrokTunnel: \"https://a608-34-139-111-78.ngrok-free.app\" -> \"http://localhost:8501\"\n"
          ]
        }
      ]
    },
    {
      "cell_type": "code",
      "source": [
        "%%writefile app.py\n",
        "import streamlit as st\n",
        "import pandas as pd\n",
        "\n",
        "st.set_page_config(page_title=\"IR Project\", layout=\"wide\")\n",
        "\n",
        "st.markdown(\"# 🚀 Intelligent Web Crawler (Member 4 UI)\")\n",
        "\n",
        "tab1, tab2, tab3 = st.tabs([\"Overview\", \"Analysis Results\", \"Report\"])\n",
        "\n",
        "with tab1:\n",
        "    st.write(\"Frontend by Member 4. Displays and downloads results.\")\n",
        "\n",
        "with tab2:\n",
        "    crawled_data_df = pd.DataFrame({\n",
        "        \"URL\": [\"https://example.com\", \"https://openai.com\"],\n",
        "        \"Title\": [\"Example Domain\", \"OpenAI\"],\n",
        "        \"Keywords\": [[\"example\", \"domain\"], [\"AI\", \"machine learning\"]],\n",
        "    })\n",
        "    st.write(\"### 🔍 Analysis Results\")\n",
        "    st.dataframe(crawled_data_df)\n",
        "\n",
        "with tab3:\n",
        "    st.write(\"### 📥 Export Report\")\n",
        "    st.download_button(\n",
        "        \"Download CSV\",\n",
        "        data=crawled_data_df.to_csv(index=False).encode(\"utf-8\"),\n",
        "        file_name=\"report.csv\",\n",
        "        mime=\"text/csv\"\n",
        "    )\n"
      ],
      "metadata": {
        "colab": {
          "base_uri": "https://localhost:8080/"
        },
        "id": "2mtZnVf6akwD",
        "outputId": "250fac07-0fa9-496d-ce09-404c0b1fce2b"
      },
      "execution_count": null,
      "outputs": [
        {
          "output_type": "stream",
          "name": "stdout",
          "text": [
            "Overwriting app.py\n"
          ]
        }
      ]
    },
    {
      "cell_type": "code",
      "source": [
        "!streamlit run app.py &\n"
      ],
      "metadata": {
        "colab": {
          "base_uri": "https://localhost:8080/"
        },
        "id": "dM4E3rwVamDZ",
        "outputId": "df4c7e70-a528-4310-98dc-2bc7c4bcf971"
      },
      "execution_count": null,
      "outputs": [
        {
          "output_type": "stream",
          "name": "stdout",
          "text": [
            "\n",
            "Collecting usage statistics. To deactivate, set browser.gatherUsageStats to false.\n",
            "\u001b[0m\n",
            "\u001b[0m\n",
            "\u001b[34m\u001b[1m  You can now view your Streamlit app in your browser.\u001b[0m\n",
            "\u001b[0m\n",
            "\u001b[34m  Local URL: \u001b[0m\u001b[1mhttp://localhost:8501\u001b[0m\n",
            "\u001b[34m  Network URL: \u001b[0m\u001b[1mhttp://172.28.0.12:8501\u001b[0m\n",
            "\u001b[34m  External URL: \u001b[0m\u001b[1mhttp://34.139.111.78:8501\u001b[0m\n",
            "\u001b[0m\n",
            "\u001b[34m  Stopping...\u001b[0m\n"
          ]
        }
      ]
    },
    {
      "cell_type": "code",
      "source": [
        "from pyngrok import ngrok\n",
        "\n",
        "ngrok.kill()  # Important: Avoid multiple tunnel issues\n",
        "\n",
        "public_url = ngrok.connect(8501)\n",
        "print(\"🌐 Public URL:\", public_url)\n"
      ],
      "metadata": {
        "colab": {
          "base_uri": "https://localhost:8080/"
        },
        "id": "dWve023ras81",
        "outputId": "df43ff49-fb92-46c6-833d-59263021f490"
      },
      "execution_count": null,
      "outputs": [
        {
          "output_type": "stream",
          "name": "stdout",
          "text": [
            "🌐 Public URL: NgrokTunnel: \"https://7bc4-34-139-111-78.ngrok-free.app\" -> \"http://localhost:8501\"\n"
          ]
        }
      ]
    },
    {
      "cell_type": "code",
      "source": [
        "import streamlit as st\n",
        "import pandas as pd\n",
        "\n",
        "st.set_page_config(page_title=\"IR Project - Member 4\", layout=\"wide\")\n",
        "\n",
        "st.title(\"🚀 Intelligent Web Crawler (Member 4 UI)\")\n",
        "tab1, tab2, tab3 = st.tabs([\"Overview\", \"Analysis Results\", \"Report\"])\n",
        "\n",
        "with tab1:\n",
        "    st.markdown(\"### 📌 Project Overview\")\n",
        "    st.markdown(\"This is the Member 4 UI for displaying the crawler output.\")\n",
        "\n",
        "# Sample fake data for testing\n",
        "crawled_data_df = pd.DataFrame({\n",
        "    \"URL\": [\"https://example.com\", \"https://openai.com\"],\n",
        "    \"Title\": [\"Example Domain\", \"OpenAI\"],\n",
        "    \"Keywords\": [[\"example\", \"domain\"], [\"AI\", \"machine learning\"]],\n",
        "})\n",
        "\n",
        "with tab2:\n",
        "    st.markdown(\"### 🔍 Analysis Results\")\n",
        "    st.dataframe(crawled_data_df)\n",
        "\n",
        "with tab3:\n",
        "    st.markdown(\"### 📤 Download Report\")\n",
        "    st.download_button(\"Download CSV\", crawled_data_df.to_csv(index=False), \"results.csv\", \"text/csv\")\n",
        "\n",
        "    !pip install pyngrok streamlit -q\n",
        "\n",
        "from pyngrok import ngrok\n",
        "import threading\n",
        "\n",
        "# Save the streamlit script\n",
        "with open(\"app.py\", \"w\") as f:\n",
        "    f.write(open(\"/content/app.py\").read())  # Replace this with actual Streamlit script or use write() directly\n",
        "\n",
        "# Start Streamlit in a background thread\n",
        "def start_streamlit():\n",
        "    !streamlit run app.py\n",
        "\n",
        "thread = threading.Thread(target=start_streamlit)\n",
        "thread.start()\n",
        "\n",
        "# Create public URL\n",
        "public_url = ngrok.connect(8501)\n",
        "print(\"🌐 Public URL:\", public_url)\n",
        "\n"
      ],
      "metadata": {
        "colab": {
          "base_uri": "https://localhost:8080/"
        },
        "id": "OWXJKrVebMdG",
        "outputId": "5eb7f35d-1de2-4256-c69b-7dec3c48cdec"
      },
      "execution_count": null,
      "outputs": [
        {
          "output_type": "stream",
          "name": "stderr",
          "text": [
            "2025-05-20 20:41:08.543 Thread 'MainThread': missing ScriptRunContext! This warning can be ignored when running in bare mode.\n",
            "2025-05-20 20:41:08.550 Thread 'MainThread': missing ScriptRunContext! This warning can be ignored when running in bare mode.\n",
            "2025-05-20 20:41:08.551 Thread 'MainThread': missing ScriptRunContext! This warning can be ignored when running in bare mode.\n",
            "2025-05-20 20:41:08.553 Thread 'MainThread': missing ScriptRunContext! This warning can be ignored when running in bare mode.\n",
            "2025-05-20 20:41:08.556 Thread 'MainThread': missing ScriptRunContext! This warning can be ignored when running in bare mode.\n",
            "2025-05-20 20:41:08.556 Thread 'MainThread': missing ScriptRunContext! This warning can be ignored when running in bare mode.\n",
            "2025-05-20 20:41:08.558 Thread 'MainThread': missing ScriptRunContext! This warning can be ignored when running in bare mode.\n",
            "2025-05-20 20:41:08.560 Thread 'MainThread': missing ScriptRunContext! This warning can be ignored when running in bare mode.\n",
            "2025-05-20 20:41:08.561 Thread 'MainThread': missing ScriptRunContext! This warning can be ignored when running in bare mode.\n",
            "2025-05-20 20:41:08.564 Thread 'MainThread': missing ScriptRunContext! This warning can be ignored when running in bare mode.\n",
            "2025-05-20 20:41:08.565 Thread 'MainThread': missing ScriptRunContext! This warning can be ignored when running in bare mode.\n",
            "2025-05-20 20:41:08.566 Thread 'MainThread': missing ScriptRunContext! This warning can be ignored when running in bare mode.\n",
            "2025-05-20 20:41:08.569 Thread 'MainThread': missing ScriptRunContext! This warning can be ignored when running in bare mode.\n",
            "2025-05-20 20:41:08.571 Thread 'MainThread': missing ScriptRunContext! This warning can be ignored when running in bare mode.\n",
            "2025-05-20 20:41:08.575 Thread 'MainThread': missing ScriptRunContext! This warning can be ignored when running in bare mode.\n",
            "2025-05-20 20:41:08.577 Thread 'MainThread': missing ScriptRunContext! This warning can be ignored when running in bare mode.\n",
            "2025-05-20 20:41:08.578 Thread 'MainThread': missing ScriptRunContext! This warning can be ignored when running in bare mode.\n",
            "2025-05-20 20:41:08.580 Thread 'MainThread': missing ScriptRunContext! This warning can be ignored when running in bare mode.\n",
            "2025-05-20 20:41:08.580 Thread 'MainThread': missing ScriptRunContext! This warning can be ignored when running in bare mode.\n",
            "2025-05-20 20:41:08.583 Thread 'MainThread': missing ScriptRunContext! This warning can be ignored when running in bare mode.\n",
            "2025-05-20 20:41:08.584 Thread 'MainThread': missing ScriptRunContext! This warning can be ignored when running in bare mode.\n",
            "2025-05-20 20:41:08.588 Thread 'MainThread': missing ScriptRunContext! This warning can be ignored when running in bare mode.\n",
            "2025-05-20 20:41:08.588 Thread 'MainThread': missing ScriptRunContext! This warning can be ignored when running in bare mode.\n"
          ]
        },
        {
          "output_type": "stream",
          "name": "stdout",
          "text": [
            "🌐 Public URL: NgrokTunnel: \"https://2982-34-139-111-78.ngrok-free.app\" -> \"http://localhost:8501\"\n"
          ]
        }
      ]
    },
    {
      "cell_type": "code",
      "source": [
        "import subprocess\n",
        "subprocess.Popen([\"streamlit\", \"run\", \"app.py\"])\n"
      ],
      "metadata": {
        "colab": {
          "base_uri": "https://localhost:8080/"
        },
        "id": "g6AGOYurb3Pn",
        "outputId": "eb85bda0-2a88-4dbe-f704-55ed60c5299a"
      },
      "execution_count": null,
      "outputs": [
        {
          "output_type": "execute_result",
          "data": {
            "text/plain": [
              "<Popen: returncode: None args: ['streamlit', 'run', 'app.py']>"
            ]
          },
          "metadata": {},
          "execution_count": 33
        }
      ]
    },
    {
      "cell_type": "code",
      "source": [
        "!cat app.py\n"
      ],
      "metadata": {
        "id": "OhOfymcwcDol"
      },
      "execution_count": null,
      "outputs": []
    },
    {
      "cell_type": "code",
      "source": [
        "!nohup streamlit run app.py &\n",
        "!npx ngrok http 8501\n"
      ],
      "metadata": {
        "colab": {
          "base_uri": "https://localhost:8080/"
        },
        "id": "6ndUv-yAcOIg",
        "outputId": "cecd856c-4c3f-45c7-90cc-5d7019074005"
      },
      "execution_count": null,
      "outputs": [
        {
          "output_type": "stream",
          "name": "stdout",
          "text": [
            "nohup: appending output to 'nohup.out'\n",
            "\u001b[1G\u001b[0K⠙\u001b[1G\u001b[0K⠹\u001b[1G\u001b[0K⠸\u001b[1G\u001b[0K⠼\u001b[1G\u001b[0K⠴\u001b[1G\u001b[0K⠦\u001b[1G\u001b[0K\u001b[1G\u001b[0JNeed to install the following packages:\n",
            "ngrok@5.0.0-beta.2\n",
            "Ok to proceed? (y) \u001b[20Gy\n",
            "ok\n",
            "\n",
            "\u001b[1G\u001b[0K⠙\u001b[1G\u001b[0K\u001b[1mnpm\u001b[22m \u001b[31merror\u001b[39m canceled\n",
            "\u001b[1G\u001b[0K⠙\u001b[1G\u001b[0K\u001b[1mnpm\u001b[22m \u001b[31merror\u001b[39m A complete log of this run can be found in: /root/.npm/_logs/2025-05-20T20_44_42_614Z-debug-0.log\n",
            "\u001b[1G\u001b[0K⠙\u001b[1G\u001b[0K"
          ]
        }
      ]
    },
    {
      "cell_type": "code",
      "source": [
        "# Install ngrok only once\n",
        "!wget https://bin.equinox.io/c/4VmDzA7iaHb/ngrok-stable-linux-amd64.zip\n",
        "!unzip -o ngrok-stable-linux-amd64.zip\n",
        "!mv ngrok /usr/local/bin\n"
      ],
      "metadata": {
        "colab": {
          "base_uri": "https://localhost:8080/"
        },
        "id": "uGAdW3nhccfk",
        "outputId": "a6036911-93dc-4fbf-b674-ef53f8c1778a"
      },
      "execution_count": null,
      "outputs": [
        {
          "output_type": "stream",
          "name": "stdout",
          "text": [
            "--2025-05-20 20:45:40--  https://bin.equinox.io/c/4VmDzA7iaHb/ngrok-stable-linux-amd64.zip\n",
            "Resolving bin.equinox.io (bin.equinox.io)... 13.248.244.96, 35.71.179.82, 99.83.220.108, ...\n",
            "Connecting to bin.equinox.io (bin.equinox.io)|13.248.244.96|:443... connected.\n",
            "HTTP request sent, awaiting response... 200 OK\n",
            "Length: 13921656 (13M) [application/octet-stream]\n",
            "Saving to: ‘ngrok-stable-linux-amd64.zip’\n",
            "\n",
            "ngrok-stable-linux- 100%[===================>]  13.28M  81.0MB/s    in 0.2s    \n",
            "\n",
            "2025-05-20 20:45:41 (81.0 MB/s) - ‘ngrok-stable-linux-amd64.zip’ saved [13921656/13921656]\n",
            "\n",
            "Archive:  ngrok-stable-linux-amd64.zip\n",
            "  inflating: ngrok                   \n"
          ]
        }
      ]
    },
    {
      "cell_type": "code",
      "source": [
        "# Replace with your actual authtoken from https://dashboard.ngrok.com/get-started/your-authtoken\n",
        "!ngrok config add-authtoken 2xNJZIxkc99D6Mis5rWHwGD9CPG_62Gf5EbNBfTaUiMHSiYgQ\n"
      ],
      "metadata": {
        "colab": {
          "base_uri": "https://localhost:8080/"
        },
        "id": "9Iy3DEOFceB0",
        "outputId": "9c4f2265-9d35-4314-a0b9-e2e45dd1f296"
      },
      "execution_count": null,
      "outputs": [
        {
          "output_type": "stream",
          "name": "stdout",
          "text": [
            "NAME:\n",
            "   ngrok - tunnel local ports to public URLs and inspect traffic\n",
            "\n",
            "DESCRIPTION:\n",
            "    ngrok exposes local networked services behinds NATs and firewalls to the\n",
            "    public internet over a secure tunnel. Share local websites, build/test\n",
            "    webhook consumers and self-host personal services.\n",
            "    Detailed help for each command is available with 'ngrok help <command>'.\n",
            "    Open http://localhost:4040 for ngrok's web interface to inspect traffic.\n",
            "\n",
            "EXAMPLES:\n",
            "    ngrok http 80                    # secure public URL for port 80 web server\n",
            "    ngrok http -subdomain=baz 8080   # port 8080 available at baz.ngrok.io\n",
            "    ngrok http foo.dev:80            # tunnel to host:port instead of localhost\n",
            "    ngrok http https://localhost     # expose a local https server\n",
            "    ngrok tcp 22                     # tunnel arbitrary TCP traffic to port 22\n",
            "    ngrok tls -hostname=foo.com 443  # TLS traffic for foo.com to port 443\n",
            "    ngrok start foo bar baz          # start tunnels from the configuration file\n",
            "\n",
            "VERSION:\n",
            "   2.3.41\n",
            "\n",
            "AUTHOR:\n",
            "  inconshreveable - <alan@ngrok.com>\n",
            "\n",
            "COMMANDS:\n",
            "   authtoken\tsave authtoken to configuration file\n",
            "   credits\tprints author and licensing information\n",
            "   http\t\tstart an HTTP tunnel\n",
            "   start\tstart tunnels by name from the configuration file\n",
            "   tcp\t\tstart a TCP tunnel\n",
            "   tls\t\tstart a TLS tunnel\n",
            "   update\tupdate ngrok to the latest version\n",
            "   version\tprint the version string\n",
            "   help\t\tShows a list of commands or help for one command\n",
            "\n",
            "ERROR:  Unrecognized command: config\n"
          ]
        }
      ]
    },
    {
      "cell_type": "code",
      "source": [
        "!nohup streamlit run app.py &\n",
        "!ngrok http 8501\n"
      ],
      "metadata": {
        "colab": {
          "base_uri": "https://localhost:8080/"
        },
        "id": "_hGgE6UCcntB",
        "outputId": "c69292cd-5f52-4a16-e773-b6ef144bce0f"
      },
      "execution_count": null,
      "outputs": [
        {
          "output_type": "stream",
          "name": "stdout",
          "text": [
            "nohup: appending output to 'nohup.out'\n",
            "Usage of ngrok requires a verified account and authtoken.\n",
            "\n",
            "Sign up for an account: https://dashboard.ngrok.com/signup\n",
            "Install your authtoken: https://dashboard.ngrok.com/get-started/your-authtoken\n",
            "\n",
            "ERR_NGROK_4018\n",
            "\n"
          ]
        }
      ]
    },
    {
      "cell_type": "code",
      "source": [
        "%%writefile crawler.py\n",
        "import pandas as pd\n",
        "\n",
        "def run_crawler():\n",
        "    data = {\n",
        "        \"URL\": [\n",
        "            \"https://example.com\",\n",
        "            \"https://openai.com\",\n",
        "            \"https://streamlit.io\"\n",
        "        ],\n",
        "        \"Title\": [\n",
        "            \"Example Domain\",\n",
        "            \"OpenAI – Discovering the Future of AI\",\n",
        "            \"Streamlit — The fastest way to build data apps\"\n",
        "        ],\n",
        "        \"Status\": [\n",
        "            \"200 OK\",\n",
        "            \"200 OK\",\n",
        "            \"200 OK\"\n",
        "        ]\n",
        "    }\n",
        "    return pd.DataFrame(data)\n"
      ],
      "metadata": {
        "colab": {
          "base_uri": "https://localhost:8080/"
        },
        "id": "7FKAOb2geb07",
        "outputId": "94c3d567-6176-4d1b-8a67-67c10eb79ac3"
      },
      "execution_count": null,
      "outputs": [
        {
          "output_type": "stream",
          "name": "stdout",
          "text": [
            "Writing crawler.py\n"
          ]
        }
      ]
    },
    {
      "cell_type": "code",
      "source": [
        "!pip install -q streamlit ngrok\n",
        "\n",
        "# Use your ngrok authtoken if needed\n",
        "# !ngrok config add-authtoken YOUR_TOKEN\n",
        "\n",
        "# Run Streamlit with ngrok tunnel\n",
        "!nohup streamlit run app.py & npx ngrok http 8501\n"
      ],
      "metadata": {
        "colab": {
          "base_uri": "https://localhost:8080/"
        },
        "id": "7tOKSu3zetjs",
        "outputId": "035897bd-3b72-4999-808c-5feec6e35a54"
      },
      "execution_count": null,
      "outputs": [
        {
          "output_type": "stream",
          "name": "stdout",
          "text": [
            "\u001b[?25l   \u001b[90m━━━━━━━━━━━━━━━━━━━━━━━━━━━━━━━━━━━━━━━━\u001b[0m \u001b[32m0.0/3.1 MB\u001b[0m \u001b[31m?\u001b[0m eta \u001b[36m-:--:--\u001b[0m\r\u001b[2K   \u001b[91m━━━\u001b[0m\u001b[90m╺\u001b[0m\u001b[90m━━━━━━━━━━━━━━━━━━━━━━━━━━━━━━━━━━━━\u001b[0m \u001b[32m0.3/3.1 MB\u001b[0m \u001b[31m7.5 MB/s\u001b[0m eta \u001b[36m0:00:01\u001b[0m\r\u001b[2K   \u001b[91m━━━━━━━━━━━━━━━━━━━━━\u001b[0m\u001b[90m╺\u001b[0m\u001b[90m━━━━━━━━━━━━━━━━━━\u001b[0m \u001b[32m1.7/3.1 MB\u001b[0m \u001b[31m23.9 MB/s\u001b[0m eta \u001b[36m0:00:01\u001b[0m\r\u001b[2K   \u001b[91m━━━━━━━━━━━━━━━━━━━━━━━━━━━━━━━━━━━━━━━\u001b[0m\u001b[91m╸\u001b[0m \u001b[32m3.1/3.1 MB\u001b[0m \u001b[31m37.0 MB/s\u001b[0m eta \u001b[36m0:00:01\u001b[0m\r\u001b[2K   \u001b[90m━━━━━━━━━━━━━━━━━━━━━━━━━━━━━━━━━━━━━━━━\u001b[0m \u001b[32m3.1/3.1 MB\u001b[0m \u001b[31m27.8 MB/s\u001b[0m eta \u001b[36m0:00:00\u001b[0m\n",
            "\u001b[?25hnohup: appending output to 'nohup.out'\n",
            "\u001b[1G\u001b[0K⠙\u001b[1G\u001b[0K⠹\u001b[1G\u001b[0K⠸\u001b[1G\u001b[0K⠼\u001b[1G\u001b[0K⠴\u001b[1G\u001b[0K⠦\u001b[1G\u001b[0K⠧\u001b[1G\u001b[0K⠇\u001b[1G\u001b[0K⠏\u001b[1G\u001b[0K⠋\u001b[1G\u001b[0K⠙\u001b[1G\u001b[0K\u001b[1G\u001b[0JNeed to install the following packages:\n",
            "ngrok@5.0.0-beta.2\n",
            "Ok to proceed? (y) \u001b[20Gy\n",
            "y\n",
            "y\n",
            "\n",
            "\u001b[1G\u001b[0K⠙\u001b[1G\u001b[0K⠹\u001b[1G\u001b[0K⠸\u001b[1G\u001b[0K⠼\u001b[1G\u001b[0K⠴\u001b[1G\u001b[0K⠦\u001b[1G\u001b[0K⠧\u001b[1G\u001b[0K⠇\u001b[1G\u001b[0K⠏\u001b[1G\u001b[0K⠋\u001b[1G\u001b[0K⠙\u001b[1G\u001b[0K⠹\u001b[1G\u001b[0K⠸\u001b[1G\u001b[0K⠼\u001b[1G\u001b[0K⠴\u001b[1G\u001b[0K⠦\u001b[1G\u001b[0K⠧\u001b[1G\u001b[0K⠇\u001b[1G\u001b[0K⠏\u001b[1G\u001b[0K⠋\u001b[1G\u001b[0K⠙\u001b[1G\u001b[0K⠹\u001b[1G\u001b[0K⠸\u001b[1G\u001b[0K⠼\u001b[1G\u001b[0K⠴\u001b[1G\u001b[0K⠦\u001b[1G\u001b[0K⠧\u001b[1G\u001b[0K⠇\u001b[1G\u001b[0K⠏\u001b[1G\u001b[0K⠋\u001b[1G\u001b[0K⠙\u001b[1G\u001b[0K⠹\u001b[1G\u001b[0K⠸\u001b[1G\u001b[0K⠼\u001b[1G\u001b[0K⠴\u001b[1G\u001b[0K⠦\u001b[1G\u001b[0K⠧\u001b[1G\u001b[0K⠇\u001b[1G\u001b[0K⠏\u001b[1G\u001b[0K⠋\u001b[1G\u001b[0K⠙\u001b[1G\u001b[0K⠹\u001b[1G\u001b[0K⠸\u001b[1G\u001b[0K⠼\u001b[1G\u001b[0K⠴\u001b[1G\u001b[0K⠦\u001b[1G\u001b[0K⠧\u001b[1G\u001b[0K⠇\u001b[1G\u001b[0K⠏\u001b[1G\u001b[0K⠋\u001b[1G\u001b[0K⠙\u001b[1G\u001b[0K⠹\u001b[1G\u001b[0K⠸\u001b[1G\u001b[0K⠼\u001b[1G\u001b[0K⠴\u001b[1G\u001b[0K⠦\u001b[1G\u001b[0K⠧\u001b[1G\u001b[0K⠇\u001b[1G\u001b[0K⠏\u001b[1G\u001b[0K⠋\u001b[1G\u001b[0K⠙\u001b[1G\u001b[0K⠹\u001b[1G\u001b[0K⠸\u001b[1G\u001b[0K⠼\u001b[1G\u001b[0K⠴\u001b[1G\u001b[0K⠦\u001b[1G\u001b[0K⠧\u001b[1G\u001b[0K⠇\u001b[1G\u001b[0K⠏\u001b[1G\u001b[0K⠋\u001b[1G\u001b[0K⠙\u001b[1G\u001b[0K⠹\u001b[1G\u001b[0K⠸\u001b[1G\u001b[0K⠼\u001b[1G\u001b[0K⠴\u001b[1G\u001b[0K⠦\u001b[1G\u001b[0K⠧\u001b[1G\u001b[0K\u001b[34m  Stopping...\u001b[0m\n",
            "^C\n"
          ]
        }
      ]
    },
    {
      "cell_type": "code",
      "source": [
        "!yes | npx ngrok@5.0.0-beta.2 http 8501\n"
      ],
      "metadata": {
        "colab": {
          "base_uri": "https://localhost:8080/"
        },
        "id": "XXtI81BkfH3S",
        "outputId": "e3556ce7-f53b-4718-e7b3-64c6e06a5642"
      },
      "execution_count": null,
      "outputs": [
        {
          "output_type": "stream",
          "name": "stdout",
          "text": [
            "\u001b[1G\u001b[0K⠙\u001b[1G\u001b[0K⠹\u001b[1G\u001b[0K⠸\u001b[1G\u001b[0K⠼\u001b[1G\u001b[0K⠴\u001b[1G\u001b[0K⠦\u001b[1G\u001b[0K⠧\u001b[1G\u001b[0K\u001b[1mnpm\u001b[22m \u001b[33mwarn\u001b[39m \u001b[94mexec\u001b[39m The following package was not found and will be installed: ngrok@5.0.0-beta.2\n",
            "\u001b[1G\u001b[0K⠧\u001b[1G\u001b[0K⠇\u001b[1G\u001b[0K⠏\u001b[1G\u001b[0K⠋\u001b[1G\u001b[0K⠙\u001b[1G\u001b[0K⠹\u001b[1G\u001b[0K⠸\u001b[1G\u001b[0K⠼\u001b[1G\u001b[0K⠴\u001b[1G\u001b[0K⠦\u001b[1G\u001b[0K⠧\u001b[1G\u001b[0K⠇\u001b[1G\u001b[0K⠏\u001b[1G\u001b[0K⠋\u001b[1G\u001b[0K⠙\u001b[1G\u001b[0K⠹\u001b[1G\u001b[0K⠸\u001b[1G\u001b[0K⠼\u001b[1G\u001b[0K⠴\u001b[1G\u001b[0K⠦\u001b[1G\u001b[0K⠧\u001b[1G\u001b[0K⠇\u001b[1G\u001b[0K⠏\u001b[1G\u001b[0K⠋\u001b[1G\u001b[0K⠙\u001b[1G\u001b[0K⠹\u001b[1G\u001b[0K⠸\u001b[1G\u001b[0K⠼\u001b[1G\u001b[0K⠴\u001b[1G\u001b[0K⠦\u001b[1G\u001b[0K⠧\u001b[1G\u001b[0K⠇\u001b[1G\u001b[0K^C\n"
          ]
        }
      ]
    },
    {
      "cell_type": "code",
      "source": [
        "!pip install streamlit pyngrok\n"
      ],
      "metadata": {
        "colab": {
          "base_uri": "https://localhost:8080/"
        },
        "id": "ed9FObmDfQWO",
        "outputId": "b31b9100-d207-4916-a6a8-2d3c46dafb63"
      },
      "execution_count": null,
      "outputs": [
        {
          "output_type": "stream",
          "name": "stdout",
          "text": [
            "Requirement already satisfied: streamlit in /usr/local/lib/python3.11/dist-packages (1.45.1)\n",
            "Requirement already satisfied: pyngrok in /usr/local/lib/python3.11/dist-packages (7.2.8)\n",
            "Requirement already satisfied: altair<6,>=4.0 in /usr/local/lib/python3.11/dist-packages (from streamlit) (5.5.0)\n",
            "Requirement already satisfied: blinker<2,>=1.5.0 in /usr/local/lib/python3.11/dist-packages (from streamlit) (1.9.0)\n",
            "Requirement already satisfied: cachetools<6,>=4.0 in /usr/local/lib/python3.11/dist-packages (from streamlit) (5.5.2)\n",
            "Requirement already satisfied: click<9,>=7.0 in /usr/local/lib/python3.11/dist-packages (from streamlit) (8.2.0)\n",
            "Requirement already satisfied: numpy<3,>=1.23 in /usr/local/lib/python3.11/dist-packages (from streamlit) (2.0.2)\n",
            "Requirement already satisfied: packaging<25,>=20 in /usr/local/lib/python3.11/dist-packages (from streamlit) (24.2)\n",
            "Requirement already satisfied: pandas<3,>=1.4.0 in /usr/local/lib/python3.11/dist-packages (from streamlit) (2.2.2)\n",
            "Requirement already satisfied: pillow<12,>=7.1.0 in /usr/local/lib/python3.11/dist-packages (from streamlit) (11.2.1)\n",
            "Requirement already satisfied: protobuf<7,>=3.20 in /usr/local/lib/python3.11/dist-packages (from streamlit) (5.29.4)\n",
            "Requirement already satisfied: pyarrow>=7.0 in /usr/local/lib/python3.11/dist-packages (from streamlit) (18.1.0)\n",
            "Requirement already satisfied: requests<3,>=2.27 in /usr/local/lib/python3.11/dist-packages (from streamlit) (2.32.3)\n",
            "Requirement already satisfied: tenacity<10,>=8.1.0 in /usr/local/lib/python3.11/dist-packages (from streamlit) (9.1.2)\n",
            "Requirement already satisfied: toml<2,>=0.10.1 in /usr/local/lib/python3.11/dist-packages (from streamlit) (0.10.2)\n",
            "Requirement already satisfied: typing-extensions<5,>=4.4.0 in /usr/local/lib/python3.11/dist-packages (from streamlit) (4.13.2)\n",
            "Requirement already satisfied: watchdog<7,>=2.1.5 in /usr/local/lib/python3.11/dist-packages (from streamlit) (6.0.0)\n",
            "Requirement already satisfied: gitpython!=3.1.19,<4,>=3.0.7 in /usr/local/lib/python3.11/dist-packages (from streamlit) (3.1.44)\n",
            "Requirement already satisfied: pydeck<1,>=0.8.0b4 in /usr/local/lib/python3.11/dist-packages (from streamlit) (0.9.1)\n",
            "Requirement already satisfied: tornado<7,>=6.0.3 in /usr/local/lib/python3.11/dist-packages (from streamlit) (6.4.2)\n",
            "Requirement already satisfied: PyYAML>=5.1 in /usr/local/lib/python3.11/dist-packages (from pyngrok) (6.0.2)\n",
            "Requirement already satisfied: jinja2 in /usr/local/lib/python3.11/dist-packages (from altair<6,>=4.0->streamlit) (3.1.6)\n",
            "Requirement already satisfied: jsonschema>=3.0 in /usr/local/lib/python3.11/dist-packages (from altair<6,>=4.0->streamlit) (4.23.0)\n",
            "Requirement already satisfied: narwhals>=1.14.2 in /usr/local/lib/python3.11/dist-packages (from altair<6,>=4.0->streamlit) (1.39.0)\n",
            "Requirement already satisfied: gitdb<5,>=4.0.1 in /usr/local/lib/python3.11/dist-packages (from gitpython!=3.1.19,<4,>=3.0.7->streamlit) (4.0.12)\n",
            "Requirement already satisfied: python-dateutil>=2.8.2 in /usr/local/lib/python3.11/dist-packages (from pandas<3,>=1.4.0->streamlit) (2.9.0.post0)\n",
            "Requirement already satisfied: pytz>=2020.1 in /usr/local/lib/python3.11/dist-packages (from pandas<3,>=1.4.0->streamlit) (2025.2)\n",
            "Requirement already satisfied: tzdata>=2022.7 in /usr/local/lib/python3.11/dist-packages (from pandas<3,>=1.4.0->streamlit) (2025.2)\n",
            "Requirement already satisfied: charset-normalizer<4,>=2 in /usr/local/lib/python3.11/dist-packages (from requests<3,>=2.27->streamlit) (3.4.2)\n",
            "Requirement already satisfied: idna<4,>=2.5 in /usr/local/lib/python3.11/dist-packages (from requests<3,>=2.27->streamlit) (3.10)\n",
            "Requirement already satisfied: urllib3<3,>=1.21.1 in /usr/local/lib/python3.11/dist-packages (from requests<3,>=2.27->streamlit) (2.4.0)\n",
            "Requirement already satisfied: certifi>=2017.4.17 in /usr/local/lib/python3.11/dist-packages (from requests<3,>=2.27->streamlit) (2025.4.26)\n",
            "Requirement already satisfied: smmap<6,>=3.0.1 in /usr/local/lib/python3.11/dist-packages (from gitdb<5,>=4.0.1->gitpython!=3.1.19,<4,>=3.0.7->streamlit) (5.0.2)\n",
            "Requirement already satisfied: MarkupSafe>=2.0 in /usr/local/lib/python3.11/dist-packages (from jinja2->altair<6,>=4.0->streamlit) (3.0.2)\n",
            "Requirement already satisfied: attrs>=22.2.0 in /usr/local/lib/python3.11/dist-packages (from jsonschema>=3.0->altair<6,>=4.0->streamlit) (25.3.0)\n",
            "Requirement already satisfied: jsonschema-specifications>=2023.03.6 in /usr/local/lib/python3.11/dist-packages (from jsonschema>=3.0->altair<6,>=4.0->streamlit) (2025.4.1)\n",
            "Requirement already satisfied: referencing>=0.28.4 in /usr/local/lib/python3.11/dist-packages (from jsonschema>=3.0->altair<6,>=4.0->streamlit) (0.36.2)\n",
            "Requirement already satisfied: rpds-py>=0.7.1 in /usr/local/lib/python3.11/dist-packages (from jsonschema>=3.0->altair<6,>=4.0->streamlit) (0.24.0)\n",
            "Requirement already satisfied: six>=1.5 in /usr/local/lib/python3.11/dist-packages (from python-dateutil>=2.8.2->pandas<3,>=1.4.0->streamlit) (1.17.0)\n"
          ]
        }
      ]
    },
    {
      "cell_type": "code",
      "source": [
        "from pyngrok import ngrok\n",
        "\n",
        "ngrok.set_auth_token(\"2xNJZIxkc99D6Mis5rWHwGD9CPG_62Gf5EbNBfTaUiMHSiYgQ\")  # Replace with your token\n"
      ],
      "metadata": {
        "id": "fwf__SOFfeCT"
      },
      "execution_count": null,
      "outputs": []
    },
    {
      "cell_type": "code",
      "source": [
        "!nohup streamlit run app.py &\n"
      ],
      "metadata": {
        "colab": {
          "base_uri": "https://localhost:8080/"
        },
        "id": "p5ASQRHrfmut",
        "outputId": "88552828-f98d-4ef2-9829-267dea22a1d6"
      },
      "execution_count": null,
      "outputs": [
        {
          "output_type": "stream",
          "name": "stdout",
          "text": [
            "nohup: appending output to 'nohup.out'\n"
          ]
        }
      ]
    },
    {
      "cell_type": "code",
      "source": [
        "from pyngrok import ngrok\n",
        "\n",
        "# Connect the local Streamlit server to the internet\n",
        "public_url = ngrok.connect(8501)\n",
        "print(\"🌐 Streamlit app is live at:\", public_url)\n",
        "\n"
      ],
      "metadata": {
        "colab": {
          "base_uri": "https://localhost:8080/"
        },
        "id": "H9wm6AC_ftQh",
        "outputId": "394295dc-27ca-48dd-f19c-99fe7e0cac48"
      },
      "execution_count": null,
      "outputs": [
        {
          "output_type": "stream",
          "name": "stdout",
          "text": [
            "🌐 Streamlit app is live at: NgrokTunnel: \"https://41c4-34-139-111-78.ngrok-free.app\" -> \"http://localhost:8501\"\n"
          ]
        }
      ]
    },
    {
      "cell_type": "code",
      "source": [
        "import requests\n",
        "from bs4 import BeautifulSoup\n",
        "from urllib.parse import urljoin, urlparse\n",
        "\n",
        "def is_valid_url(url):\n",
        "    parsed = urlparse(url)\n",
        "    return bool(parsed.netloc) and bool(parsed.scheme)\n",
        "\n",
        "def crawl_website(start_url, max_links=20):\n",
        "    visited = set()\n",
        "    to_visit = [start_url]\n",
        "    results = []\n",
        "\n",
        "    while to_visit and len(visited) < max_links:\n",
        "        url = to_visit.pop(0)\n",
        "        if url in visited:\n",
        "            continue\n",
        "        try:\n",
        "            response = requests.get(url, timeout=5)\n",
        "            visited.add(url)\n",
        "            soup = BeautifulSoup(response.text, \"html.parser\")\n",
        "            results.append({\n",
        "                \"url\": url,\n",
        "                \"title\": soup.title.string if soup.title else \"No Title\",\n",
        "                \"num_links\": len(soup.find_all(\"a\"))\n",
        "            })\n",
        "            for link_tag in soup.find_all(\"a\", href=True):\n",
        "                link = urljoin(url, link_tag['href'])\n",
        "                if is_valid_url(link) and link not in visited:\n",
        "                    to_visit.append(link)\n",
        "        except Exception as e:\n",
        "            results.append({\"url\": url, \"error\": str(e)})\n",
        "\n",
        "    return results\n"
      ],
      "metadata": {
        "id": "hD9veA94f9MK"
      },
      "execution_count": null,
      "outputs": []
    },
    {
      "cell_type": "code",
      "source": [
        "%%writefile crawler.py\n",
        "import requests\n",
        "from bs4 import BeautifulSoup\n",
        "from urllib.parse import urljoin, urlparse\n",
        "\n",
        "def is_valid_url(url):\n",
        "    parsed = urlparse(url)\n",
        "    return bool(parsed.netloc) and bool(parsed.scheme)\n",
        "\n",
        "def crawl_website(start_url, max_links=20):\n",
        "    visited = set()\n",
        "    to_visit = [start_url]\n",
        "    results = []\n",
        "\n",
        "    while to_visit and len(visited) < max_links:\n",
        "        url = to_visit.pop(0)\n",
        "        if url in visited:\n",
        "            continue\n",
        "        try:\n",
        "            response = requests.get(url, timeout=5)\n",
        "            visited.add(url)\n",
        "            soup = BeautifulSoup(response.text, \"html.parser\")\n",
        "            results.append({\n",
        "                \"url\": url,\n",
        "                \"title\": soup.title.string if soup.title else \"No Title\",\n",
        "                \"num_links\": len(soup.find_all(\"a\"))\n",
        "            })\n",
        "            for link_tag in soup.find_all(\"a\", href=True):\n",
        "                link = urljoin(url, link_tag['href'])\n",
        "                if is_valid_url(link) and link not in visited:\n",
        "                    to_visit.append(link)\n",
        "        except Exception as e:\n",
        "            results.append({\"url\": url, \"error\": str(e)})\n",
        "\n",
        "    return results\n"
      ],
      "metadata": {
        "colab": {
          "base_uri": "https://localhost:8080/"
        },
        "id": "Uz3c4EBJgP7E",
        "outputId": "911ef918-c61e-4c24-d952-1d081bd73f98"
      },
      "execution_count": null,
      "outputs": [
        {
          "output_type": "stream",
          "name": "stdout",
          "text": [
            "Overwriting crawler.py\n"
          ]
        }
      ]
    },
    {
      "cell_type": "code",
      "source": [
        "%%writefile app.py\n",
        "import streamlit as st\n",
        "from crawler import crawl_website\n",
        "\n",
        "st.set_page_config(page_title=\"IR Web Crawler\", layout=\"wide\")\n",
        "\n",
        "tab1, tab2, tab3 = st.tabs([\"📌 Project Overview\", \"🔍 Analysis Results\", \"📤 Download Report\"])\n",
        "\n",
        "with tab1:\n",
        "    st.title(\"IR Project: Intelligent Web Crawler & Analyzer\")\n",
        "    st.write(\"👤 omar ehab 232125 - UI & Report Designer\")\n",
        "    st.markdown(\"### Description\")\n",
        "    st.write(\"This application allows you to run a web crawler, analyze results, and download the report.\")\n",
        "\n",
        "with tab2:\n",
        "    st.subheader(\"Analysis Results\")\n",
        "    start_url = st.text_input(\"Enter a URL to crawl\", value=\"https://example.com\")\n",
        "    max_links = st.slider(\"Max pages to crawl\", 5, 50, 10)\n",
        "\n",
        "    if st.button(\"Start Crawling\"):\n",
        "        with st.spinner(\"Crawling in progress...\"):\n",
        "            results = crawl_website(start_url, max_links=max_links)\n",
        "        st.success(f\"✅ Crawled {len(results)} pages.\")\n",
        "        for res in results:\n",
        "            if \"error\" in res:\n",
        "                st.error(f\"{res['url']} - ❌ {res['error']}\")\n",
        "            else:\n",
        "                st.write(f\"🔗 [{res['title']}]({res['url']}) - {res['num_links']} links found\")\n",
        "\n",
        "with tab3:\n",
        "    st.subheader(\"Download Final Report\")\n",
        "    st.write(\"📄 This section will be implemented soon...\")\n"
      ],
      "metadata": {
        "colab": {
          "base_uri": "https://localhost:8080/"
        },
        "id": "FtEnlIBxgZDZ",
        "outputId": "5e95e558-a274-4bdc-a830-5c4701028b66"
      },
      "execution_count": null,
      "outputs": [
        {
          "output_type": "stream",
          "name": "stdout",
          "text": [
            "Overwriting app.py\n"
          ]
        }
      ]
    },
    {
      "cell_type": "code",
      "source": [
        "!nohup streamlit run app.py &\n"
      ],
      "metadata": {
        "colab": {
          "base_uri": "https://localhost:8080/"
        },
        "id": "77jZxuyjgcbZ",
        "outputId": "4d59fd09-fccd-4eef-cf01-97e2ad172205"
      },
      "execution_count": null,
      "outputs": [
        {
          "output_type": "stream",
          "name": "stdout",
          "text": [
            "nohup: appending output to 'nohup.out'\n"
          ]
        }
      ]
    },
    {
      "cell_type": "code",
      "source": [
        "from pyngrok import ngrok\n",
        "public_url = ngrok.connect(8501)\n",
        "print(f\"🌐 App URL: {public_url}\")\n"
      ],
      "metadata": {
        "colab": {
          "base_uri": "https://localhost:8080/"
        },
        "id": "wqNy5MGngfND",
        "outputId": "f0fbff2c-b223-4ec0-ea36-3aa22c580da3"
      },
      "execution_count": null,
      "outputs": [
        {
          "output_type": "stream",
          "name": "stdout",
          "text": [
            "🌐 App URL: NgrokTunnel: \"https://20a9-34-139-111-78.ngrok-free.app\" -> \"http://localhost:8501\"\n"
          ]
        }
      ]
    },
    {
      "cell_type": "code",
      "source": [
        "pip install streamlit beautifulsoup4 requests fpdf pandas altair\n"
      ],
      "metadata": {
        "colab": {
          "base_uri": "https://localhost:8080/"
        },
        "id": "ZmVnReinjIY2",
        "outputId": "bf9397c5-b555-4f35-d4ad-ee37beb5dce5"
      },
      "execution_count": null,
      "outputs": [
        {
          "output_type": "stream",
          "name": "stdout",
          "text": [
            "Requirement already satisfied: streamlit in /usr/local/lib/python3.11/dist-packages (1.45.1)\n",
            "Requirement already satisfied: beautifulsoup4 in /usr/local/lib/python3.11/dist-packages (4.13.4)\n",
            "Requirement already satisfied: requests in /usr/local/lib/python3.11/dist-packages (2.32.3)\n",
            "Collecting fpdf\n",
            "  Downloading fpdf-1.7.2.tar.gz (39 kB)\n",
            "  Preparing metadata (setup.py) ... \u001b[?25l\u001b[?25hdone\n",
            "Requirement already satisfied: pandas in /usr/local/lib/python3.11/dist-packages (2.2.2)\n",
            "Requirement already satisfied: altair in /usr/local/lib/python3.11/dist-packages (5.5.0)\n",
            "Requirement already satisfied: blinker<2,>=1.5.0 in /usr/local/lib/python3.11/dist-packages (from streamlit) (1.9.0)\n",
            "Requirement already satisfied: cachetools<6,>=4.0 in /usr/local/lib/python3.11/dist-packages (from streamlit) (5.5.2)\n",
            "Requirement already satisfied: click<9,>=7.0 in /usr/local/lib/python3.11/dist-packages (from streamlit) (8.2.0)\n",
            "Requirement already satisfied: numpy<3,>=1.23 in /usr/local/lib/python3.11/dist-packages (from streamlit) (2.0.2)\n",
            "Requirement already satisfied: packaging<25,>=20 in /usr/local/lib/python3.11/dist-packages (from streamlit) (24.2)\n",
            "Requirement already satisfied: pillow<12,>=7.1.0 in /usr/local/lib/python3.11/dist-packages (from streamlit) (11.2.1)\n",
            "Requirement already satisfied: protobuf<7,>=3.20 in /usr/local/lib/python3.11/dist-packages (from streamlit) (5.29.4)\n",
            "Requirement already satisfied: pyarrow>=7.0 in /usr/local/lib/python3.11/dist-packages (from streamlit) (18.1.0)\n",
            "Requirement already satisfied: tenacity<10,>=8.1.0 in /usr/local/lib/python3.11/dist-packages (from streamlit) (9.1.2)\n",
            "Requirement already satisfied: toml<2,>=0.10.1 in /usr/local/lib/python3.11/dist-packages (from streamlit) (0.10.2)\n",
            "Requirement already satisfied: typing-extensions<5,>=4.4.0 in /usr/local/lib/python3.11/dist-packages (from streamlit) (4.13.2)\n",
            "Requirement already satisfied: watchdog<7,>=2.1.5 in /usr/local/lib/python3.11/dist-packages (from streamlit) (6.0.0)\n",
            "Requirement already satisfied: gitpython!=3.1.19,<4,>=3.0.7 in /usr/local/lib/python3.11/dist-packages (from streamlit) (3.1.44)\n",
            "Requirement already satisfied: pydeck<1,>=0.8.0b4 in /usr/local/lib/python3.11/dist-packages (from streamlit) (0.9.1)\n",
            "Requirement already satisfied: tornado<7,>=6.0.3 in /usr/local/lib/python3.11/dist-packages (from streamlit) (6.4.2)\n",
            "Requirement already satisfied: soupsieve>1.2 in /usr/local/lib/python3.11/dist-packages (from beautifulsoup4) (2.7)\n",
            "Requirement already satisfied: charset-normalizer<4,>=2 in /usr/local/lib/python3.11/dist-packages (from requests) (3.4.2)\n",
            "Requirement already satisfied: idna<4,>=2.5 in /usr/local/lib/python3.11/dist-packages (from requests) (3.10)\n",
            "Requirement already satisfied: urllib3<3,>=1.21.1 in /usr/local/lib/python3.11/dist-packages (from requests) (2.4.0)\n",
            "Requirement already satisfied: certifi>=2017.4.17 in /usr/local/lib/python3.11/dist-packages (from requests) (2025.4.26)\n",
            "Requirement already satisfied: python-dateutil>=2.8.2 in /usr/local/lib/python3.11/dist-packages (from pandas) (2.9.0.post0)\n",
            "Requirement already satisfied: pytz>=2020.1 in /usr/local/lib/python3.11/dist-packages (from pandas) (2025.2)\n",
            "Requirement already satisfied: tzdata>=2022.7 in /usr/local/lib/python3.11/dist-packages (from pandas) (2025.2)\n",
            "Requirement already satisfied: jinja2 in /usr/local/lib/python3.11/dist-packages (from altair) (3.1.6)\n",
            "Requirement already satisfied: jsonschema>=3.0 in /usr/local/lib/python3.11/dist-packages (from altair) (4.23.0)\n",
            "Requirement already satisfied: narwhals>=1.14.2 in /usr/local/lib/python3.11/dist-packages (from altair) (1.39.0)\n",
            "Requirement already satisfied: gitdb<5,>=4.0.1 in /usr/local/lib/python3.11/dist-packages (from gitpython!=3.1.19,<4,>=3.0.7->streamlit) (4.0.12)\n",
            "Requirement already satisfied: attrs>=22.2.0 in /usr/local/lib/python3.11/dist-packages (from jsonschema>=3.0->altair) (25.3.0)\n",
            "Requirement already satisfied: jsonschema-specifications>=2023.03.6 in /usr/local/lib/python3.11/dist-packages (from jsonschema>=3.0->altair) (2025.4.1)\n",
            "Requirement already satisfied: referencing>=0.28.4 in /usr/local/lib/python3.11/dist-packages (from jsonschema>=3.0->altair) (0.36.2)\n",
            "Requirement already satisfied: rpds-py>=0.7.1 in /usr/local/lib/python3.11/dist-packages (from jsonschema>=3.0->altair) (0.24.0)\n",
            "Requirement already satisfied: MarkupSafe>=2.0 in /usr/local/lib/python3.11/dist-packages (from jinja2->altair) (3.0.2)\n",
            "Requirement already satisfied: six>=1.5 in /usr/local/lib/python3.11/dist-packages (from python-dateutil>=2.8.2->pandas) (1.17.0)\n",
            "Requirement already satisfied: smmap<6,>=3.0.1 in /usr/local/lib/python3.11/dist-packages (from gitdb<5,>=4.0.1->gitpython!=3.1.19,<4,>=3.0.7->streamlit) (5.0.2)\n",
            "Building wheels for collected packages: fpdf\n",
            "  Building wheel for fpdf (setup.py) ... \u001b[?25l\u001b[?25hdone\n",
            "  Created wheel for fpdf: filename=fpdf-1.7.2-py2.py3-none-any.whl size=40704 sha256=9ac4a56a7e5d761d21b0c3a4477fe8e2bfc7e2f287447610c91038deb8d9ff13\n",
            "  Stored in directory: /root/.cache/pip/wheels/65/4f/66/bbda9866da446a72e206d6484cd97381cbc7859a7068541c36\n",
            "Successfully built fpdf\n",
            "Installing collected packages: fpdf\n",
            "Successfully installed fpdf-1.7.2\n"
          ]
        }
      ]
    }
  ]
}